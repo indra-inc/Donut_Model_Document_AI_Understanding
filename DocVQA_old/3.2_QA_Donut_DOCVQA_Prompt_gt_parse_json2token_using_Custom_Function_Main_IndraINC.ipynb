{
  "cells": [
    {
      "cell_type": "markdown",
      "source": [
        "## Notebook-1: Custom Function Creation Based experiment on Huggingface Dataset"
      ],
      "metadata": {
        "id": "vfY8ranTT0Vh"
      }
    },
    {
      "cell_type": "markdown",
      "metadata": {
        "id": "HIzwuLK6Jrgz"
      },
      "source": [
        "### Notebook Contents and Objective on Notebook-1 and Notebook-2:\n",
        "\n",
        "#### Notebook-1: Custom Function Based experiment\n",
        "This notebook will cover Important part to prepare Donut Dataset for all task but here only we experimented on DOCVQA datset\n",
        "\n",
        "- 1. Detail experiment of Donut ground truth and gt_parse structure formation and create add_ground_truth custom function\n",
        "- 2. create add_tokens custom function and its embedding\n",
        "- 3. json2token experiment and create custom function to make proper prmpt sequence\n",
        "- 4. tokenize and PyTorch tensor conversion of input image pizel, decoder input ids and labels which is the masking clone of decodder input ids from huggingface dataset\n",
        "- 5. Convert huggingface dataset to PyTorch Dataset also taking only three variables (input image pixel values, decoder input ids and labels mask tensor) which will be mainly required for our DONUT model and then these tensor will be processed for model building\n",
        "\n",
        "#### Notebook-2: OOPs Based experiment\n",
        "This notebook will be mainly focused on creating Donut Dataset class from PyTorch and it will combine all the above task inside one class using OOPs\n",
        "- 1. Creating custom function for ground truth task i.e. 'gt_parses'\n",
        "- 2. Creating DonutDataset class which consists of all rest task such as add_tokens, json2tokens, tokenize and tensor formation which will directly convert huggingface dataset to Pytorch dataset and will return input image pixel values, decoder input ids and labels mask tensors for further Donut model buiding task using PyTorch"
      ]
    },
    {
      "cell_type": "markdown",
      "source": [
        "### Importing necessary Dependencies"
      ],
      "metadata": {
        "id": "TKeS0d3ZS9Xa"
      }
    },
    {
      "cell_type": "code",
      "execution_count": 1,
      "metadata": {
        "id": "bgL_nkryH7nH",
        "colab": {
          "base_uri": "https://localhost:8080/"
        },
        "outputId": "17aa3010-7d0c-40fe-feab-b21d9d039d38"
      },
      "outputs": [
        {
          "output_type": "stream",
          "name": "stdout",
          "text": [
            "\u001b[2K     \u001b[90m━━━━━━━━━━━━━━━━━━━━━━━━━━━━━━━━━━━━━━━━\u001b[0m \u001b[32m7.4/7.4 MB\u001b[0m \u001b[31m48.2 MB/s\u001b[0m eta \u001b[36m0:00:00\u001b[0m\n",
            "\u001b[2K     \u001b[90m━━━━━━━━━━━━━━━━━━━━━━━━━━━━━━━━━━━━━━\u001b[0m \u001b[32m268.8/268.8 kB\u001b[0m \u001b[31m26.1 MB/s\u001b[0m eta \u001b[36m0:00:00\u001b[0m\n",
            "\u001b[2K     \u001b[90m━━━━━━━━━━━━━━━━━━━━━━━━━━━━━━━━━━━━━━━━\u001b[0m \u001b[32m7.8/7.8 MB\u001b[0m \u001b[31m95.7 MB/s\u001b[0m eta \u001b[36m0:00:00\u001b[0m\n",
            "\u001b[2K     \u001b[90m━━━━━━━━━━━━━━━━━━━━━━━━━━━━━━━━━━━━━━━━\u001b[0m \u001b[32m1.3/1.3 MB\u001b[0m \u001b[31m69.2 MB/s\u001b[0m eta \u001b[36m0:00:00\u001b[0m\n",
            "\u001b[2K     \u001b[90m━━━━━━━━━━━━━━━━━━━━━━━━━━━━━━━━━━━━━━━\u001b[0m \u001b[32m492.4/492.4 kB\u001b[0m \u001b[31m7.1 MB/s\u001b[0m eta \u001b[36m0:00:00\u001b[0m\n",
            "\u001b[2K     \u001b[90m━━━━━━━━━━━━━━━━━━━━━━━━━━━━━━━━━━━━━━\u001b[0m \u001b[32m115.3/115.3 kB\u001b[0m \u001b[31m12.9 MB/s\u001b[0m eta \u001b[36m0:00:00\u001b[0m\n",
            "\u001b[2K     \u001b[90m━━━━━━━━━━━━━━━━━━━━━━━━━━━━━━━━━━━━━━\u001b[0m \u001b[32m194.1/194.1 kB\u001b[0m \u001b[31m20.2 MB/s\u001b[0m eta \u001b[36m0:00:00\u001b[0m\n",
            "\u001b[2K     \u001b[90m━━━━━━━━━━━━━━━━━━━━━━━━━━━━━━━━━━━━━━\u001b[0m \u001b[32m134.8/134.8 kB\u001b[0m \u001b[31m13.6 MB/s\u001b[0m eta \u001b[36m0:00:00\u001b[0m\n",
            "\u001b[?25h"
          ]
        }
      ],
      "source": [
        "!pip install -q transformers\n",
        "!pip install -q datasets"
      ]
    },
    {
      "cell_type": "code",
      "execution_count": 2,
      "metadata": {
        "id": "4RebjH0JIHBX",
        "colab": {
          "base_uri": "https://localhost:8080/"
        },
        "outputId": "e56e413c-4165-4d3b-b7fb-7b9a6b6b5e01"
      },
      "outputs": [
        {
          "output_type": "stream",
          "name": "stdout",
          "text": [
            "Requirement already satisfied: transformers[sentencepiece] in /usr/local/lib/python3.10/dist-packages (4.31.0)\n",
            "Requirement already satisfied: filelock in /usr/local/lib/python3.10/dist-packages (from transformers[sentencepiece]) (3.12.2)\n",
            "Requirement already satisfied: huggingface-hub<1.0,>=0.14.1 in /usr/local/lib/python3.10/dist-packages (from transformers[sentencepiece]) (0.16.4)\n",
            "Requirement already satisfied: numpy>=1.17 in /usr/local/lib/python3.10/dist-packages (from transformers[sentencepiece]) (1.22.4)\n",
            "Requirement already satisfied: packaging>=20.0 in /usr/local/lib/python3.10/dist-packages (from transformers[sentencepiece]) (23.1)\n",
            "Requirement already satisfied: pyyaml>=5.1 in /usr/local/lib/python3.10/dist-packages (from transformers[sentencepiece]) (6.0.1)\n",
            "Requirement already satisfied: regex!=2019.12.17 in /usr/local/lib/python3.10/dist-packages (from transformers[sentencepiece]) (2022.10.31)\n",
            "Requirement already satisfied: requests in /usr/local/lib/python3.10/dist-packages (from transformers[sentencepiece]) (2.27.1)\n",
            "Requirement already satisfied: tokenizers!=0.11.3,<0.14,>=0.11.1 in /usr/local/lib/python3.10/dist-packages (from transformers[sentencepiece]) (0.13.3)\n",
            "Requirement already satisfied: safetensors>=0.3.1 in /usr/local/lib/python3.10/dist-packages (from transformers[sentencepiece]) (0.3.1)\n",
            "Requirement already satisfied: tqdm>=4.27 in /usr/local/lib/python3.10/dist-packages (from transformers[sentencepiece]) (4.65.0)\n",
            "Collecting sentencepiece!=0.1.92,>=0.1.91 (from transformers[sentencepiece])\n",
            "  Downloading sentencepiece-0.1.99-cp310-cp310-manylinux_2_17_x86_64.manylinux2014_x86_64.whl (1.3 MB)\n",
            "\u001b[2K     \u001b[90m━━━━━━━━━━━━━━━━━━━━━━━━━━━━━━━━━━━━━━━━\u001b[0m \u001b[32m1.3/1.3 MB\u001b[0m \u001b[31m13.9 MB/s\u001b[0m eta \u001b[36m0:00:00\u001b[0m\n",
            "\u001b[?25hRequirement already satisfied: protobuf in /usr/local/lib/python3.10/dist-packages (from transformers[sentencepiece]) (3.20.3)\n",
            "Requirement already satisfied: fsspec in /usr/local/lib/python3.10/dist-packages (from huggingface-hub<1.0,>=0.14.1->transformers[sentencepiece]) (2023.6.0)\n",
            "Requirement already satisfied: typing-extensions>=3.7.4.3 in /usr/local/lib/python3.10/dist-packages (from huggingface-hub<1.0,>=0.14.1->transformers[sentencepiece]) (4.7.1)\n",
            "Requirement already satisfied: urllib3<1.27,>=1.21.1 in /usr/local/lib/python3.10/dist-packages (from requests->transformers[sentencepiece]) (1.26.16)\n",
            "Requirement already satisfied: certifi>=2017.4.17 in /usr/local/lib/python3.10/dist-packages (from requests->transformers[sentencepiece]) (2023.7.22)\n",
            "Requirement already satisfied: charset-normalizer~=2.0.0 in /usr/local/lib/python3.10/dist-packages (from requests->transformers[sentencepiece]) (2.0.12)\n",
            "Requirement already satisfied: idna<4,>=2.5 in /usr/local/lib/python3.10/dist-packages (from requests->transformers[sentencepiece]) (3.4)\n",
            "Installing collected packages: sentencepiece\n",
            "Successfully installed sentencepiece-0.1.99\n"
          ]
        }
      ],
      "source": [
        "!pip install transformers[sentencepiece]"
      ]
    },
    {
      "cell_type": "code",
      "execution_count": 3,
      "metadata": {
        "colab": {
          "base_uri": "https://localhost:8080/"
        },
        "id": "0xh0dbQeIG8n",
        "outputId": "a9d33a59-c357-482a-e076-ab9777a12f8a"
      },
      "outputs": [
        {
          "output_type": "stream",
          "name": "stdout",
          "text": [
            "Mounted at /content/drive\n"
          ]
        }
      ],
      "source": [
        "from google.colab import drive\n",
        "drive.mount('/content/drive')"
      ]
    },
    {
      "cell_type": "code",
      "execution_count": 4,
      "metadata": {
        "colab": {
          "base_uri": "https://localhost:8080/"
        },
        "id": "wo8jir0UIG6P",
        "outputId": "be1d6693-dbfe-434b-ee2c-9e916d598eb8"
      },
      "outputs": [
        {
          "output_type": "stream",
          "name": "stdout",
          "text": [
            "CUDA available: False\n"
          ]
        }
      ],
      "source": [
        "import numpy as np\n",
        "import pandas as pd\n",
        "import os\n",
        "import json\n",
        "from google.colab import data_table\n",
        "import datasets\n",
        "from datasets import Dataset\n",
        "import json\n",
        "import re\n",
        "import random\n",
        "from typing import Any, List, Tuple\n",
        "\n",
        "from PIL import Image\n",
        "import torch\n",
        "print(\"CUDA available:\", torch.cuda.is_available())\n",
        "# from donut import DonutModel\n",
        "import transformers\n",
        "from transformers import DonutProcessor, VisionEncoderDecoderConfig, VisionEncoderDecoderModel, BartConfig\n",
        "from torch.utils.data import DataLoader\n"
      ]
    },
    {
      "cell_type": "code",
      "execution_count": 5,
      "metadata": {
        "colab": {
          "base_uri": "https://localhost:8080/",
          "height": 290,
          "referenced_widgets": [
            "be3c74dcb3114d3a90082acca7ad2223",
            "456dc30d7b134ef2b32255c863b06473",
            "a32da3c8b6a24120a4a11773f61a0f7f",
            "eeaa5916b4364281b138556a3b963243",
            "90bfe6dd06ff4f27aa9d78588fc4f730",
            "6c433a1e1b454f98a212f4a7214d3627",
            "9e21d511755247cb9b6ae4b7d022f5e3",
            "eaa7ce6ed90c4ae2ab77aae904586503",
            "f6baf31ccdc34472b1e9378b4bd00636",
            "57ca197987864ae9b01748187ea957c4",
            "ec0dc3cc15b041efbaecdaff7cbf48d9",
            "8c7103bf2ec2407eb3929edf46439ae4",
            "a5886cec77d646f596d8aa7ec885331d",
            "343153dd122a45fb9c824d82e35ef9ff",
            "cc7ee13be49c4b64905ecd2b62f58fab",
            "1b580cd8dbeb4c3fa793d39633543fdc",
            "d8636afb52814d11a90421a6a5f71746",
            "1eb559f4492c42aaa1af0093a0713f59",
            "60ea87899c824a3381533c3643bef276",
            "6932c9cf95b34b3093c4368f2addff31",
            "63d572fb49e9488bac610541594c4c6e",
            "2562e69123e34365badb9ada2f6595f4",
            "ca0f89314d7a4671bc14fddc94c07d71",
            "f429ac6d39ee4cf9a03a9e49829f7701",
            "9eb64ed8e7d843639fae5e09bab6808a",
            "9c1e52f380014cf48914d5cb06b989b7",
            "b96090033e9f406382847e800264bea6",
            "3b0d0551e459485c9ecea1ffb4034b2f",
            "21a7873e12aa421b80921366d651c732",
            "ac3418e3808a42a5b3c75814f241f877",
            "2b6dd5f20b9942828a3147c0be0f6e2a",
            "3140d0e9a72b4508a87c69195c99c6a0",
            "5e5caa0831ff4420a3ff3c46ac512a00",
            "e5966f0b96624e37bb7aae49a111d0bd",
            "55b0c7a8634442f9bb50c3cf6371cd47",
            "a69b35bfc67349b786b65f5172d07101",
            "e2d4114515e04757b3be7361b5b47871",
            "d44205efab514ca5911fd4575fc74809",
            "34281043afdd49f9a85eb03d7fab3067",
            "7ef4270b3db24dec81b8500fe0d3acec",
            "7c19a297af5f46e6b0e26b244f88a2a2",
            "074592adeab0409aa0f2a87d2f3bff97",
            "8b9ffa0757584f02840742521d86fcbc",
            "c90b892ea7574f498f9025d54a00b43b",
            "a4e1d39ef906461e900f01d0456f03cf",
            "bd9bbff7908740378b644fffeabb8ccc",
            "81f7ef6cff9842f9b5842aeeb72488ca",
            "7c12fbb58d2c4620ae0de0e1a15445df",
            "713173cb59bc4272a790e7bd90dbdfe0",
            "e8249a8be8ce433991d3cc742ae8b8e0",
            "d396a45dd0124065a117e79ad2c2ddeb",
            "3324527a39c44240b5f5bcae19470af6",
            "0694642d4bfe46beb135065dced2c5c5",
            "aa64efb44c034e39a9f0c9fde68cd89d",
            "e37a0e9590c046e9aed8d97700339d49",
            "70d634174741430a9cad522bc199c9dc",
            "a2052f456edd45898d10cca33a8d09f3",
            "1e12d2d565084e1da1b0d1dcaa509737",
            "7e0acc58f5af46cda1626d98d3136ee7",
            "341e5f2f5c7146aabca6b81145ee402c",
            "f42cfbd043454dc9979698bb7e143219",
            "4041887849424728a3ae496dfedd67ef",
            "5cf83444144a4c639a4351fa8f647eca",
            "6953904816a24a68807349c0d8283780",
            "f356de74c0a943e5bdfb937d01744422",
            "2451e7dc0f80425895447ce48b849291",
            "50590638745c4e948e5dfe3e12535e1f",
            "f756c50a9007451f8a9a35ca2ccc354c",
            "5197731a9cff46ae9a26169bf04fa8ef",
            "363840db78a7409e928428300030163d",
            "74f50eed152b4545aa9a01dcc1d992b2",
            "d81ebbce6162448caf1d09b010ad847d",
            "391d94ccbd594e928c7ee350ed1c0d67",
            "c69ac976e99c41fcb6a29e4d69b8de8c",
            "7e05d31e51de46f18c2500aab2629a99",
            "3ecd151eedca481ead8507d482136415",
            "4aa2766226de445e9375b6c90955545e",
            "b50bfe69ae0e4e029d3b3d947906cc6c",
            "98361f341c85464cbbca842697d2e1da",
            "6226145706c640fbb87ddef30da697ee",
            "7a9b7201ec974bf98d0b0f4cff48bdb4",
            "69f00ccaba44451399520009cb7a0f93",
            "2c90fce1a8564c3d82afdb8d4a0f325f",
            "3f609351c088418c8c4038b6329becdb",
            "4e6a4d3bf67c461eafc4e2c3cca4845f",
            "b1efe213f8aa4c76970bcb65d8010068",
            "9bae6f5c3d53474f9c4f805f3be3e726",
            "8611442cfc78480b894f322685e7676f"
          ]
        },
        "id": "wVd_JELDQNxw",
        "outputId": "3cb798aa-c6d0-46e0-e98e-f0fe826e57a7"
      },
      "outputs": [
        {
          "output_type": "display_data",
          "data": {
            "text/plain": [
              "Downloading (…)lve/main/config.json:   0%|          | 0.00/4.74k [00:00<?, ?B/s]"
            ],
            "application/vnd.jupyter.widget-view+json": {
              "version_major": 2,
              "version_minor": 0,
              "model_id": "be3c74dcb3114d3a90082acca7ad2223"
            }
          },
          "metadata": {}
        },
        {
          "output_type": "display_data",
          "data": {
            "text/plain": [
              "Downloading (…)rocessor_config.json:   0%|          | 0.00/362 [00:00<?, ?B/s]"
            ],
            "application/vnd.jupyter.widget-view+json": {
              "version_major": 2,
              "version_minor": 0,
              "model_id": "8c7103bf2ec2407eb3929edf46439ae4"
            }
          },
          "metadata": {}
        },
        {
          "output_type": "stream",
          "name": "stderr",
          "text": [
            "Could not find image processor class in the image processor config or the model config. Loading based on pattern matching with the model's feature extractor configuration.\n"
          ]
        },
        {
          "output_type": "display_data",
          "data": {
            "text/plain": [
              "Downloading (…)okenizer_config.json:   0%|          | 0.00/518 [00:00<?, ?B/s]"
            ],
            "application/vnd.jupyter.widget-view+json": {
              "version_major": 2,
              "version_minor": 0,
              "model_id": "ca0f89314d7a4671bc14fddc94c07d71"
            }
          },
          "metadata": {}
        },
        {
          "output_type": "display_data",
          "data": {
            "text/plain": [
              "Downloading (…)tencepiece.bpe.model:   0%|          | 0.00/1.30M [00:00<?, ?B/s]"
            ],
            "application/vnd.jupyter.widget-view+json": {
              "version_major": 2,
              "version_minor": 0,
              "model_id": "e5966f0b96624e37bb7aae49a111d0bd"
            }
          },
          "metadata": {}
        },
        {
          "output_type": "display_data",
          "data": {
            "text/plain": [
              "Downloading (…)/main/tokenizer.json:   0%|          | 0.00/4.01M [00:00<?, ?B/s]"
            ],
            "application/vnd.jupyter.widget-view+json": {
              "version_major": 2,
              "version_minor": 0,
              "model_id": "a4e1d39ef906461e900f01d0456f03cf"
            }
          },
          "metadata": {}
        },
        {
          "output_type": "display_data",
          "data": {
            "text/plain": [
              "Downloading (…)in/added_tokens.json:   0%|          | 0.00/71.0 [00:00<?, ?B/s]"
            ],
            "application/vnd.jupyter.widget-view+json": {
              "version_major": 2,
              "version_minor": 0,
              "model_id": "70d634174741430a9cad522bc199c9dc"
            }
          },
          "metadata": {}
        },
        {
          "output_type": "display_data",
          "data": {
            "text/plain": [
              "Downloading (…)cial_tokens_map.json:   0%|          | 0.00/355 [00:00<?, ?B/s]"
            ],
            "application/vnd.jupyter.widget-view+json": {
              "version_major": 2,
              "version_minor": 0,
              "model_id": "50590638745c4e948e5dfe3e12535e1f"
            }
          },
          "metadata": {}
        },
        {
          "output_type": "display_data",
          "data": {
            "text/plain": [
              "Downloading pytorch_model.bin:   0%|          | 0.00/809M [00:00<?, ?B/s]"
            ],
            "application/vnd.jupyter.widget-view+json": {
              "version_major": 2,
              "version_minor": 0,
              "model_id": "b50bfe69ae0e4e029d3b3d947906cc6c"
            }
          },
          "metadata": {}
        }
      ],
      "source": [
        "model_checkpoint = \"naver-clova-ix/donut-base\"\n",
        "max_length = 128\n",
        "image_size = [1280, 960]\n",
        "\n",
        "\n",
        "config = VisionEncoderDecoderConfig.from_pretrained(model_checkpoint)\n",
        "config.encoder.image_size = image_size # (height, width)\n",
        "# update max_length of the decoder (for generation)\n",
        "config.decoder.max_length = max_length\n",
        "\n",
        "processor = DonutProcessor.from_pretrained(model_checkpoint)\n",
        "model = VisionEncoderDecoderModel.from_pretrained(model_checkpoint, config=config)"
      ]
    },
    {
      "cell_type": "markdown",
      "source": [
        "## S-1: Intial Steps to till Ground Truth"
      ],
      "metadata": {
        "id": "Qw0D3HoDygsN"
      }
    },
    {
      "cell_type": "code",
      "execution_count": 6,
      "metadata": {
        "colab": {
          "base_uri": "https://localhost:8080/"
        },
        "id": "BKOR-Mc9IG32",
        "outputId": "916b5df4-2bb5-4bc8-a3eb-6cf99af964c9"
      },
      "outputs": [
        {
          "output_type": "stream",
          "name": "stderr",
          "text": [
            "<ipython-input-6-f4858d3802c0>:20: SettingWithCopyWarning: \n",
            "A value is trying to be set on a copy of a slice from a DataFrame.\n",
            "Try using .loc[row_indexer,col_indexer] = value instead\n",
            "\n",
            "See the caveats in the documentation: https://pandas.pydata.org/pandas-docs/stable/user_guide/indexing.html#returning-a-view-versus-a-copy\n",
            "  df_sub['full_path_image'] = df_sub['image'].apply(join_paths)\n",
            "<ipython-input-6-f4858d3802c0>:54: SettingWithCopyWarning: \n",
            "A value is trying to be set on a copy of a slice from a DataFrame.\n",
            "Try using .loc[row_indexer,col_indexer] = value instead\n",
            "\n",
            "See the caveats in the documentation: https://pandas.pydata.org/pandas-docs/stable/user_guide/indexing.html#returning-a-view-versus-a-copy\n",
            "  df['bounding_boxes'] = bbox_list\n",
            "<ipython-input-6-f4858d3802c0>:55: SettingWithCopyWarning: \n",
            "A value is trying to be set on a copy of a slice from a DataFrame.\n",
            "Try using .loc[row_indexer,col_indexer] = value instead\n",
            "\n",
            "See the caveats in the documentation: https://pandas.pydata.org/pandas-docs/stable/user_guide/indexing.html#returning-a-view-versus-a-copy\n",
            "  df['word_list'] = word_list\n",
            "<ipython-input-6-f4858d3802c0>:57: SettingWithCopyWarning: \n",
            "A value is trying to be set on a copy of a slice from a DataFrame\n",
            "\n",
            "See the caveats in the documentation: https://pandas.pydata.org/pandas-docs/stable/user_guide/indexing.html#returning-a-view-versus-a-copy\n",
            "  df.drop(['questionId', 'image','ucsf_document_id', 'ucsf_document_page_no'], axis=1, inplace=True)\n"
          ]
        }
      ],
      "source": [
        "train_path_main = '/content/drive/MyDrive/docVqa_dataset/train/train_v1.0.json'\n",
        "# Open the JSON file\n",
        "with open(train_path_main, 'r') as file:\n",
        "  # Load the contents of the file into a dictionary\n",
        "  data_train = json.load(file)\n",
        "\n",
        "## Convert 'data' list into dataframe by passing into the dataframe\n",
        "df_train = pd.DataFrame(data_train['data'])\n",
        "\n",
        "## Making subset of the training dataframe\n",
        "df_sub = df_train.iloc[:10]\n",
        "\n",
        "base_train_path = '/content/drive/MyDrive/docVqa_dataset/train'\n",
        "\n",
        "# Define a function to join the base path with the image path\n",
        "def join_paths(image_path):\n",
        "    return os.path.join(base_train_path, image_path)\n",
        "\n",
        "# Apply the function to create a new column with the full image path\n",
        "df_sub['full_path_image'] = df_sub['image'].apply(join_paths)\n",
        "\n",
        "\n",
        "def extract_ocr_info(df, base_train_dir):\n",
        "\n",
        "  dir_list = os.listdir(base_train_dir)\n",
        "  ocr_base_dir = os.path.join(base_train_dir, dir_list[1])\n",
        "\n",
        "  # Create empty lists for bounding boxes and word lists\n",
        "  bbox_list = []\n",
        "  word_list = []\n",
        "\n",
        "  # Iterate over each row in the DataFrame\n",
        "  for _, row in df.iterrows():\n",
        "\n",
        "    # Construct the ocr_path for the row\n",
        "    ocr_path = os.path.join(ocr_base_dir, row['ucsf_document_id'] + '_' + row['ucsf_document_page_no'] + '.json')\n",
        "\n",
        "    # Open the json file and load the data\n",
        "    with open(ocr_path, 'r') as f:\n",
        "      ocr_json = json.load(f)\n",
        "\n",
        "    # Extract the bounding boxes and word lists from the json data\n",
        "    bbox_row = []\n",
        "    word_row = []\n",
        "    for i in ocr_json['recognitionResults'][0]['lines']:\n",
        "      for j in i['words']:\n",
        "        bbox_row.append(j['boundingBox'])\n",
        "        word_row.append(j['text'])\n",
        "\n",
        "    # Append the bbox and word lists to the global lists\n",
        "    bbox_list.append(bbox_row)\n",
        "    word_list.append(word_row)\n",
        "  # Create new columns in the DataFrame to store the bbox and words lists\n",
        "  df['bounding_boxes'] = bbox_list\n",
        "  df['word_list'] = word_list\n",
        "\n",
        "  df.drop(['questionId', 'image','ucsf_document_id', 'ucsf_document_page_no'], axis=1, inplace=True)\n",
        "\n",
        "  # Return the updated DataFrame\n",
        "  return df\n",
        "\n",
        "\n",
        "df_sub_ocr = extract_ocr_info(df_sub, base_train_path)\n",
        "\n",
        "## Convert dataframe into dataset object\n",
        "hf_sub_ocr = Dataset.from_pandas(df_sub_ocr)\n"
      ]
    },
    {
      "cell_type": "code",
      "execution_count": 7,
      "metadata": {
        "colab": {
          "base_uri": "https://localhost:8080/"
        },
        "id": "9HKEKAPYIG1W",
        "outputId": "44f53527-dba7-4487-d93f-128de10e13bf"
      },
      "outputs": [
        {
          "output_type": "execute_result",
          "data": {
            "text/plain": [
              "Dataset({\n",
              "    features: ['question', 'docId', 'answers', 'data_split', 'full_path_image', 'bounding_boxes', 'word_list'],\n",
              "    num_rows: 10\n",
              "})"
            ]
          },
          "metadata": {},
          "execution_count": 7
        }
      ],
      "source": [
        "hf_sub_ocr    ## Row column check"
      ]
    },
    {
      "cell_type": "code",
      "execution_count": 8,
      "metadata": {
        "colab": {
          "base_uri": "https://localhost:8080/"
        },
        "id": "6ssVSlHiIGyu",
        "outputId": "7601b81d-8212-4dc0-ffd1-e5f1754bae79"
      },
      "outputs": [
        {
          "output_type": "execute_result",
          "data": {
            "text/plain": [
              "['question',\n",
              " 'docId',\n",
              " 'answers',\n",
              " 'data_split',\n",
              " 'full_path_image',\n",
              " 'bounding_boxes',\n",
              " 'word_list']"
            ]
          },
          "metadata": {},
          "execution_count": 8
        }
      ],
      "source": [
        "hf_sub_ocr.column_names     ## printing number of columns"
      ]
    },
    {
      "cell_type": "code",
      "execution_count": 9,
      "metadata": {
        "colab": {
          "base_uri": "https://localhost:8080/"
        },
        "id": "S1Pd838zIGwX",
        "outputId": "32990a69-b189-4e90-8a0d-684cebeafc38"
      },
      "outputs": [
        {
          "output_type": "execute_result",
          "data": {
            "text/plain": [
              "{'question': Value(dtype='string', id=None),\n",
              " 'docId': Value(dtype='int64', id=None),\n",
              " 'answers': Sequence(feature=Value(dtype='string', id=None), length=-1, id=None),\n",
              " 'data_split': Value(dtype='string', id=None),\n",
              " 'full_path_image': Value(dtype='string', id=None),\n",
              " 'bounding_boxes': Sequence(feature=Sequence(feature=Value(dtype='int64', id=None), length=-1, id=None), length=-1, id=None),\n",
              " 'word_list': Sequence(feature=Value(dtype='string', id=None), length=-1, id=None)}"
            ]
          },
          "metadata": {},
          "execution_count": 9
        }
      ],
      "source": [
        "hf_sub_ocr.features   ## checking features details"
      ]
    },
    {
      "cell_type": "code",
      "execution_count": 10,
      "metadata": {
        "colab": {
          "base_uri": "https://localhost:8080/"
        },
        "id": "k7I6G9DeIGt2",
        "outputId": "b6ee6bc5-3a94-4f67-d717-10633532f534"
      },
      "outputs": [
        {
          "output_type": "execute_result",
          "data": {
            "text/plain": [
              "10"
            ]
          },
          "metadata": {},
          "execution_count": 10
        }
      ],
      "source": [
        "len(hf_sub_ocr)   ## total number of rows present"
      ]
    },
    {
      "cell_type": "markdown",
      "metadata": {
        "id": "Q8k2hL9jVsbD"
      },
      "source": [
        "## S-1.1: ground_truth experiment & gt_parse prompt preparation and add_ground_truth custom function creation\n"
      ]
    },
    {
      "cell_type": "code",
      "execution_count": 11,
      "metadata": {
        "colab": {
          "base_uri": "https://localhost:8080/",
          "height": 36
        },
        "id": "0vRBOZp6fZdG",
        "outputId": "b64c2f9c-362a-4a28-e948-14e307b0b29f"
      },
      "outputs": [
        {
          "output_type": "execute_result",
          "data": {
            "text/plain": [
              "'what is the date mentioned in this letter?'"
            ],
            "application/vnd.google.colaboratory.intrinsic+json": {
              "type": "string"
            }
          },
          "metadata": {},
          "execution_count": 11
        }
      ],
      "source": [
        "hf_sub_ocr['question'][0]   ## checking 1st row question"
      ]
    },
    {
      "cell_type": "code",
      "execution_count": 12,
      "metadata": {
        "colab": {
          "base_uri": "https://localhost:8080/"
        },
        "id": "4lLrlP_NIGrO",
        "outputId": "801e1b04-5710-491d-f15d-85a8336e7357"
      },
      "outputs": [
        {
          "output_type": "stream",
          "name": "stdout",
          "text": [
            "what is the date mentioned in this letter? ||||| <class 'str'>\n",
            "what is the contact person name mentioned in letter? ||||| <class 'str'>\n",
            "Which corporation's letterhead is this? ||||| <class 'str'>\n",
            "Who is in  cc in this letter? ||||| <class 'str'>\n",
            "what is the subject of  this letter? ||||| <class 'str'>\n",
            "What is the number at the bottom of the page, in bold? ||||| <class 'str'>\n",
            "How many points are there in modifications to readout instrumentation ||||| <class 'str'>\n",
            "what is the date in the letter ||||| <class 'str'>\n",
            "To whom this is addressed ||||| <class 'str'>\n",
            "Who sent the letter? ||||| <class 'str'>\n"
          ]
        }
      ],
      "source": [
        "## iterate over all questions and its data type\n",
        "\n",
        "for ques in hf_sub_ocr['question']:\n",
        "  print(ques, \"|||||\",type(ques))     # <class 'str'>"
      ]
    },
    {
      "cell_type": "markdown",
      "metadata": {
        "id": "LVv5PCWLzF-Z"
      },
      "source": [
        "## .replace('\"', '\\\\\"')\n",
        "Certainly! Let's consider an example to understand the code `questions = questions.replace('\"', '\\\\\"')`:\n",
        "\n",
        "```python\n",
        "questions = 'What is your \"name\"?\"'\n",
        "questions = questions.replace('\"', '\\\\\"')\n",
        "print(questions)\n",
        "```\n",
        "\n",
        "In this example, we have a string `questions` that contains a question: \"What is your \"name\"?\" We want to replace the double quote character (`\"`) within the string with a backslash followed by a double quote (`\\\"`).\n",
        "\n",
        "The line `questions = questions.replace('\"', '\\\\\"')` performs the replacement. It searches for all occurrences of the double quote (`\"`) character in the `questions` string and replaces them with `\\\"`. The resulting modified string is assigned back to the variable `questions`.\n",
        "\n",
        "When we print the value of `questions`, the output will be:\n",
        "```\n",
        "What is your \\\"name\\\"?\n",
        "```\n",
        "\n",
        "The original double quotes within the string are replaced with `\\\"`, where the backslash `\\` serves as an escape character to indicate that the following double quote should be treated as part of the string, rather than as a closing delimiter.\n",
        "\n",
        "So, the purpose of the code is to modify the original string by escaping double quotes with a backslash, allowing them to be properly interpreted within the string."
      ]
    },
    {
      "cell_type": "code",
      "execution_count": 13,
      "metadata": {
        "colab": {
          "base_uri": "https://localhost:8080/"
        },
        "id": "OOlqXg7_IGnf",
        "outputId": "2e8e70a4-2676-492c-c181-22351fea8d70"
      },
      "outputs": [
        {
          "output_type": "execute_result",
          "data": {
            "text/plain": [
              "['1/8/93']"
            ]
          },
          "metadata": {},
          "execution_count": 13
        }
      ],
      "source": [
        "hf_sub_ocr['answers'][0]    ## checking 1st row question"
      ]
    },
    {
      "cell_type": "code",
      "execution_count": 14,
      "metadata": {
        "colab": {
          "base_uri": "https://localhost:8080/"
        },
        "id": "ZhStOb9rIGhA",
        "outputId": "f8193fff-8f38-4717-c6dc-35280b94fb2e"
      },
      "outputs": [
        {
          "output_type": "stream",
          "name": "stdout",
          "text": [
            "['1/8/93'] ||||| <class 'list'>\n",
            "['P. Carter', 'p. carter'] ||||| <class 'list'>\n",
            "['Brown & Williamson Tobacco Corporation'] ||||| <class 'list'>\n",
            "['T.F. Riehl'] ||||| <class 'list'>\n",
            "['Review of existing Brainstorming Ideas/483'] ||||| <class 'list'>\n",
            "['499150498'] ||||| <class 'list'>\n",
            "['5.', '5'] ||||| <class 'list'>\n",
            "['June 11, 1990', 'June 11,1990'] ||||| <class 'list'>\n",
            "['Dr.K.S.Houghton'] ||||| <class 'list'>\n",
            "['Ted Sanders'] ||||| <class 'list'>\n"
          ]
        }
      ],
      "source": [
        "## iterate over all answers and its data type\n",
        "for ans in hf_sub_ocr['answers']:\n",
        "  print(ans, \"|||||\",type(ans))   # <class 'list'>"
      ]
    },
    {
      "cell_type": "code",
      "execution_count": 15,
      "metadata": {
        "colab": {
          "base_uri": "https://localhost:8080/"
        },
        "id": "M1rT2vN5rTei",
        "outputId": "846d0f55-10f1-4375-fb91-e5135c87c9a4"
      },
      "outputs": [
        {
          "output_type": "execute_result",
          "data": {
            "text/plain": [
              "['Brown & Williamson Tobacco Corporation']"
            ]
          },
          "metadata": {},
          "execution_count": 15
        }
      ],
      "source": [
        "ans1_before = hf_sub_ocr['answers'][2]\n",
        "ans1_before"
      ]
    },
    {
      "cell_type": "code",
      "execution_count": 16,
      "metadata": {
        "colab": {
          "base_uri": "https://localhost:8080/",
          "height": 36
        },
        "id": "c5-yx5bbrTbp",
        "outputId": "d74f443a-6205-4ab5-e6bf-766f11764b7f"
      },
      "outputs": [
        {
          "output_type": "execute_result",
          "data": {
            "text/plain": [
              "'Brown & Williamson Tobacco Corporation'"
            ],
            "application/vnd.google.colaboratory.intrinsic+json": {
              "type": "string"
            }
          },
          "metadata": {},
          "execution_count": 16
        }
      ],
      "source": [
        "ans1_after = ans1_before[0] .replace('\"', '\\\"')\n",
        "ans1_after"
      ]
    },
    {
      "cell_type": "markdown",
      "metadata": {
        "id": "g9ErjRfgwCRd"
      },
      "source": [
        "### Note:\n",
        "Certainly! Let's consider an example to understand the code `ans = answ.replace('\"', '\\\"')`: .replace('\"', '\\\"')\n",
        "\n",
        "```python\n",
        "answ = 'Hello \"world\"'\n",
        "ans = answ.replace('\"', '\\\"')\n",
        "print(ans)\n",
        "```\n",
        "\n",
        "In this example, we have a string `answ` that contains the phrase \"Hello \"world\"\". We want to replace the double quote character (`\"`) within the string with a backslash followed by a double quote (`\\\"`).\n",
        "\n",
        "The line `ans = answ.replace('\"', '\\\"')` performs the replacement. It searches for all occurrences of the double quote (`\"`) character in the `answ` string and replaces them with `\\\"`. The resulting modified string is assigned to the variable `ans`.\n",
        "\n",
        "When we print the value of `ans`, the output will be:\n",
        "```\n",
        "Hello \\\"world\\\"\n",
        "```\n",
        "\n",
        "The original double quotes are replaced with `\\\"`, where the backslash `\\` serves as an escape character to indicate that the following double quote should be treated as part of the string, rather than as a closing delimiter.\n",
        "\n",
        "So, the purpose of the code is to modify the original string by escaping double quotes with a backslash, allowing them to be properly interpreted within the string."
      ]
    },
    {
      "cell_type": "markdown",
      "metadata": {
        "id": "COAWRZzE7jEB"
      },
      "source": [
        "### Note structure of the ground truth for different Task:\n",
        "custom function creation for gt_parse for all kind of task\n",
        "```\n",
        "GT for QA Task:\n",
        "\n",
        "## For Single Question and Single Answer\n",
        "'{\"gt_parses\": [{\"question\" : \"...........\", \"answer\" : \"........\"}]}'\n",
        "\n",
        "or\n",
        "## For Multiple Question and Multiple Answer\n",
        "'{\"gt_parses\": [{\"question1\" : \"...........\", \"answer1\" : \"........\"},\n",
        "{\"question2\" : \"...........\", \"answer2\" : \"........\"}]}'\n",
        "\n",
        "or\n",
        "## For Single Question Multiple Answer\n",
        "'{\"gt_parses\": [{\"question\" : \"...........\", \"answer1\" : \"........\",\n",
        "                                    \"answer2\" : \"........\", \"answer3\" : \"........\"..so on}]}'\n",
        "```"
      ]
    },
    {
      "cell_type": "markdown",
      "metadata": {
        "id": "vQla52Z4DuW-"
      },
      "source": [
        "```\n",
        "GT for Doc Classification Task:\n",
        "\n",
        "'{\"gt_parse\": {\"class\" : \"class_name\"}}'\n",
        "\n",
        "```\n",
        "\n",
        "```\n",
        "Sample helping code:\n",
        "\n",
        "template = '{\"gt_parse\": {\"class\" : '\n",
        "\n",
        "def add_ground_truth(hf_examples):\n",
        "\n",
        "  ground_truths = []\n",
        "\n",
        "  for label in hf_examples['label']:\n",
        "    ground_truths.append(template + '\"' + id2label[label] + '\"' + \"}}\")\n",
        "\n",
        "  hf_examples['ground_truth'] = ground_truths\n",
        "\n",
        "  return hf_examples\n",
        "\n",
        "## Mapping with the\n",
        "hf_dataset_gt = hf_dataset.map(add_ground_truth, batched=True)\n",
        "\n",
        "```\n"
      ]
    },
    {
      "cell_type": "markdown",
      "metadata": {
        "id": "plzRo15dSFxR"
      },
      "source": [
        "```\n",
        "GT for Doc Parsing task:\n",
        "{\"gt_parses\": [{\"company\": \"ADVANCO COMPANY\",\n",
        "\"date\": \"17/01/2018\",\n",
        "\"address\": \"NO 1&3, JALAN WANGSA DELIMA 12, WANGSA LINK, WANGSA MAJU, 53300 KUALA LUMPUR\",\n",
        "\"total\": \"7.00\"}]}\n",
        "\n",
        "```\n",
        "```\n",
        "Sample helping code:\n",
        "\n",
        "parse = {\n",
        "  \"company\": \"ADVANCO COMPANY\",\n",
        "  \"date\": \"17/01/2018\",\n",
        "  \"address\": \"NO 1&3, JALAN WANGSA DELIMA 12, WANGSA LINK, WANGSA MAJU, 53300 KUALA LUMPUR\",\n",
        "  \"total\": \"7.00\"\n",
        "}\n",
        "\n",
        "print(parse, type(parse))\n",
        "\n",
        "gt_example = '{\"gt_parses\": [{'\n",
        "# print(gt_example)\n",
        "\n",
        "for key, value in parse.items():\n",
        "  value = value.replace('\"', '\\\"')\n",
        "  gt_example += '\"' + key + '\": \"' + value + '\", '\n",
        "  # print(gt_example)\n",
        "gt_example = gt_example.rstrip(', ')\n",
        "gt_example += '}]}'\n",
        "print(gt_example)\n",
        "\n",
        "```\n",
        "\n",
        "```\n",
        "Sample Custom Functom:\n",
        "def add_ground_truth(hf_examples):\n",
        "\n",
        "  keys = hf_examples.keys()  # Get the keys of the example dictionary\n",
        "\n",
        "  ground_truths = []    # Creating an empty list for ground truth prompts\n",
        "\n",
        "  for example in hf_examples:\n",
        "    ground_truth_example = '{\"gt_parses\": [{'  # Start of the ground truth prompt string\n",
        "\n",
        "    # Iterate over the keys and values of each example\n",
        "    for key, value in example.items():\n",
        "      value = value.replace('\"', '\\\"')   # Replacement of \" from each value\n",
        "      ground_truth_example += '\"' + key + '\": \"' + value + '\", '  # Append key-value pairs to the ground truth prompt\n",
        "\n",
        "    ground_truth_example = ground_truth_example.rstrip(', ')  # Remove the trailing comma and space\n",
        "    ground_truth_example += ']}]'  # End of the ground truth prompt string\n",
        "\n",
        "    ground_truths.append(ground_truth_example)  # Add the ground truth prompt to the list\n",
        "\n",
        "  hf_examples['ground_truth'] = ground_truths  # Add the ground truth prompts to the example dictionary\n",
        "\n",
        "  return hf_examples\n",
        "\n",
        "\n",
        "hf_dataset_gt = hf_dataset.map(add_ground_truth, batched=True)\n",
        "\n",
        "print(hf_dataset_gt['ground_truth'][0])\n",
        "```"
      ]
    },
    {
      "cell_type": "code",
      "execution_count": 19,
      "metadata": {
        "id": "vaw8D-0GIGb-"
      },
      "outputs": [],
      "source": [
        "# Creating custom function for DOCVQA task\n",
        "\n",
        "def add_ground_truth(hf_examples):\n",
        "  images = hf_examples['full_path_image']\n",
        "  questions = hf_examples['question']\n",
        "  answers = hf_examples['answers']\n",
        "\n",
        "  ground_truths = []    # Creating empty list\n",
        "  for image,question, answer in zip(images,questions, answers):\n",
        "    # we need to escape \" characters appearing in the query and/or answer\n",
        "    question = question.replace(\"\\\\\", \"\") ## this was just one corrupt example (index 91 of training set)\n",
        "    question = re.sub(' +', ' ', question)\n",
        "    question = question.replace('\"', '\\\\\"')   # replacement of \" from question\n",
        "    # let's create the ground truth string\n",
        "    ground_truth_example = '{\"gt_parses\": ['\n",
        "    for idx, answ in enumerate(answer):\n",
        "      # ans = answ.replace('\"', '\\\"')   # replacement of \" from answer\n",
        "      answ = answ.replace(\"\\\\\", \"\")\n",
        "      ans = answ.replace('\"', '\\\\\"')\n",
        "      ground_truth_example += '{\"question\" : \"' + question + '\", \"answer\" : \"' + ans + '\"}'\n",
        "\n",
        "      # add comma for more than one element present in the answer list\n",
        "      if idx != len(answer) - 1:   # when current index is not equal to last index\n",
        "        ground_truth_example += ', '\n",
        "    ground_truth_example += ']}'\n",
        "    ground_truths.append(ground_truth_example)    ## appending ground_truths list for every row\n",
        "\n",
        "  hf_examples['ground_truth'] = ground_truths\n",
        "\n",
        "  return hf_examples"
      ]
    },
    {
      "cell_type": "code",
      "execution_count": 20,
      "metadata": {
        "colab": {
          "base_uri": "https://localhost:8080/",
          "height": 49,
          "referenced_widgets": [
            "bcd1fc20cb5246f8ab9070b8db9c568f",
            "f1e2b9448b67447cba6d285442db5a1c",
            "7850f8a36ef9409a84d51b76de1335e1",
            "e195ffaac05442febc0ae69655e23f86",
            "0ec8529b64ec4b139cbc4cd9d68a6140",
            "56525033530d4a5a86ac319394db70ed",
            "a59d4bde2cb6464a86b1a01cb4550275",
            "62ba6afdef0f4a2e99281fa668d24362",
            "3f81b7f8df8d4f35abc53255ef7a54c7",
            "8ffd92531cd94e5aa5f7070820a348c9",
            "e0593cecbe9e40a2afeeff1101eee609"
          ]
        },
        "id": "NdNTSwUtIGZm",
        "outputId": "722de8e3-d45e-49bb-d34d-41c2dcbcd0f1"
      },
      "outputs": [
        {
          "output_type": "display_data",
          "data": {
            "text/plain": [
              "Map:   0%|          | 0/10 [00:00<?, ? examples/s]"
            ],
            "application/vnd.jupyter.widget-view+json": {
              "version_major": 2,
              "version_minor": 0,
              "model_id": "bcd1fc20cb5246f8ab9070b8db9c568f"
            }
          },
          "metadata": {}
        }
      ],
      "source": [
        "hf_sub_ocr_gt = hf_sub_ocr.map(add_ground_truth, batched=True)"
      ]
    },
    {
      "cell_type": "markdown",
      "metadata": {
        "id": "M1z3-QCp9zjx"
      },
      "source": [
        "## Note: Why 'batched = True' parameter?\n",
        "- When 'batched = True', it suggests that the code or function is designed to handle data in batches. The exact behavior and implications of this parameter can vary depending on the specific code or function being used.\n",
        "\n",
        "- Typically, when processing data in batches, it means that instead of processing individual examples one by one, the code or function operates on a group of examples simultaneously. This can improve computational efficiency by leveraging parallel processing and optimizing memory usage."
      ]
    },
    {
      "cell_type": "code",
      "execution_count": 21,
      "metadata": {
        "colab": {
          "base_uri": "https://localhost:8080/"
        },
        "id": "xSdPbkbFIGW2",
        "outputId": "b31d4f1f-a2a5-49ad-c296-39c4cd474722"
      },
      "outputs": [
        {
          "output_type": "execute_result",
          "data": {
            "text/plain": [
              "Dataset({\n",
              "    features: ['question', 'docId', 'answers', 'data_split', 'full_path_image', 'bounding_boxes', 'word_list', 'ground_truth'],\n",
              "    num_rows: 10\n",
              "})"
            ]
          },
          "metadata": {},
          "execution_count": 21
        }
      ],
      "source": [
        "hf_sub_ocr_gt"
      ]
    },
    {
      "cell_type": "code",
      "execution_count": 22,
      "metadata": {
        "colab": {
          "base_uri": "https://localhost:8080/"
        },
        "id": "In5r5q5fIGUG",
        "outputId": "d2ff2865-2a47-4542-a272-a3c79a9eabd5"
      },
      "outputs": [
        {
          "output_type": "stream",
          "name": "stdout",
          "text": [
            "{\"gt_parses\": [{\"question\" : \"Which corporation's letterhead is this?\", \"answer\" : \"Brown & Williamson Tobacco Corporation\"}]} ||||| <class 'str'>\n"
          ]
        }
      ],
      "source": [
        "print(hf_sub_ocr_gt['ground_truth'][2], '|||||' , type(hf_sub_ocr_gt['ground_truth'][2]))"
      ]
    },
    {
      "cell_type": "markdown",
      "metadata": {
        "id": "fuJxIFIEW4pR"
      },
      "source": [
        "## S-2: Creating add_tokens custom function for all type of task"
      ]
    },
    {
      "cell_type": "code",
      "execution_count": 23,
      "metadata": {
        "colab": {
          "base_uri": "https://localhost:8080/"
        },
        "id": "TdN7EllrXKJB",
        "outputId": "6b423426-cbcd-4da4-8c33-e05412f5d1d9"
      },
      "outputs": [
        {
          "output_type": "execute_result",
          "data": {
            "text/plain": [
              "57525"
            ]
          },
          "metadata": {},
          "execution_count": 23
        }
      ],
      "source": [
        "len(processor.tokenizer)"
      ]
    },
    {
      "cell_type": "code",
      "execution_count": 24,
      "metadata": {
        "id": "mLNg2ckaW4GC"
      },
      "outputs": [],
      "source": [
        "## Custom function to add new starting and ending prompt tokens and embed it\n",
        "new_special_tokens_list = []\n",
        "# list with the newly added tokens. The purpose of this list is to keep track of the tokens that were added to the tokenizer.\n",
        "\n",
        "def add_tokens(list_of_tokens: List[str]):\n",
        "  \"\"\"\n",
        "  Add tokens to tokenizer and resize the token embeddings\n",
        "  \"\"\"\n",
        "  newly_added_num = processor.tokenizer.add_tokens(list_of_tokens)\n",
        "  if newly_added_num > 0:\n",
        "    model.decoder.resize_token_embeddings(len(processor.tokenizer))\n",
        "    new_special_tokens_list.extend(list_of_tokens)\n",
        "\n",
        "\n",
        "additional_tokens = [\"<yes/>\", \"<no/>\"]\n",
        "\n",
        "add_tokens(additional_tokens)"
      ]
    },
    {
      "cell_type": "code",
      "execution_count": 25,
      "metadata": {
        "colab": {
          "base_uri": "https://localhost:8080/"
        },
        "id": "9_J3OPirXOx5",
        "outputId": "396753f2-10a1-4c7e-deff-2d6a16cb2df3"
      },
      "outputs": [
        {
          "output_type": "execute_result",
          "data": {
            "text/plain": [
              "57527"
            ]
          },
          "metadata": {},
          "execution_count": 25
        }
      ],
      "source": [
        "len(processor.tokenizer)"
      ]
    },
    {
      "cell_type": "markdown",
      "metadata": {
        "id": "CjsMQzogWTWE"
      },
      "source": [
        "## S-3: json2token experiment and custom function creation"
      ]
    },
    {
      "cell_type": "markdown",
      "metadata": {
        "id": "o3JpqL8KCLfU"
      },
      "source": [
        "#### JSON and JSON2TOKEN Sample Experiment:"
      ]
    },
    {
      "cell_type": "code",
      "execution_count": 26,
      "metadata": {
        "colab": {
          "base_uri": "https://localhost:8080/"
        },
        "id": "VUEGvnQrYxSh",
        "outputId": "14ce32e8-694c-4144-db25-cf2bf0328a71"
      },
      "outputs": [
        {
          "output_type": "stream",
          "name": "stdout",
          "text": [
            "<class 'str'> {\"name\": \"John Doe\", \"age\": 30, \"city\": \"New York\"}\n",
            "<class 'dict'> {'name': 'John Doe', 'age': 30, 'city': 'New York'}\n"
          ]
        }
      ],
      "source": [
        "## JSON object of dict type\n",
        "json_str_dic = '{\"name\": \"John Doe\", \"age\": 30, \"city\": \"New York\"}'\n",
        "print(type(json_str_dic), json_str_dic)\n",
        "\n",
        "json_obj_dic = json.loads(json_str_dic)\n",
        "print(type(json_obj_dic), json_obj_dic)"
      ]
    },
    {
      "cell_type": "code",
      "execution_count": 27,
      "metadata": {
        "colab": {
          "base_uri": "https://localhost:8080/"
        },
        "id": "U1ONyeIaY2GB",
        "outputId": "29c4ddea-4a95-463d-b241-dc4d51daacb3"
      },
      "outputs": [
        {
          "output_type": "stream",
          "name": "stdout",
          "text": [
            "dict_keys(['name', 'age', 'city'])\n",
            "3\n"
          ]
        }
      ],
      "source": [
        "print(json_obj_dic.keys())    ## returns name of keys\n",
        "print(len(json_obj_dic))   ## returns number of keys"
      ]
    },
    {
      "cell_type": "code",
      "execution_count": 28,
      "metadata": {
        "colab": {
          "base_uri": "https://localhost:8080/"
        },
        "id": "u_99JawghqFA",
        "outputId": "7fbcd244-1dca-4463-f5ee-73245732ce55"
      },
      "outputs": [
        {
          "output_type": "stream",
          "name": "stdout",
          "text": [
            "False\n",
            "True\n",
            "False\n"
          ]
        }
      ],
      "source": [
        "## 'in' will check whether string ia present in the keys of the json object or not\n",
        "print('New York' in json_obj_dic)\n",
        "print('name' in json_obj_dic)\n",
        "\n",
        "print(\"text_sequence\" in json_obj_dic)"
      ]
    },
    {
      "cell_type": "code",
      "execution_count": 29,
      "metadata": {
        "colab": {
          "base_uri": "https://localhost:8080/"
        },
        "id": "_Y3AokL-Yud5",
        "outputId": "798dbc0a-5a15-4ef1-a999-f43984304ea3"
      },
      "outputs": [
        {
          "output_type": "stream",
          "name": "stdout",
          "text": [
            "name <class 'str'>\n",
            "age <class 'str'>\n",
            "city <class 'str'>\n",
            "--------------------------------\n",
            "['<s_name>', '</s_name>', '<s_age>', '</s_age>', '<s_city>', '</s_city>'] <class 'list'>\n",
            "--------------------------------\n",
            "<s_name>John Doe</s_name><s_age>30</s_age><s_city>New York</s_city> <class 'str'>\n"
          ]
        }
      ],
      "source": [
        "## Formation of Start and end token & creation of prompt:\n",
        "\n",
        "nw_tok = []\n",
        "op = ''\n",
        "keys = json_obj_dic.keys()\n",
        "for k in keys:\n",
        "  print(k, type(k))   # collecting the keys from the gt_parses dictionary\n",
        "  # print('--------------------------------')\n",
        "  # print(json_obj_dic[k], type(json_obj_dic[k]))   # collecting the respective values from the dictionary\n",
        "  # print('--------------------------------')\n",
        "\n",
        "  # task-1 : adding start and end token into a new list which will later add into the processor.tokenizer class\n",
        "  nw_tok.append(fr\"<s_{k}>\") if fr\"<s_{k}>\" not in nw_tok else None   # forming start token for different task using f string\n",
        "  nw_tok.append(fr\"</s_{k}>\") if fr\"</s_{k}>\" not in nw_tok else None   # forming end token for different task using f string\n",
        "\n",
        "  # task-2 : formation of the accurate prompt where\n",
        "  # <s_{k}> is the start token,\n",
        "  # str(json_obj_dic[k]) is the adding value part which must be string type, so need convertion\n",
        "  # </s_{k} is end token\n",
        "  op += (fr\"<s_{k}>\" + str(json_obj_dic[k]) + fr\"</s_{k}>\")\n",
        "print('--------------------------------')\n",
        "print(nw_tok, type(nw_tok))   # List of newly formed tokens which will be added into processor.tokenizer.add_tokens\n",
        "print('--------------------------------')\n",
        "print(op, type(op))   # finally our prompt will be look like this"
      ]
    },
    {
      "cell_type": "markdown",
      "metadata": {
        "id": "ZywOVZOYq99i"
      },
      "source": [
        "#### Note : Difference between .append() and .extend()\n",
        "The `append()` and `extend()` methods in Python are used to add elements to a list, but they have different behaviors:\n",
        "\n",
        "1. `append()`: The `append()` method is used to add a single element to the end of a list. It modifies the original list by adding the new element as a single item.\n",
        "\n",
        "   Example:\n",
        "   ```python\n",
        "   my_list = [1, 2, 3]\n",
        "   my_list.append(4)\n",
        "   print(my_list)  # Output: [1, 2, 3, 4]\n",
        "   ```\n",
        "\n",
        "   In this example, `append(4)` adds the element `4` as a single item to the end of the list `my_list`. The resulting list becomes `[1, 2, 3, 4]`.\n",
        "\n",
        "2. `extend()`: The `extend()` method is used to add multiple elements to the end of a list. It takes an iterable (such as a list, tuple, or string) as an argument and appends each item individually to the original list.\n",
        "\n",
        "   Example:\n",
        "   ```python\n",
        "   my_list = [1, 2, 3]\n",
        "   my_list.extend([4, 5, 6])\n",
        "   print(my_list)  # Output: [1, 2, 3, 4, 5, 6]\n",
        "   ```\n",
        "\n",
        "   In this example, `extend([4, 5, 6])` appends each element in the iterable `[4, 5, 6]` individually to the end of `my_list`. The resulting list becomes `[1, 2, 3, 4, 5, 6]`.\n",
        "\n",
        "   Note that `extend()` can also be used with other iterables like strings:\n",
        "\n",
        "   ```python\n",
        "   my_list = [1, 2, 3]\n",
        "   my_list.extend(\"hello\")\n",
        "   print(my_list)  # Output: [1, 2, 3, 'h', 'e', 'l', 'l', 'o']\n",
        "   ```\n",
        "\n",
        "   Here, each character of the string `\"hello\"` is added individually to the list, resulting in `[1, 2, 3, 'h', 'e', 'l', 'l', 'o']`.\n",
        "\n",
        "In summary, `append()` adds a single item to the end of a list, while `extend()` adds multiple items from an iterable to the end of a list, with each item treated individually."
      ]
    },
    {
      "cell_type": "code",
      "execution_count": 30,
      "metadata": {
        "colab": {
          "base_uri": "https://localhost:8080/"
        },
        "id": "WyGZs1_eYuMp",
        "outputId": "af236455-d118-43c2-c42a-09ef4de426c9"
      },
      "outputs": [
        {
          "output_type": "stream",
          "name": "stdout",
          "text": [
            "<class 'str'> [{\"name\": \"John Doe\", \"age\": 30}, {\"name\": \"Jane Smith\", \"age\": 25}]\n",
            "<class 'list'> [{'name': 'John Doe', 'age': 30}, {'name': 'Jane Smith', 'age': 25}]\n",
            "[{'name': 'John Doe', 'age': 30}, {'name': 'Jane Smith', 'age': 25}]\n"
          ]
        }
      ],
      "source": [
        "## JSON object of list type\n",
        "json_str_list = '[{\"name\": \"John Doe\", \"age\": 30}, {\"name\": \"Jane Smith\", \"age\": 25}]'\n",
        "print(type(json_str_list), json_str_list)\n",
        "\n",
        "# Convert string to json list\n",
        "json_obj_list = json.loads(json_str_list)\n",
        "print(type(json_obj_list), json_obj_list)\n",
        "print(json_obj_list)  # List of Dictionary"
      ]
    },
    {
      "cell_type": "code",
      "execution_count": 31,
      "metadata": {
        "colab": {
          "base_uri": "https://localhost:8080/"
        },
        "id": "ACIGGIXIvJel",
        "outputId": "8021d01b-b11f-4a59-ceb0-7e7e4a689c62"
      },
      "outputs": [
        {
          "output_type": "stream",
          "name": "stdout",
          "text": [
            "{'name': 'John Doe', 'age': 30} <class 'dict'>\n",
            "{'name': 'Jane Smith', 'age': 25} <class 'dict'>\n"
          ]
        }
      ],
      "source": [
        "for item in json_obj_list:    # iterating over list\n",
        "  print(item, type(item))"
      ]
    },
    {
      "cell_type": "code",
      "execution_count": 32,
      "metadata": {
        "colab": {
          "base_uri": "https://localhost:8080/"
        },
        "id": "fF6PLhEwAVQZ",
        "outputId": "4faa5991-0a5a-47a9-805f-a82bb9281875"
      },
      "outputs": [
        {
          "output_type": "execute_result",
          "data": {
            "text/plain": [
              "[{'name': 'John Doe', 'age': 30}, {'name': 'Jane Smith', 'age': 25}]"
            ]
          },
          "metadata": {},
          "execution_count": 32
        }
      ],
      "source": [
        "[item for item in json_obj_list]"
      ]
    },
    {
      "cell_type": "code",
      "execution_count": 33,
      "metadata": {
        "colab": {
          "base_uri": "https://localhost:8080/"
        },
        "id": "XsnOqoCXAbB5",
        "outputId": "60fb906b-b234-4b4a-8752-587b23848552"
      },
      "outputs": [
        {
          "output_type": "execute_result",
          "data": {
            "text/plain": [
              "[\"{'name': 'John Doe', 'age': 30}\", \"{'name': 'Jane Smith', 'age': 25}\"]"
            ]
          },
          "metadata": {},
          "execution_count": 33
        }
      ],
      "source": [
        "[str(item) for item in json_obj_list]   # convert dictionary list to string list"
      ]
    },
    {
      "cell_type": "code",
      "execution_count": 34,
      "metadata": {
        "colab": {
          "base_uri": "https://localhost:8080/",
          "height": 36
        },
        "id": "fywUeZuuvJcD",
        "outputId": "71bdecf0-82f5-4c6a-c9a0-47a5a773954c"
      },
      "outputs": [
        {
          "output_type": "execute_result",
          "data": {
            "text/plain": [
              "\"{'name': 'John Doe', 'age': 30}<sep/>{'name': 'Jane Smith', 'age': 25}\""
            ],
            "application/vnd.google.colaboratory.intrinsic+json": {
              "type": "string"
            }
          },
          "metadata": {},
          "execution_count": 34
        }
      ],
      "source": [
        "## S-1: If in a page more than one dictionary will present inside gt_parses i.e when list of dictionary will present\n",
        "# S-2: iterate and isolate each dictionary\n",
        "# S-3: Convert each dictionary into string type\n",
        "# S-4: Create list of two or more strings\n",
        "# S-5: Join each string element of dictionary by <sep/>\n",
        "# r before the string indicates represents a raw string literal\n",
        "\n",
        "r\"<sep/>\".join([str(item) for item in json_obj_list])"
      ]
    },
    {
      "cell_type": "markdown",
      "metadata": {
        "id": "xqhzgK-rzW6s"
      },
      "source": [
        "### Note: r or raw string literals\n",
        "- A raw string literal is a string that preserves the literal value of each character within the string, including escape characters. It is denoted by the prefix r or R.\n",
        "\n",
        "- The use of a raw string literal is particularly useful when you have special characters or escape sequences within the string that you want to be treated as literal characters rather than being interpreted. It simplifies the handling of backslashes and escape characters, making the code more readable and less error-prone.\n",
        "\n",
        "Certainly! Let's compare a raw string and a normal string with an example:\n",
        "\n",
        "```python\n",
        "normal_string = \"C:\\path\\to\\file\"\n",
        "raw_string = r\"C:\\path\\to\\file\"\n",
        "\n",
        "print(normal_string)\n",
        "print(raw_string)\n",
        "```\n",
        "\n",
        "Output:\n",
        "```\n",
        "C:\\path      o\n",
        "ile\n",
        "C:\\path\\to\\file\n",
        "```\n",
        "\n",
        "In this example, we have a string representing a file path. The first string (`normal_string`) is a normal string, while the second string (`raw_string`) is a raw string.\n",
        "\n",
        "Notice that in the `normal_string`, the backslashes (`\\`) are interpreted as escape characters. However, in the `raw_string`, the backslashes are treated literally as part of the string.\n",
        "\n",
        "In the output, you can observe the difference between the two strings. The `normal_string` ends up with unexpected characters due to the interpretation of escape sequences. On the other hand, the `raw_string` maintains the exact characters, including the backslashes, as it is defined with a raw string literal.\n",
        "\n",
        "This demonstrates that raw strings are useful when you want to preserve backslashes and treat them as literal characters, without having them interpreted as escape sequences."
      ]
    },
    {
      "cell_type": "code",
      "execution_count": 35,
      "metadata": {
        "colab": {
          "base_uri": "https://localhost:8080/"
        },
        "id": "HLgwPF1fKl_E",
        "outputId": "e5b39f14-d15c-4484-d000-54cbaee887ab"
      },
      "outputs": [
        {
          "output_type": "execute_result",
          "data": {
            "text/plain": [
              "('{\"gt_parses\": [{\"question\" : \"what is the contact person name mentioned in letter?\", \"answer\" : \"P. Carter\"}, {\"question\" : \"what is the contact person name mentioned in letter?\", \"answer\" : \"p. carter\"}]}',\n",
              " str)"
            ]
          },
          "metadata": {},
          "execution_count": 35
        }
      ],
      "source": [
        "hf_sub_ocr_gt['ground_truth'][1], type(hf_sub_ocr_gt['ground_truth'][1])    # str"
      ]
    },
    {
      "cell_type": "code",
      "source": [
        "## Convert this str type to dict type\n",
        "sample_1_dict = json.loads(hf_sub_ocr_gt['ground_truth'][1])\n",
        "sample_1_dict, type(sample_1_dict)    # dict"
      ],
      "metadata": {
        "colab": {
          "base_uri": "https://localhost:8080/"
        },
        "id": "wbogSYU9aNU9",
        "outputId": "4ae6bc6b-ed8d-450e-a4c2-55b0a7fed9fd"
      },
      "execution_count": 36,
      "outputs": [
        {
          "output_type": "execute_result",
          "data": {
            "text/plain": [
              "({'gt_parses': [{'question': 'what is the contact person name mentioned in letter?',\n",
              "    'answer': 'P. Carter'},\n",
              "   {'question': 'what is the contact person name mentioned in letter?',\n",
              "    'answer': 'p. carter'}]},\n",
              " dict)"
            ]
          },
          "metadata": {},
          "execution_count": 36
        }
      ]
    },
    {
      "cell_type": "code",
      "source": [
        "## sample check of the gt_parses\n",
        "if \"gt_parses\" in sample_1_dict:    # to check whether key present in the dictionary or not\n",
        "  print('Yes Present')\n",
        "  print('********************************************')\n",
        "  assert isinstance(sample_1_dict[\"gt_parses\"], list)    # verifies that the value associated with the key \"gt_parses\" in the ground_truth dictionary is of type list\n",
        "\n",
        "  gt_value = sample_1_dict['gt_parses']   ## Storing value of gt_parses key\n",
        "  print(gt_value, type(gt_value))   ## <class 'list'>\n",
        "  print('********************************************')\n",
        "  for val in gt_value:\n",
        "    print(val, type(val))   # <class 'dict'>"
      ],
      "metadata": {
        "colab": {
          "base_uri": "https://localhost:8080/"
        },
        "id": "HyBNd0xXaXp8",
        "outputId": "9487154b-379c-4b47-affe-710cd7308cbc"
      },
      "execution_count": 37,
      "outputs": [
        {
          "output_type": "stream",
          "name": "stdout",
          "text": [
            "Yes Present\n",
            "********************************************\n",
            "[{'question': 'what is the contact person name mentioned in letter?', 'answer': 'P. Carter'}, {'question': 'what is the contact person name mentioned in letter?', 'answer': 'p. carter'}] <class 'list'>\n",
            "********************************************\n",
            "{'question': 'what is the contact person name mentioned in letter?', 'answer': 'P. Carter'} <class 'dict'>\n",
            "{'question': 'what is the contact person name mentioned in letter?', 'answer': 'p. carter'} <class 'dict'>\n"
          ]
        }
      ]
    },
    {
      "cell_type": "code",
      "execution_count": 38,
      "metadata": {
        "colab": {
          "base_uri": "https://localhost:8080/"
        },
        "id": "_hXrk3afIGNe",
        "outputId": "6d1eb150-bf38-4b23-efc7-2ca9ef938507"
      },
      "outputs": [
        {
          "output_type": "execute_result",
          "data": {
            "text/plain": [
              "('{\"gt_parses\": [{\"question\" : \"Which corporation\\'s letterhead is this?\", \"answer\" : \"Brown & Williamson Tobacco Corporation\"}]}',\n",
              " str)"
            ]
          },
          "metadata": {},
          "execution_count": 38
        }
      ],
      "source": [
        "sample_2 = hf_sub_ocr_gt['ground_truth'][2]\n",
        "sample_2, type(sample_2)    ## gt_parse is a string type data"
      ]
    },
    {
      "cell_type": "code",
      "execution_count": 39,
      "metadata": {
        "colab": {
          "base_uri": "https://localhost:8080/"
        },
        "id": "UvKU33RrIGKu",
        "outputId": "afcd820f-3123-4d0b-fe58-55950ce98b51"
      },
      "outputs": [
        {
          "output_type": "execute_result",
          "data": {
            "text/plain": [
              "({'gt_parses': [{'question': \"Which corporation's letterhead is this?\",\n",
              "    'answer': 'Brown & Williamson Tobacco Corporation'}]},\n",
              " dict)"
            ]
          },
          "metadata": {},
          "execution_count": 39
        }
      ],
      "source": [
        "## Convert this str type to dict type\n",
        "sample_2_dict = json.loads(sample_2)\n",
        "sample_2_dict, type(sample_2_dict)    # dict"
      ]
    },
    {
      "cell_type": "code",
      "execution_count": 40,
      "metadata": {
        "colab": {
          "base_uri": "https://localhost:8080/"
        },
        "id": "FU4uDJQx5dxR",
        "outputId": "ab53276a-9db7-42ab-bf84-3f980cc64959"
      },
      "outputs": [
        {
          "output_type": "stream",
          "name": "stdout",
          "text": [
            "Yes Present\n",
            "[{'question': \"Which corporation's letterhead is this?\", 'answer': 'Brown & Williamson Tobacco Corporation'}] <class 'list'>\n",
            "********************************************\n",
            "{'question': \"Which corporation's letterhead is this?\", 'answer': 'Brown & Williamson Tobacco Corporation'} <class 'dict'>\n"
          ]
        }
      ],
      "source": [
        "## sample check of the gt_parses\n",
        "if \"gt_parses\" in sample_2_dict:    # to check whether key present in the dictionary or not\n",
        "  print('Yes Present')\n",
        "  assert isinstance(sample_2_dict[\"gt_parses\"], list)    # verifies that the value associated with the key \"gt_parses\" in the ground_truth dictionary is of type list\n",
        "\n",
        "  gt_value = sample_2_dict['gt_parses']   ## Storing value of gt_parses key\n",
        "  print(gt_value, type(gt_value))   ## <class 'list'>\n",
        "  print('********************************************')\n",
        "  for val in gt_value:\n",
        "    print(val, type(val))   # <class 'dict'>\n"
      ]
    },
    {
      "cell_type": "code",
      "execution_count": 40,
      "metadata": {
        "id": "XjY_rnpsXSL5"
      },
      "outputs": [],
      "source": []
    },
    {
      "cell_type": "code",
      "execution_count": 41,
      "metadata": {
        "colab": {
          "base_uri": "https://localhost:8080/"
        },
        "id": "P_ve61JI7Wto",
        "outputId": "fb76adcf-bec0-4c02-bb1e-917f80197c5b"
      },
      "outputs": [
        {
          "output_type": "execute_result",
          "data": {
            "text/plain": [
              "('<s>', '</s>', '<mask>', '<s>', '<pad>')"
            ]
          },
          "metadata": {},
          "execution_count": 41
        }
      ],
      "source": [
        "## Checking different tokens from processor.tokenizer class\n",
        "processor.tokenizer.cls_token, processor.tokenizer.eos_token, processor.tokenizer.mask_token, processor.tokenizer.bos_token, processor.tokenizer.pad_token"
      ]
    },
    {
      "cell_type": "markdown",
      "metadata": {
        "id": "96796ZAmDRMV"
      },
      "source": [
        "### Creating JSON2TOKEN Custom function for all type of Task"
      ]
    },
    {
      "cell_type": "code",
      "execution_count": 42,
      "metadata": {
        "id": "4VLii3afDixt"
      },
      "outputs": [],
      "source": [
        "## function converts an ordered JSON object into a token sequence\n",
        "## For all type of task we can use this function\n",
        "\n",
        "# def json2token(json_obj: Any, update_special_tokens_for_json_key: bool = True, sort_json_key: bool = True):\n",
        "def json2token(json_obj: Any, sort_json_key: bool = True):\n",
        "\n",
        "  \"\"\"\n",
        "  Convert an ordered JSON object into a token sequence\n",
        "  'obj' (the JSON object to convert)\n",
        "\n",
        "  'update_special_tokens_for_json_key' is set to True, the code adds special tokens to\n",
        "  the new_special_tokens list for each JSON key encountered during tokenization.\n",
        "  Note: The purpose of these special tokens is to provide additional context or information about the specific JSON key during tokenization.\n",
        "  If 'update_special_tokens_for_json_key' is set to False, the code skips updating special tokens for JSON keys.\n",
        "\n",
        "  'sort_json_key' (a boolean indicating whether to sort the JSON keys)\n",
        "\n",
        "  \"\"\"\n",
        "  ## Prompt creation from json dict object\n",
        "\n",
        "  if type(json_obj) == dict:   # checking if json object is dictionary type or not\n",
        "\n",
        "    ## special case handling for JSON objects that have a single key-value pair and where the key is \"text_sequence\"\n",
        "    if len(json_obj) == 1 and \"text_sequence\" in json_obj:\n",
        "        return json_obj[\"text_sequence\"]  # returns the value of \"text_sequence\" key\n",
        "\n",
        "    else:   # if more than one keys are present also not contains \"text_sequence\" key\n",
        "      output = \"\"   # initializes an empty string output to store the token sequence\n",
        "\n",
        "      if sort_json_key:   # sort_json_key is True, it sorts the dictionary keys in reverse order\n",
        "          keys = sorted(json_obj.keys(), reverse=True)\n",
        "      else:               # otherwise it will store original keys\n",
        "          keys = json_obj.keys()\n",
        "\n",
        "      # iterates over keys\n",
        "      for k in keys:\n",
        "\n",
        "        # if update_special_tokens_for_json_key:    # if the value is True\n",
        "        #     new_special_tokens.append(fr\"<s_{k}>\") if fr\"<s_{k}>\" not in new_special_tokens else None\n",
        "        #     new_special_tokens.append(fr\"</s_{k}>\") if fr\"</s_{k}>\" not in new_special_tokens else None\n",
        "\n",
        "        add_tokens([fr\"<s_{k}>\", fr\"</s_{k}>\"])   # adding special tokens\n",
        "\n",
        "        # It recursively calls 'json2token' to process the corresponding value json_obj[k] and concatenates the result with the special tokens.\n",
        "        output += (\n",
        "            fr\"<s_{k}>\"\n",
        "            + json2token(json_obj[k], sort_json_key)      # here json_obj[k] is string and value part of the json key\n",
        "            + fr\"</s_{k}>\"\n",
        "        )\n",
        "      return output\n",
        "      ## returns the accumulated output string/prompt: e.g <s_name>John Doe</s_name><s_age>30</s_age><s_city>New York</s_city>\n",
        "\n",
        "  elif type(json_obj) == list:    # if json_obj contains more than one dictionary e.g [{'name': 'John Doe', 'age': 30}, {'name': 'Jane Smith', 'age': 25}]\n",
        "    return r\"<sep/>\".join(\n",
        "        # [json2token(item, update_special_tokens_for_json_key, sort_json_key) for item in json_obj]        # here item is string\n",
        "        [json2token(item, sort_json_key) for item in json_obj]        # here item is list of dictionary\n",
        "    )\n",
        "  ## returns the string of two dictionary separated by <sep/> e.g {'name': 'John Doe', 'age': 30}<sep/>{'name': 'Jane Smith', 'age': 25}\n",
        "  # which will again pass through json2token and will form the prompt structure\n",
        "  # e.g : <s_name>John Doe</s_name><s_age>30</s_age><sep/><s_name>Jane Smith</s_name><s_age>25</s_age>\n",
        "\n",
        "## last part json_obj does not match the previous conditions of being a dictionary or a list. It serves as a fallback option for handling other types of objects.\n",
        "  else:\n",
        "    # excluded special tokens for now\n",
        "    json_obj = str(json_obj)      # converts the json_obj into its string\n",
        "\n",
        "    if f\"<{json_obj}/>\" in new_special_tokens_list:\n",
        "      json_obj = f\"<{json_obj}/>\"  # for categorical special tokens\n",
        "    return json_obj\n"
      ]
    },
    {
      "cell_type": "code",
      "execution_count": 43,
      "metadata": {
        "id": "3jcO22_NDikt"
      },
      "outputs": [],
      "source": [
        "## process the dataset for all type of task\n",
        "def preprocess_documents_for_donut(hf_examples):\n",
        "\n",
        "  # convert a string representation of ground_truth a JSON object\n",
        "  gt_json_obj = json.loads(hf_examples['ground_truth'])\n",
        "\n",
        "  if \"gt_parses\" in gt_json_obj:\n",
        "    assert isinstance(gt_json_obj[\"gt_parses\"], list)\n",
        "    gt_jsons_list = gt_json_obj['gt_parses']    ## Stores the list of gt_parses value as gt_parses is the only key\n",
        "    # gt_prompt = processor.tokenizer.cls_token + json2token(gt_jsons_list) + processor.tokenizer.eos_token\n",
        "\n",
        "  else:\n",
        "    assert \"gt_parse\" in gt_json_obj and isinstance(gt_json_obj[\"gt_parses\"], dict)\n",
        "    gt_jsons_list = [gt_json_obj['gt_parses']]\n",
        "\n",
        "  ## this is for DOCVQA task\n",
        "  gt_prompt = processor.tokenizer.cls_token + json2token(gt_jsons_list) + processor.tokenizer.eos_token\n",
        "\n",
        "  ## this is for Document classification task\n",
        "  # gt_prompt = processor.tokenizer.cls_token + \"<s_docClass>\" + json2token(gt_jsons_list) + \"</s_docClass>\" + processor.tokenizer.eos_token\n",
        "\n",
        "  ## this is for Doc parsing task\n",
        "  # gt_prompt = processor.tokenizer.cls_token + \"<s_docParse>\" + json2token(gt_jsons_list) + \"</s_docParse>\" + processor.tokenizer.eos_token\n",
        "\n",
        "  hf_examples['gt_prompt'] = gt_prompt\n",
        "  return hf_examples"
      ]
    },
    {
      "cell_type": "code",
      "execution_count": 44,
      "metadata": {
        "colab": {
          "base_uri": "https://localhost:8080/",
          "height": 49,
          "referenced_widgets": [
            "61d987af96b6457ca0538ed22f915cfe",
            "debb9962006243e6a5a52327103c85d8",
            "4fa79c7d2201489688f8601025e03d63",
            "8a0a404e4d0d4f049af5b7d9ddd7d5f2",
            "4520081314b646da9a0d90328c7e35ae",
            "9e0d364c107b4a7f8d3e7e711736b7d6",
            "98fcea6ae9dc4f1b9a035a69060dcb87",
            "7ad5e2b087694c0f8cc124dc90e93afd",
            "3fb22056367b4fdb894f115be3a9c0ef",
            "5aacfaa5aae04e9791eddb1597afe067",
            "42a0210fa799456fa863b8433afbe7df"
          ]
        },
        "id": "FV0lZbK0IGIW",
        "outputId": "77a53013-3110-4b01-cc5f-99b8040bbee9"
      },
      "outputs": [
        {
          "output_type": "display_data",
          "data": {
            "text/plain": [
              "Map:   0%|          | 0/10 [00:00<?, ? examples/s]"
            ],
            "application/vnd.jupyter.widget-view+json": {
              "version_major": 2,
              "version_minor": 0,
              "model_id": "61d987af96b6457ca0538ed22f915cfe"
            }
          },
          "metadata": {}
        }
      ],
      "source": [
        "hf_sub_ocr_gt_prompt = hf_sub_ocr_gt.map(preprocess_documents_for_donut)"
      ]
    },
    {
      "cell_type": "code",
      "execution_count": 45,
      "metadata": {
        "colab": {
          "base_uri": "https://localhost:8080/"
        },
        "id": "6rQTebD1IGAe",
        "outputId": "8e0cb740-8d38-49cf-c432-2314b04981a4"
      },
      "outputs": [
        {
          "output_type": "execute_result",
          "data": {
            "text/plain": [
              "Dataset({\n",
              "    features: ['question', 'docId', 'answers', 'data_split', 'full_path_image', 'bounding_boxes', 'word_list', 'ground_truth', 'gt_prompt'],\n",
              "    num_rows: 10\n",
              "})"
            ]
          },
          "metadata": {},
          "execution_count": 45
        }
      ],
      "source": [
        "hf_sub_ocr_gt_prompt"
      ]
    },
    {
      "cell_type": "code",
      "execution_count": 46,
      "metadata": {
        "colab": {
          "base_uri": "https://localhost:8080/"
        },
        "id": "G_toVvFmIF9m",
        "outputId": "aafc4dcc-0d7b-4748-c88e-f5fd8b8ba465"
      },
      "outputs": [
        {
          "output_type": "execute_result",
          "data": {
            "text/plain": [
              "['<s><s_question>what is the date mentioned in this letter?</s_question><s_answer>1/8/93</s_answer></s>',\n",
              " '<s><s_question>what is the contact person name mentioned in letter?</s_question><s_answer>P. Carter</s_answer><sep/><s_question>what is the contact person name mentioned in letter?</s_question><s_answer>p. carter</s_answer></s>',\n",
              " \"<s><s_question>Which corporation's letterhead is this?</s_question><s_answer>Brown & Williamson Tobacco Corporation</s_answer></s>\",\n",
              " '<s><s_question>Who is in cc in this letter?</s_question><s_answer>T.F. Riehl</s_answer></s>',\n",
              " '<s><s_question>what is the subject of this letter?</s_question><s_answer>Review of existing Brainstorming Ideas/483</s_answer></s>',\n",
              " '<s><s_question>What is the number at the bottom of the page, in bold?</s_question><s_answer>499150498</s_answer></s>',\n",
              " '<s><s_question>How many points are there in modifications to readout instrumentation</s_question><s_answer>5.</s_answer><sep/><s_question>How many points are there in modifications to readout instrumentation</s_question><s_answer>5</s_answer></s>',\n",
              " '<s><s_question>what is the date in the letter</s_question><s_answer>June 11, 1990</s_answer><sep/><s_question>what is the date in the letter</s_question><s_answer>June 11,1990</s_answer></s>',\n",
              " '<s><s_question>To whom this is addressed</s_question><s_answer>Dr.K.S.Houghton</s_answer></s>',\n",
              " '<s><s_question>Who sent the letter?</s_question><s_answer>Ted Sanders</s_answer></s>']"
            ]
          },
          "metadata": {},
          "execution_count": 46
        }
      ],
      "source": [
        "hf_sub_ocr_gt_prompt['gt_prompt']     ## checking all the gt_prompts"
      ]
    },
    {
      "cell_type": "code",
      "execution_count": 47,
      "metadata": {
        "colab": {
          "base_uri": "https://localhost:8080/"
        },
        "id": "NY3Pl0aXIF6-",
        "outputId": "4ad4b315-354e-49da-e14f-fd35cac09128"
      },
      "outputs": [
        {
          "output_type": "execute_result",
          "data": {
            "text/plain": [
              "('<s><s_question>what is the date mentioned in this letter?</s_question><s_answer>1/8/93</s_answer></s>',\n",
              " str)"
            ]
          },
          "metadata": {},
          "execution_count": 47
        }
      ],
      "source": [
        "hf_sub_ocr_gt_prompt['gt_prompt'][0] , type(hf_sub_ocr_gt_prompt['gt_prompt'][0])   # 0th row   # str"
      ]
    },
    {
      "cell_type": "code",
      "execution_count": 48,
      "metadata": {
        "colab": {
          "base_uri": "https://localhost:8080/"
        },
        "id": "NJGYjaP0IF4e",
        "outputId": "f7f8cd46-3c3f-4ca0-b0c5-ebf516a02fc2"
      },
      "outputs": [
        {
          "output_type": "execute_result",
          "data": {
            "text/plain": [
              "('<s><s_question>what is the contact person name mentioned in letter?</s_question><s_answer>P. Carter</s_answer><sep/><s_question>what is the contact person name mentioned in letter?</s_question><s_answer>p. carter</s_answer></s>',\n",
              " str)"
            ]
          },
          "metadata": {},
          "execution_count": 48
        }
      ],
      "source": [
        "hf_sub_ocr_gt_prompt['gt_prompt'][1] , type(hf_sub_ocr_gt_prompt['gt_prompt'][1])   # 1st row"
      ]
    },
    {
      "cell_type": "code",
      "execution_count": 49,
      "metadata": {
        "colab": {
          "base_uri": "https://localhost:8080/",
          "height": 36
        },
        "id": "UouXasujIF1-",
        "outputId": "8ff49dac-87c0-4fb5-ee39-9530ac5d70c6"
      },
      "outputs": [
        {
          "output_type": "execute_result",
          "data": {
            "text/plain": [
              "\"<s><s_question>Which corporation's letterhead is this?</s_question><s_answer>Brown & Williamson Tobacco Corporation</s_answer></s>\""
            ],
            "application/vnd.google.colaboratory.intrinsic+json": {
              "type": "string"
            }
          },
          "metadata": {},
          "execution_count": 49
        }
      ],
      "source": [
        "hf_sub_ocr_gt_prompt['gt_prompt'][2]    # 2nd row"
      ]
    },
    {
      "cell_type": "markdown",
      "metadata": {
        "id": "nqm3TjHPGQ-r"
      },
      "source": [
        "## S-4: transform_and_tokenize experiment, creating tensor and custom function creation"
      ]
    },
    {
      "cell_type": "markdown",
      "source": [
        "#### Issue1: Dataset map return only list instead torch tensors\n",
        "- https://discuss.huggingface.co/t/dataset-map-return-only-list-instead-torch-tensors/15767/4\n",
        "-  map ignores tensor formatting while writing a cache file, so to get PyTorch tensors under the input_ids column, you need to explicitly call set_format(\"pt\", columns=[\"input_ids\"], output_all_columns=True) on the dataset object (after map\n",
        "- When it comes to tensors, PyArrow (the storage format we use) only understands 1D arrays, so we would have to store (potentially) a significant amount of metadata to be able to restore the types after map fully. Also, a map transform can return different value types for the same column (e.g. PyTorch tensors or Python lists), which would make this process ambiguous (e.g. should we return mixed types or only one type when indexing the dataset afterwards). So for the sake of simplicity, we return Python objects by default, and for other formats, one can use with_format/with_transform\n",
        "- https://huggingface.co/docs/datasets/v2.12.0/en/package_reference/main_classes#datasets.Dataset.set_format\n",
        "\n",
        "```\n",
        "e.g.\n",
        "from datasets import load_dataset\n",
        "from transformers import AutoTokenizer\n",
        "ds = load_dataset(\"rotten_tomatoes\", split=\"validation\")\n",
        "tokenizer = AutoTokenizer.from_pretrained(\"bert-base-cased\")\n",
        "ds = ds.map(lambda x: tokenizer(x['text'], truncation=True, padding=True), batched=True)\n",
        "ds.set_format(type='numpy', columns=['text', 'label'])\n",
        "ds.format\n",
        "```\n",
        "- https://huggingface.co/docs/datasets/process#flatten\n",
        "- https://huggingface.co/docs/datasets/v1.4.0/processing.html\n",
        "\n",
        "```\n",
        "Format:\n",
        "\n",
        "*** The set_format() function changes the format of a column to be compatible with some common data formats.\n",
        "Specify the output you’d like in the type parameter and the columns you want to format. Formatting is applied on-the-fly.\n",
        "\n",
        "For example, create PyTorch tensors by setting type=\"torch\":\n",
        "import torch\n",
        "\n",
        "dataset.set_format(type=\"torch\", columns=[\"input_ids\", \"token_type_ids\", \"attention_mask\", \"label\"])\n",
        "\n",
        "*** The with_format() function also changes the format of a column, except it returns a new Dataset object:\n",
        "\n",
        "dataset = dataset.with_format(type=\"torch\", columns=[\"input_ids\", \"token_type_ids\", \"attention_mask\", \"label\"])\n",
        "\n",
        "If you need to reset the dataset to its original format, use the reset_format() function:\n",
        "dataset.format\n",
        ">>> {'type': 'torch', 'format_kwargs': {}, 'columns': ['label'], 'output_all_columns': False}\n",
        "\n",
        "dataset.reset_format()\n",
        "dataset.format\n",
        "\n",
        ">>> {'type': 'python', 'format_kwargs': {}, 'columns': ['idx', 'label', 'sentence1', 'sentence2'], 'output_all_columns': False}\n",
        "\n",
        "```"
      ],
      "metadata": {
        "id": "nSsqx4ItC5dz"
      }
    },
    {
      "cell_type": "markdown",
      "source": [
        "#### Issue2: Colab crashing files due huge number of rows\n",
        "- https://discuss.huggingface.co/t/dataset-map-hangs-on-tokenization-relatively-small-dataset/16591/3\n",
        "- Instead of map, if we run for loop and apply function then there may be no file crashed issue occur\n",
        "- Crashing due to crossing size limit of single row in may be each row is taking more than 15 mb space"
      ],
      "metadata": {
        "id": "E-quvxlY7ixO"
      }
    },
    {
      "cell_type": "code",
      "source": [
        "img_2 = hf_sub_ocr_gt_prompt['full_path_image'][2]    ## accessing 2nd image"
      ],
      "metadata": {
        "id": "fYWqvl0nUFiK"
      },
      "execution_count": 50,
      "outputs": []
    },
    {
      "cell_type": "code",
      "source": [
        "## showing the details of pixel values before squeeze\n",
        "pixel_values_2 = processor(Image.open(img_2).convert(\"RGB\"), return_tensors=\"pt\"\n",
        ").pixel_values\n",
        "\n",
        "pixel_values_2, pixel_values_2.shape\n",
        "# torch.Size([1, 3, 2560, 1920]) shape before squeeze so need to squeeze and reduce dimension where 1 is present"
      ],
      "metadata": {
        "id": "QN6V19e2UFe6",
        "colab": {
          "base_uri": "https://localhost:8080/"
        },
        "outputId": "22eb3a0b-e273-4343-a2cf-0ede2e6d86b4"
      },
      "execution_count": 51,
      "outputs": [
        {
          "output_type": "execute_result",
          "data": {
            "text/plain": [
              "(tensor([[[[-1., -1., -1.,  ..., -1., -1., -1.],\n",
              "           [-1., -1., -1.,  ..., -1., -1., -1.],\n",
              "           [-1., -1., -1.,  ..., -1., -1., -1.],\n",
              "           ...,\n",
              "           [-1., -1., -1.,  ..., -1., -1., -1.],\n",
              "           [-1., -1., -1.,  ..., -1., -1., -1.],\n",
              "           [-1., -1., -1.,  ..., -1., -1., -1.]],\n",
              " \n",
              "          [[-1., -1., -1.,  ..., -1., -1., -1.],\n",
              "           [-1., -1., -1.,  ..., -1., -1., -1.],\n",
              "           [-1., -1., -1.,  ..., -1., -1., -1.],\n",
              "           ...,\n",
              "           [-1., -1., -1.,  ..., -1., -1., -1.],\n",
              "           [-1., -1., -1.,  ..., -1., -1., -1.],\n",
              "           [-1., -1., -1.,  ..., -1., -1., -1.]],\n",
              " \n",
              "          [[-1., -1., -1.,  ..., -1., -1., -1.],\n",
              "           [-1., -1., -1.,  ..., -1., -1., -1.],\n",
              "           [-1., -1., -1.,  ..., -1., -1., -1.],\n",
              "           ...,\n",
              "           [-1., -1., -1.,  ..., -1., -1., -1.],\n",
              "           [-1., -1., -1.,  ..., -1., -1., -1.],\n",
              "           [-1., -1., -1.,  ..., -1., -1., -1.]]]]),\n",
              " torch.Size([1, 3, 2560, 1920]))"
            ]
          },
          "metadata": {},
          "execution_count": 51
        }
      ]
    },
    {
      "cell_type": "code",
      "source": [
        "## gt prompt of 1st row sample\n",
        "gpt_1 = hf_sub_ocr_gt_prompt[\"gt_prompt\"][1]\n",
        "gpt_1"
      ],
      "metadata": {
        "id": "y7NQ6W-jUFaq",
        "colab": {
          "base_uri": "https://localhost:8080/",
          "height": 53
        },
        "outputId": "06fd4b6c-686c-4983-c9d4-85dff5e68f51"
      },
      "execution_count": 52,
      "outputs": [
        {
          "output_type": "execute_result",
          "data": {
            "text/plain": [
              "'<s><s_question>what is the contact person name mentioned in letter?</s_question><s_answer>P. Carter</s_answer><sep/><s_question>what is the contact person name mentioned in letter?</s_question><s_answer>p. carter</s_answer></s>'"
            ],
            "application/vnd.google.colaboratory.intrinsic+json": {
              "type": "string"
            }
          },
          "metadata": {},
          "execution_count": 52
        }
      ]
    },
    {
      "cell_type": "code",
      "source": [
        "## gt prompt decoder input ids of 1st row sample\n",
        "input_ids_1 = processor.tokenizer(\n",
        "      gpt_1,\n",
        "      add_special_tokens=False,\n",
        "      max_length=max_length,\n",
        "      padding=\"max_length\",\n",
        "      truncation=True,\n",
        "      return_tensors=\"pt\",\n",
        "  )[\"input_ids\"].squeeze(0)\n",
        "input_ids_1, input_ids_1.shape\n",
        "\n",
        "## before squeeze shape is torch.Size([1, 128])\n",
        "## after squeeze shape is torch.Size([128])"
      ],
      "metadata": {
        "id": "QBb6DjoJWKm5",
        "colab": {
          "base_uri": "https://localhost:8080/"
        },
        "outputId": "185d4fd8-df79-4975-8352-3629fd30e845"
      },
      "execution_count": 53,
      "outputs": [
        {
          "output_type": "execute_result",
          "data": {
            "text/plain": [
              "(tensor([    0, 57527, 27973, 52743, 48941, 44474, 37517, 55856, 40053, 35647,\n",
              "         25515, 36322, 36209, 57528, 57529, 40769, 39539, 39473, 49798, 57530,\n",
              "         57522, 57527, 27973, 52743, 48941, 44474, 37517, 55856, 40053, 35647,\n",
              "         25515, 36322, 36209, 57528, 57529, 55285, 39539, 17662, 39905, 57530,\n",
              "             2,     1,     1,     1,     1,     1,     1,     1,     1,     1,\n",
              "             1,     1,     1,     1,     1,     1,     1,     1,     1,     1,\n",
              "             1,     1,     1,     1,     1,     1,     1,     1,     1,     1,\n",
              "             1,     1,     1,     1,     1,     1,     1,     1,     1,     1,\n",
              "             1,     1,     1,     1,     1,     1,     1,     1,     1,     1,\n",
              "             1,     1,     1,     1,     1,     1,     1,     1,     1,     1,\n",
              "             1,     1,     1,     1,     1,     1,     1,     1,     1,     1,\n",
              "             1,     1,     1,     1,     1,     1,     1,     1,     1,     1,\n",
              "             1,     1,     1,     1,     1,     1,     1,     1]),\n",
              " torch.Size([128]))"
            ]
          },
          "metadata": {},
          "execution_count": 53
        }
      ]
    },
    {
      "cell_type": "code",
      "source": [
        "labels1 = input_ids_1.clone()   # creating clone tensor of decoder input ids"
      ],
      "metadata": {
        "id": "WVOz2pWbtCkU"
      },
      "execution_count": 54,
      "outputs": []
    },
    {
      "cell_type": "code",
      "source": [
        "## Sample token tensor experiment for row 1 also details of how token extraction will work on labels tensor from decoder input ids\n",
        "\n",
        "print(f\"Labels tensor Before extraction: {labels1}\")    ## labels1 tensor before extration\n",
        "## Code all together\n",
        "prompt_start_token_id1 = 57529      # start token ID just for example\n",
        "prompt_end_token_id1 = 57530      # end token ID just for example\n",
        "\n",
        "## returning index value 2-D tensor using of nonzero\n",
        "# Collection of all start index position in label\n",
        "prompt_start_token_id_index1 = (labels1 == prompt_start_token_id1).nonzero()\n",
        "prompt_end_token_id_index1 = (labels1 == prompt_end_token_id1).nonzero()\n",
        "\n",
        "## Crerating empty mask integer tensor\n",
        "mask1 = torch.tensor([], dtype=torch.int)\n",
        "\n",
        "## iterate over both start and end tensor simulteneously\n",
        "for start_index1,end_index1 in zip(prompt_start_token_id_index1, prompt_end_token_id_index1):\n",
        "  val_extracted1 = labels1[start_index1.squeeze()+1:end_index1.squeeze()]     ## stores all extarcted values\n",
        "  mask1 = torch.cat((mask1, val_extracted1))     ## concatenating start and end index value\n",
        "\n",
        "labels1[~torch.isin(labels1, mask1)]=-100        ## assign with ignore id\n",
        "print('*******************************************************************************************')\n",
        "print(f\"Labels tensor After extraction: {labels1}\")    ## tensor before extration"
      ],
      "metadata": {
        "colab": {
          "base_uri": "https://localhost:8080/"
        },
        "id": "YA4D2LVmtCgu",
        "outputId": "7ed81c7e-6cc0-4ede-c4e8-d16a74c19f7c"
      },
      "execution_count": 55,
      "outputs": [
        {
          "output_type": "stream",
          "name": "stdout",
          "text": [
            "Labels tensor Before extraction: tensor([    0, 57527, 27973, 52743, 48941, 44474, 37517, 55856, 40053, 35647,\n",
            "        25515, 36322, 36209, 57528, 57529, 40769, 39539, 39473, 49798, 57530,\n",
            "        57522, 57527, 27973, 52743, 48941, 44474, 37517, 55856, 40053, 35647,\n",
            "        25515, 36322, 36209, 57528, 57529, 55285, 39539, 17662, 39905, 57530,\n",
            "            2,     1,     1,     1,     1,     1,     1,     1,     1,     1,\n",
            "            1,     1,     1,     1,     1,     1,     1,     1,     1,     1,\n",
            "            1,     1,     1,     1,     1,     1,     1,     1,     1,     1,\n",
            "            1,     1,     1,     1,     1,     1,     1,     1,     1,     1,\n",
            "            1,     1,     1,     1,     1,     1,     1,     1,     1,     1,\n",
            "            1,     1,     1,     1,     1,     1,     1,     1,     1,     1,\n",
            "            1,     1,     1,     1,     1,     1,     1,     1,     1,     1,\n",
            "            1,     1,     1,     1,     1,     1,     1,     1,     1,     1,\n",
            "            1,     1,     1,     1,     1,     1,     1,     1])\n",
            "*******************************************************************************************\n",
            "Labels tensor After extraction: tensor([ -100,  -100,  -100,  -100,  -100,  -100,  -100,  -100,  -100,  -100,\n",
            "         -100,  -100,  -100,  -100,  -100, 40769, 39539, 39473, 49798,  -100,\n",
            "         -100,  -100,  -100,  -100,  -100,  -100,  -100,  -100,  -100,  -100,\n",
            "         -100,  -100,  -100,  -100,  -100, 55285, 39539, 17662, 39905,  -100,\n",
            "         -100,  -100,  -100,  -100,  -100,  -100,  -100,  -100,  -100,  -100,\n",
            "         -100,  -100,  -100,  -100,  -100,  -100,  -100,  -100,  -100,  -100,\n",
            "         -100,  -100,  -100,  -100,  -100,  -100,  -100,  -100,  -100,  -100,\n",
            "         -100,  -100,  -100,  -100,  -100,  -100,  -100,  -100,  -100,  -100,\n",
            "         -100,  -100,  -100,  -100,  -100,  -100,  -100,  -100,  -100,  -100,\n",
            "         -100,  -100,  -100,  -100,  -100,  -100,  -100,  -100,  -100,  -100,\n",
            "         -100,  -100,  -100,  -100,  -100,  -100,  -100,  -100,  -100,  -100,\n",
            "         -100,  -100,  -100,  -100,  -100,  -100,  -100,  -100,  -100,  -100,\n",
            "         -100,  -100,  -100,  -100,  -100,  -100,  -100,  -100])\n"
          ]
        }
      ]
    },
    {
      "cell_type": "code",
      "source": [
        "## For all type of task\n",
        "def transform_and_tokenize(hf_examples, processor=processor, ignore_id=-100, prompt_start_token=None, prompt_end_token=None) -> Tuple[torch.Tensor, torch.Tensor, torch.Tensor]:\n",
        "\n",
        "  \"\"\"\n",
        "      Load image from image_path of given dataset_path and convert into input_tensor and labels\n",
        "      Convert gt data into input_ids (tokenized string)\n",
        "      Returns:\n",
        "          input_tensor : preprocessed image\n",
        "          input_ids : tokenized gt_data\n",
        "          labels : masked labels (model doesn't need to predict prompt and pad token)\n",
        "  \"\"\"\n",
        "  print('*****************************************************************************************')\n",
        "\n",
        "  add_tokens([prompt_start_token, prompt_end_token])\n",
        "  prompt_start_token_id = processor.tokenizer.convert_tokens_to_ids(prompt_start_token)\n",
        "  print(prompt_start_token_id)\n",
        "  prompt_end_token_id = processor.tokenizer.convert_tokens_to_ids(prompt_end_token)\n",
        "  print(prompt_end_token_id)\n",
        "\n",
        "  # S-1: create input_tensor from image i.e pixel values\n",
        "  try:\n",
        "    pixel_values = processor(\n",
        "        Image.open(hf_examples['full_path_image']).convert(\"RGB\"), return_tensors=\"pt\"    ## This image path part will vary as per task\n",
        "    ).pixel_values\n",
        "\n",
        "    # torch.Size([1, 3, 2560, 1920]) shape before squeeze\n",
        "\n",
        "    input_tensor_pixel = pixel_values.squeeze()\n",
        "    print(type(input_tensor_pixel),input_tensor_pixel.shape)\n",
        "  except Exception as e:\n",
        "    print(hf_examples)\n",
        "    print(f\"Error: {e}\")\n",
        "    return {}\n",
        "\n",
        "  # S-2: tokenize document and creating decoder input ids\n",
        "  decoder_input_ids = processor.tokenizer(\n",
        "      hf_examples[\"gt_prompt\"],\n",
        "      add_special_tokens=False,\n",
        "      max_length=max_length,\n",
        "      padding=\"max_length\",\n",
        "      truncation=True,\n",
        "      return_tensors=\"pt\",\n",
        "  )[\"input_ids\"].squeeze(0)     #torch.Size([1, 128]) before squeeze\n",
        "\n",
        "  print(type(decoder_input_ids),decoder_input_ids.shape)\n",
        "\n",
        "  # S-3: Create labels which is clone tensor for extracted values from decoder input ids tensors\n",
        "\n",
        "  labels = decoder_input_ids.clone()    ## clone tensor of decoder input ids\n",
        "\n",
        "  ## returning index value 2-D tensor using of nonzero\n",
        "  # Collection of all start index position in label\n",
        "\n",
        "  prompt_start_token_id_index = (labels == prompt_start_token_id).nonzero\n",
        "  print(prompt_start_token_id_index())\n",
        "  prompt_end_token_id_index = (labels == prompt_end_token_id).nonzero\n",
        "  print(prompt_end_token_id_index())\n",
        "\n",
        "  ## Creating empty integer unmask tensor\n",
        "  unmask = torch.tensor([], dtype=torch.int)\n",
        "\n",
        "  ## iterate over both start and end tensor simulteneously\n",
        "  for start_index,end_index in zip(prompt_start_token_id_index(), prompt_end_token_id_index()):\n",
        "    val_extracted = labels[start_index.squeeze()+1:end_index.squeeze()]     ## stores all extarcted values\n",
        "    unmask = torch.cat((unmask, val_extracted))     ## concatenating start and end index value\n",
        "\n",
        "  labels[~torch.isin(labels, unmask)] =  ignore_id       ## assign with ignore id\n",
        "\n",
        "  return {\"input_tensor_pixel\": input_tensor_pixel, \"decoder_input_ids\": decoder_input_ids, \"labels\": labels}\n",
        "\n"
      ],
      "metadata": {
        "id": "zYcr37mNtCds"
      },
      "execution_count": 56,
      "outputs": []
    },
    {
      "cell_type": "code",
      "execution_count": 57,
      "metadata": {
        "id": "5noT8KbAIFzG"
      },
      "outputs": [],
      "source": [
        "processor.image_processor.size = image_size[::-1] # should be (width, height)\n",
        "processor.image_processor.do_align_long_axis = False"
      ]
    },
    {
      "cell_type": "code",
      "execution_count": 58,
      "metadata": {
        "colab": {
          "base_uri": "https://localhost:8080/",
          "height": 1000,
          "referenced_widgets": [
            "b1a09acd59be443db6647e5d803d531b",
            "209c8ebc09ae49f3b3d67f69d6413bdf",
            "91417a9ef992478a8d2afec05ab788ee",
            "3f0150ac5b9447478a16f974ab3c8b1c",
            "97b7ffc132694817bdf6fbc2a7655674",
            "f055e8ce8cc14b7ba822a6cdfabe7787",
            "7e51808118b94eb08cbeee957f95f2c2",
            "2a8b691031a94b3abbe442a476cb1184",
            "48fdb17f2c814643a53c9bb7bc3d27cd",
            "f4ac49b8b3854d84923a55e6fcd9e8bb",
            "1f22d9e9263c40a1ae701f452fb38aa7"
          ]
        },
        "id": "SDgYg69eIFm-",
        "outputId": "1732c0a2-db3d-4eb6-c8f7-63105d4e863a"
      },
      "outputs": [
        {
          "output_type": "display_data",
          "data": {
            "text/plain": [
              "Map:   0%|          | 0/10 [00:00<?, ? examples/s]"
            ],
            "application/vnd.jupyter.widget-view+json": {
              "version_major": 2,
              "version_minor": 0,
              "model_id": "b1a09acd59be443db6647e5d803d531b"
            }
          },
          "metadata": {}
        },
        {
          "output_type": "stream",
          "name": "stdout",
          "text": [
            "*****************************************************************************************\n",
            "57529\n",
            "57530\n",
            "<class 'torch.Tensor'> torch.Size([3, 1280, 960])\n",
            "<class 'torch.Tensor'> torch.Size([128])\n",
            "tensor([[13]])\n",
            "tensor([[18]])\n",
            "*****************************************************************************************\n",
            "57529\n",
            "57530\n",
            "<class 'torch.Tensor'> torch.Size([3, 1280, 960])\n",
            "<class 'torch.Tensor'> torch.Size([128])\n",
            "tensor([[14],\n",
            "        [34]])\n",
            "tensor([[19],\n",
            "        [39]])\n",
            "*****************************************************************************************\n",
            "57529\n",
            "57530\n",
            "<class 'torch.Tensor'> torch.Size([3, 1280, 960])\n",
            "<class 'torch.Tensor'> torch.Size([128])\n",
            "tensor([[15]])\n",
            "tensor([[24]])\n",
            "*****************************************************************************************\n",
            "57529\n",
            "57530\n",
            "<class 'torch.Tensor'> torch.Size([3, 1280, 960])\n",
            "<class 'torch.Tensor'> torch.Size([128])\n",
            "tensor([[12]])\n",
            "tensor([[19]])\n",
            "*****************************************************************************************\n",
            "57529\n",
            "57530\n",
            "<class 'torch.Tensor'> torch.Size([3, 1280, 960])\n",
            "<class 'torch.Tensor'> torch.Size([128])\n",
            "tensor([[11]])\n",
            "tensor([[24]])\n",
            "*****************************************************************************************\n",
            "57529\n",
            "57530\n",
            "<class 'torch.Tensor'> torch.Size([3, 1280, 960])\n",
            "<class 'torch.Tensor'> torch.Size([128])\n",
            "tensor([[19]])\n",
            "tensor([[25]])\n",
            "*****************************************************************************************\n",
            "57529\n",
            "57530\n",
            "<class 'torch.Tensor'> torch.Size([3, 1280, 960])\n",
            "<class 'torch.Tensor'> torch.Size([128])\n",
            "tensor([[16],\n",
            "        [35]])\n",
            "tensor([[18],\n",
            "        [37]])\n",
            "*****************************************************************************************\n",
            "57529\n",
            "57530\n",
            "<class 'torch.Tensor'> torch.Size([3, 1280, 960])\n",
            "<class 'torch.Tensor'> torch.Size([128])\n",
            "tensor([[10],\n",
            "        [26]])\n",
            "tensor([[15],\n",
            "        [31]])\n",
            "*****************************************************************************************\n",
            "57529\n",
            "57530\n",
            "<class 'torch.Tensor'> torch.Size([3, 1280, 960])\n",
            "<class 'torch.Tensor'> torch.Size([128])\n",
            "tensor([[10]])\n",
            "tensor([[20]])\n",
            "*****************************************************************************************\n",
            "57529\n",
            "57530\n",
            "<class 'torch.Tensor'> torch.Size([3, 1280, 960])\n",
            "<class 'torch.Tensor'> torch.Size([128])\n",
            "tensor([[8]])\n",
            "tensor([[12]])\n"
          ]
        }
      ],
      "source": [
        "## For DOCVQA task\n",
        "prompt_start_token = \"<s_answer>\"\n",
        "prompt_end_token = \"</s_answer>\"\n",
        "\n",
        "hf_sub_processed_final = hf_sub_ocr_gt_prompt.map(\n",
        "    transform_and_tokenize, fn_kwargs={\"prompt_start_token\": prompt_start_token, \"prompt_end_token\": prompt_end_token}\n",
        "    )"
      ]
    },
    {
      "cell_type": "code",
      "source": [
        "# ## For Doc Classification task\n",
        "# prompt_start_token = \"<s_docClass>\"\n",
        "# prompt_end_token = \"</s_docClass>\"\n",
        "\n",
        "# hf_sub_processed_final = hf_sub_ocr_gt_prompt.map(\n",
        "#     transform_and_tokenize, fn_kwargs={\"prompt_start_token\": prompt_start_token, \"prompt_end_token\": prompt_end_token}\n",
        "#     )"
      ],
      "metadata": {
        "id": "VlWcIUk916ak"
      },
      "execution_count": 59,
      "outputs": []
    },
    {
      "cell_type": "code",
      "source": [
        "# ## For Doc Prsing task\n",
        "# prompt_start_token = \"<s_docParse>\"\n",
        "# prompt_end_token = \"</s_docParse>\"\n",
        "\n",
        "# hf_sub_processed_final = hf_sub_ocr_gt_prompt.map(\n",
        "#     transform_and_tokenize, fn_kwargs={\"prompt_start_token\": prompt_start_token, \"prompt_end_token\": prompt_end_token}\n",
        "#     )"
      ],
      "metadata": {
        "id": "JLOzR40l16TL"
      },
      "execution_count": 60,
      "outputs": []
    },
    {
      "cell_type": "code",
      "source": [
        "## Converting Huggingface tensor formatting for specific columns using .with_format from Python lists to PyTorch Tensor\n",
        "hf_sub_processed_final = hf_sub_processed_final.with_format(type=\"torch\", columns=[\"input_tensor_pixel\", \"decoder_input_ids\", \"labels\"])"
      ],
      "metadata": {
        "id": "4rGQaeq-eKgj"
      },
      "execution_count": 61,
      "outputs": []
    },
    {
      "cell_type": "markdown",
      "metadata": {
        "id": "cfaPb7LHuCNF"
      },
      "source": [
        "### Note:fn_kwargs\n",
        "In the context of the `map` method of a Hugging Face dataset, `fn_kwargs` refers to the keyword arguments that you can pass to the mapping function.\n",
        "\n",
        "The `map` method allows you to apply a mapping function to each example in the dataset. You can provide additional keyword arguments to the mapping function using the `fn_kwargs` parameter. The `fn_kwargs` parameter takes a dictionary where the keys are the argument names and the values are the corresponding argument values.\n",
        "\n",
        "For example:\n",
        "\n",
        "```python\n",
        "def my_mapping_function(example, arg1, arg2):\n",
        "    # Process the example using arg1 and arg2\n",
        "    ...\n",
        "\n",
        "dataset = dataset.map(\n",
        "    my_mapping_function,\n",
        "    fn_kwargs={\"arg1\": value1, \"arg2\": value2}\n",
        ")\n",
        "```\n",
        "\n",
        "In this example, the `my_mapping_function` is the mapping function that takes additional arguments `arg1` and `arg2`. The `fn_kwargs` parameter is used to pass the values `value1` and `value2` to `arg1` and `arg2`, respectively.\n",
        "\n",
        "By using `fn_kwargs`, you can pass additional arguments to your mapping function and customize its behavior based on those arguments."
      ]
    },
    {
      "cell_type": "code",
      "execution_count": 62,
      "metadata": {
        "colab": {
          "base_uri": "https://localhost:8080/"
        },
        "id": "4K6JrAuVIFj_",
        "outputId": "a2c8fd56-1f1d-44ca-95ae-a66ca1a58b7a"
      },
      "outputs": [
        {
          "output_type": "execute_result",
          "data": {
            "text/plain": [
              "Dataset({\n",
              "    features: ['question', 'docId', 'answers', 'data_split', 'full_path_image', 'bounding_boxes', 'word_list', 'ground_truth', 'gt_prompt', 'input_tensor_pixel', 'decoder_input_ids', 'labels'],\n",
              "    num_rows: 10\n",
              "})"
            ]
          },
          "metadata": {},
          "execution_count": 62
        }
      ],
      "source": [
        "hf_sub_processed_final    # details of final processed huggingface data"
      ]
    },
    {
      "cell_type": "markdown",
      "source": [
        "#### Sample Check of row 0,1,2"
      ],
      "metadata": {
        "id": "cqbNZBeO3HgK"
      }
    },
    {
      "cell_type": "code",
      "source": [
        "## Sample input tensor pixel check for row 0\n",
        "hf_sub_processed_final['input_tensor_pixel'][0]"
      ],
      "metadata": {
        "id": "oEmhCvxssUcl",
        "colab": {
          "base_uri": "https://localhost:8080/"
        },
        "outputId": "1063de21-5434-4f62-ddbb-b3ba80807118"
      },
      "execution_count": 63,
      "outputs": [
        {
          "output_type": "execute_result",
          "data": {
            "text/plain": [
              "tensor([[[-1., -1., -1.,  ..., -1., -1., -1.],\n",
              "         [-1., -1., -1.,  ..., -1., -1., -1.],\n",
              "         [-1., -1., -1.,  ..., -1., -1., -1.],\n",
              "         ...,\n",
              "         [-1., -1., -1.,  ..., -1., -1., -1.],\n",
              "         [-1., -1., -1.,  ..., -1., -1., -1.],\n",
              "         [-1., -1., -1.,  ..., -1., -1., -1.]],\n",
              "\n",
              "        [[-1., -1., -1.,  ..., -1., -1., -1.],\n",
              "         [-1., -1., -1.,  ..., -1., -1., -1.],\n",
              "         [-1., -1., -1.,  ..., -1., -1., -1.],\n",
              "         ...,\n",
              "         [-1., -1., -1.,  ..., -1., -1., -1.],\n",
              "         [-1., -1., -1.,  ..., -1., -1., -1.],\n",
              "         [-1., -1., -1.,  ..., -1., -1., -1.]],\n",
              "\n",
              "        [[-1., -1., -1.,  ..., -1., -1., -1.],\n",
              "         [-1., -1., -1.,  ..., -1., -1., -1.],\n",
              "         [-1., -1., -1.,  ..., -1., -1., -1.],\n",
              "         ...,\n",
              "         [-1., -1., -1.,  ..., -1., -1., -1.],\n",
              "         [-1., -1., -1.,  ..., -1., -1., -1.],\n",
              "         [-1., -1., -1.,  ..., -1., -1., -1.]]])"
            ]
          },
          "metadata": {},
          "execution_count": 63
        }
      ]
    },
    {
      "cell_type": "code",
      "source": [
        "type(hf_sub_processed_final['input_tensor_pixel'][0]), hf_sub_processed_final['input_tensor_pixel'][0].shape"
      ],
      "metadata": {
        "id": "73eucFq_sUZ9",
        "colab": {
          "base_uri": "https://localhost:8080/"
        },
        "outputId": "f4da356a-84f9-4650-9013-05b7029f0a01"
      },
      "execution_count": 64,
      "outputs": [
        {
          "output_type": "execute_result",
          "data": {
            "text/plain": [
              "(torch.Tensor, torch.Size([3, 1280, 960]))"
            ]
          },
          "metadata": {},
          "execution_count": 64
        }
      ]
    },
    {
      "cell_type": "code",
      "source": [
        "## decoder input ids checking for row 0\n",
        "hf_sub_processed_final['decoder_input_ids'][0], type(hf_sub_processed_final['decoder_input_ids'][0])"
      ],
      "metadata": {
        "colab": {
          "base_uri": "https://localhost:8080/"
        },
        "id": "MkBSEOV73PeJ",
        "outputId": "261afd82-d831-4b68-8514-7c08f04dadaa"
      },
      "execution_count": 65,
      "outputs": [
        {
          "output_type": "execute_result",
          "data": {
            "text/plain": [
              "(tensor([    0, 57527, 27973, 52743, 48941, 44960, 40053, 35647, 25515, 54964,\n",
              "         36322, 36209, 57528, 57529,  1314, 27810, 47106,  4050, 57530,     2,\n",
              "             1,     1,     1,     1,     1,     1,     1,     1,     1,     1,\n",
              "             1,     1,     1,     1,     1,     1,     1,     1,     1,     1,\n",
              "             1,     1,     1,     1,     1,     1,     1,     1,     1,     1,\n",
              "             1,     1,     1,     1,     1,     1,     1,     1,     1,     1,\n",
              "             1,     1,     1,     1,     1,     1,     1,     1,     1,     1,\n",
              "             1,     1,     1,     1,     1,     1,     1,     1,     1,     1,\n",
              "             1,     1,     1,     1,     1,     1,     1,     1,     1,     1,\n",
              "             1,     1,     1,     1,     1,     1,     1,     1,     1,     1,\n",
              "             1,     1,     1,     1,     1,     1,     1,     1,     1,     1,\n",
              "             1,     1,     1,     1,     1,     1,     1,     1,     1,     1,\n",
              "             1,     1,     1,     1,     1,     1,     1,     1]),\n",
              " torch.Tensor)"
            ]
          },
          "metadata": {},
          "execution_count": 65
        }
      ]
    },
    {
      "cell_type": "code",
      "source": [
        "## labels checking for row 0\n",
        "hf_sub_processed_final['labels'][0]"
      ],
      "metadata": {
        "colab": {
          "base_uri": "https://localhost:8080/"
        },
        "id": "THU353X63kcI",
        "outputId": "05036204-4dfa-4190-8350-4d5b436db718"
      },
      "execution_count": 66,
      "outputs": [
        {
          "output_type": "execute_result",
          "data": {
            "text/plain": [
              "tensor([ -100,  -100,  -100,  -100,  -100,  -100,  -100,  -100,  -100,  -100,\n",
              "         -100,  -100,  -100,  -100,  1314, 27810, 47106,  4050,  -100,  -100,\n",
              "         -100,  -100,  -100,  -100,  -100,  -100,  -100,  -100,  -100,  -100,\n",
              "         -100,  -100,  -100,  -100,  -100,  -100,  -100,  -100,  -100,  -100,\n",
              "         -100,  -100,  -100,  -100,  -100,  -100,  -100,  -100,  -100,  -100,\n",
              "         -100,  -100,  -100,  -100,  -100,  -100,  -100,  -100,  -100,  -100,\n",
              "         -100,  -100,  -100,  -100,  -100,  -100,  -100,  -100,  -100,  -100,\n",
              "         -100,  -100,  -100,  -100,  -100,  -100,  -100,  -100,  -100,  -100,\n",
              "         -100,  -100,  -100,  -100,  -100,  -100,  -100,  -100,  -100,  -100,\n",
              "         -100,  -100,  -100,  -100,  -100,  -100,  -100,  -100,  -100,  -100,\n",
              "         -100,  -100,  -100,  -100,  -100,  -100,  -100,  -100,  -100,  -100,\n",
              "         -100,  -100,  -100,  -100,  -100,  -100,  -100,  -100,  -100,  -100,\n",
              "         -100,  -100,  -100,  -100,  -100,  -100,  -100,  -100])"
            ]
          },
          "metadata": {},
          "execution_count": 66
        }
      ]
    },
    {
      "cell_type": "code",
      "source": [
        "## decoder input ids checking for row 1\n",
        "hf_sub_processed_final['decoder_input_ids'][1]"
      ],
      "metadata": {
        "colab": {
          "base_uri": "https://localhost:8080/"
        },
        "id": "pC0d25Yc4jTX",
        "outputId": "4e7c2205-26ed-4656-e5b2-63f0d5fc74bb"
      },
      "execution_count": 67,
      "outputs": [
        {
          "output_type": "execute_result",
          "data": {
            "text/plain": [
              "tensor([    0, 57527, 27973, 52743, 48941, 44474, 37517, 55856, 40053, 35647,\n",
              "        25515, 36322, 36209, 57528, 57529, 40769, 39539, 39473, 49798, 57530,\n",
              "        57522, 57527, 27973, 52743, 48941, 44474, 37517, 55856, 40053, 35647,\n",
              "        25515, 36322, 36209, 57528, 57529, 55285, 39539, 17662, 39905, 57530,\n",
              "            2,     1,     1,     1,     1,     1,     1,     1,     1,     1,\n",
              "            1,     1,     1,     1,     1,     1,     1,     1,     1,     1,\n",
              "            1,     1,     1,     1,     1,     1,     1,     1,     1,     1,\n",
              "            1,     1,     1,     1,     1,     1,     1,     1,     1,     1,\n",
              "            1,     1,     1,     1,     1,     1,     1,     1,     1,     1,\n",
              "            1,     1,     1,     1,     1,     1,     1,     1,     1,     1,\n",
              "            1,     1,     1,     1,     1,     1,     1,     1,     1,     1,\n",
              "            1,     1,     1,     1,     1,     1,     1,     1,     1,     1,\n",
              "            1,     1,     1,     1,     1,     1,     1,     1])"
            ]
          },
          "metadata": {},
          "execution_count": 67
        }
      ]
    },
    {
      "cell_type": "code",
      "source": [
        "## labels checking for row 1\n",
        "hf_sub_processed_final['labels'][1]"
      ],
      "metadata": {
        "colab": {
          "base_uri": "https://localhost:8080/"
        },
        "id": "_E_evWwn4jQH",
        "outputId": "31ba046b-3642-45c2-f618-b5c2b0871ff7"
      },
      "execution_count": 68,
      "outputs": [
        {
          "output_type": "execute_result",
          "data": {
            "text/plain": [
              "tensor([ -100,  -100,  -100,  -100,  -100,  -100,  -100,  -100,  -100,  -100,\n",
              "         -100,  -100,  -100,  -100,  -100, 40769, 39539, 39473, 49798,  -100,\n",
              "         -100,  -100,  -100,  -100,  -100,  -100,  -100,  -100,  -100,  -100,\n",
              "         -100,  -100,  -100,  -100,  -100, 55285, 39539, 17662, 39905,  -100,\n",
              "         -100,  -100,  -100,  -100,  -100,  -100,  -100,  -100,  -100,  -100,\n",
              "         -100,  -100,  -100,  -100,  -100,  -100,  -100,  -100,  -100,  -100,\n",
              "         -100,  -100,  -100,  -100,  -100,  -100,  -100,  -100,  -100,  -100,\n",
              "         -100,  -100,  -100,  -100,  -100,  -100,  -100,  -100,  -100,  -100,\n",
              "         -100,  -100,  -100,  -100,  -100,  -100,  -100,  -100,  -100,  -100,\n",
              "         -100,  -100,  -100,  -100,  -100,  -100,  -100,  -100,  -100,  -100,\n",
              "         -100,  -100,  -100,  -100,  -100,  -100,  -100,  -100,  -100,  -100,\n",
              "         -100,  -100,  -100,  -100,  -100,  -100,  -100,  -100,  -100,  -100,\n",
              "         -100,  -100,  -100,  -100,  -100,  -100,  -100,  -100])"
            ]
          },
          "metadata": {},
          "execution_count": 68
        }
      ]
    },
    {
      "cell_type": "code",
      "source": [
        "## Sample decoder input ids check of row 2\n",
        "hf_sub_processed_final['decoder_input_ids'][2]"
      ],
      "metadata": {
        "id": "xQoFle51sUXV",
        "colab": {
          "base_uri": "https://localhost:8080/"
        },
        "outputId": "81d90318-ff31-4253-e176-d1ecd7404f77"
      },
      "execution_count": 69,
      "outputs": [
        {
          "output_type": "execute_result",
          "data": {
            "text/plain": [
              "tensor([    0, 57527, 46193, 56931, 22964, 47459,  8888, 28431, 46192, 36322,\n",
              "        36294, 52743, 54964, 36209, 57528, 57529, 39611, 46762, 39710, 20221,\n",
              "        49703, 39571,  8342, 53498, 57530,     2,     1,     1,     1,     1,\n",
              "            1,     1,     1,     1,     1,     1,     1,     1,     1,     1,\n",
              "            1,     1,     1,     1,     1,     1,     1,     1,     1,     1,\n",
              "            1,     1,     1,     1,     1,     1,     1,     1,     1,     1,\n",
              "            1,     1,     1,     1,     1,     1,     1,     1,     1,     1,\n",
              "            1,     1,     1,     1,     1,     1,     1,     1,     1,     1,\n",
              "            1,     1,     1,     1,     1,     1,     1,     1,     1,     1,\n",
              "            1,     1,     1,     1,     1,     1,     1,     1,     1,     1,\n",
              "            1,     1,     1,     1,     1,     1,     1,     1,     1,     1,\n",
              "            1,     1,     1,     1,     1,     1,     1,     1,     1,     1,\n",
              "            1,     1,     1,     1,     1,     1,     1,     1])"
            ]
          },
          "metadata": {},
          "execution_count": 69
        }
      ]
    },
    {
      "cell_type": "code",
      "source": [
        "type(hf_sub_processed_final['decoder_input_ids'][2]), hf_sub_processed_final['decoder_input_ids'][2].shape"
      ],
      "metadata": {
        "id": "AUR4tKG-sUUt",
        "colab": {
          "base_uri": "https://localhost:8080/"
        },
        "outputId": "8f5abcd7-1dcd-4147-f340-e4c1d57d3891"
      },
      "execution_count": 70,
      "outputs": [
        {
          "output_type": "execute_result",
          "data": {
            "text/plain": [
              "(torch.Tensor, torch.Size([128]))"
            ]
          },
          "metadata": {},
          "execution_count": 70
        }
      ]
    },
    {
      "cell_type": "code",
      "source": [
        "## Sample labels check of row 2\n",
        "hf_sub_processed_final['labels'][2]"
      ],
      "metadata": {
        "id": "1VhQhixvsUR9",
        "colab": {
          "base_uri": "https://localhost:8080/"
        },
        "outputId": "35f34b7c-f276-4178-f180-cc9447d79cbe"
      },
      "execution_count": 71,
      "outputs": [
        {
          "output_type": "execute_result",
          "data": {
            "text/plain": [
              "tensor([ -100,  -100,  -100,  -100,  -100,  -100,  -100,  -100,  -100,  -100,\n",
              "         -100,  -100,  -100,  -100,  -100,  -100, 39611, 46762, 39710, 20221,\n",
              "        49703, 39571,  8342, 53498,  -100,  -100,  -100,  -100,  -100,  -100,\n",
              "         -100,  -100,  -100,  -100,  -100,  -100,  -100,  -100,  -100,  -100,\n",
              "         -100,  -100,  -100,  -100,  -100,  -100,  -100,  -100,  -100,  -100,\n",
              "         -100,  -100,  -100,  -100,  -100,  -100,  -100,  -100,  -100,  -100,\n",
              "         -100,  -100,  -100,  -100,  -100,  -100,  -100,  -100,  -100,  -100,\n",
              "         -100,  -100,  -100,  -100,  -100,  -100,  -100,  -100,  -100,  -100,\n",
              "         -100,  -100,  -100,  -100,  -100,  -100,  -100,  -100,  -100,  -100,\n",
              "         -100,  -100,  -100,  -100,  -100,  -100,  -100,  -100,  -100,  -100,\n",
              "         -100,  -100,  -100,  -100,  -100,  -100,  -100,  -100,  -100,  -100,\n",
              "         -100,  -100,  -100,  -100,  -100,  -100,  -100,  -100,  -100,  -100,\n",
              "         -100,  -100,  -100,  -100,  -100,  -100,  -100,  -100])"
            ]
          },
          "metadata": {},
          "execution_count": 71
        }
      ]
    },
    {
      "cell_type": "code",
      "source": [
        "type(hf_sub_processed_final['labels'][2]), hf_sub_processed_final['labels'][2].shape"
      ],
      "metadata": {
        "id": "kKDTHlMNsUPV",
        "colab": {
          "base_uri": "https://localhost:8080/"
        },
        "outputId": "ec15fcba-3ca4-4d5c-f275-ecb45271d911"
      },
      "execution_count": 72,
      "outputs": [
        {
          "output_type": "execute_result",
          "data": {
            "text/plain": [
              "(torch.Tensor, torch.Size([128]))"
            ]
          },
          "metadata": {},
          "execution_count": 72
        }
      ]
    },
    {
      "cell_type": "code",
      "source": [],
      "metadata": {
        "id": "41uGVhDswgTP"
      },
      "execution_count": 72,
      "outputs": []
    },
    {
      "cell_type": "code",
      "source": [
        "# from datasets import load_from_disk\n",
        "# from transformers import DonutProcessor\n",
        "\n",
        "## COMMENT IN in case you want to save the processed dataset to disk in case of error later\n",
        "# processed_dataset.save_to_disk(\"processed_dataset\")\n",
        "# processor.save_pretrained(\"processor\")\n",
        "\n",
        "## COMMENT IN in case you want to load the processed dataset from disk in case of error later\n",
        "# processed_dataset = load_from_disk(\"processed_dataset\")\n",
        "# processor = DonutProcessor.from_pretrained(\"processor\")"
      ],
      "metadata": {
        "id": "7aj0nupisgmu"
      },
      "execution_count": 73,
      "outputs": []
    },
    {
      "cell_type": "markdown",
      "metadata": {
        "id": "_LSKJnZc_AD_"
      },
      "source": [
        "## S-5: Converting Huggingface Dataset to PyTorch Dataset"
      ]
    },
    {
      "cell_type": "code",
      "execution_count": 74,
      "metadata": {
        "id": "jyT8GcumA8Om"
      },
      "outputs": [],
      "source": [
        "from torch.utils.data import Dataset"
      ]
    },
    {
      "cell_type": "code",
      "execution_count": 75,
      "metadata": {
        "id": "ryb9vqcBIFcy"
      },
      "outputs": [],
      "source": [
        "## Creating custom class to convert Huggingface to PyTorch Dataset\n",
        "\n",
        "class DonutDatasetWrapper(Dataset):\n",
        "  def __init__(self, dataset_name_or_path: str,):\n",
        "\n",
        "    super().__init__()\n",
        "    self.hf_dataset = dataset_name_or_path\n",
        "\n",
        "  def __len__(self):\n",
        "    return len(self.hf_dataset) -1\n",
        "\n",
        "  def __getitem__(self, idx):\n",
        "    # Retrieve the desired columns from the Hugging Face dataset\n",
        "    input_tensor_pixel = self.hf_dataset[idx]['input_tensor_pixel']\n",
        "    input_ids = self.hf_dataset[idx]['decoder_input_ids']\n",
        "    labels = self.hf_dataset[idx]['labels']\n",
        "\n",
        "    # Return the selected columns as tensors\n",
        "    return input_tensor_pixel, input_ids, labels\n"
      ]
    },
    {
      "cell_type": "markdown",
      "metadata": {
        "id": "W48IqHJoJjWe"
      },
      "source": [
        "### Note: why len - 1?\n",
        "In this class, the `__len__()` method is implemented to return the length of the dataset. However, the value returned is `self.dataset_length - 1`. The reason behind subtracting 1 is to account for zero-based indexing.\n",
        "\n",
        "In Python, indexing starts from 0, so if the dataset has `n` samples, their indices will range from 0 to `n-1`. By subtracting 1 from the dataset length, the `__len__()` method ensures that the index values are within the valid range.\n",
        "\n",
        "For example, if `self.dataset_length` is 100 (indicating a dataset with 100 samples), the valid indices will be 0 to 99. Therefore, returning `self.dataset_length - 1` from `__len__()` ensures that the dataset length aligns with the valid indices of the dataset."
      ]
    },
    {
      "cell_type": "code",
      "execution_count": 76,
      "metadata": {
        "id": "QCV4uijgIFae"
      },
      "outputs": [],
      "source": [
        "# Assuming you have the Hugging Face dataset `hf_sub_processed_final`\n",
        "train_dataset_sub = DonutDatasetWrapper(hf_sub_processed_final)"
      ]
    },
    {
      "cell_type": "code",
      "execution_count": 77,
      "metadata": {
        "colab": {
          "base_uri": "https://localhost:8080/"
        },
        "id": "2uIXZ8bAIFX2",
        "outputId": "f85f3836-4a97-46ef-aab7-e2ba39a8df80"
      },
      "outputs": [
        {
          "output_type": "execute_result",
          "data": {
            "text/plain": [
              "<__main__.DonutDatasetWrapper at 0x78c32d4601f0>"
            ]
          },
          "metadata": {},
          "execution_count": 77
        }
      ],
      "source": [
        "train_dataset_sub   # details of PyTorch dataset format"
      ]
    },
    {
      "cell_type": "code",
      "execution_count": 78,
      "metadata": {
        "id": "kDubqbm5IFVu",
        "colab": {
          "base_uri": "https://localhost:8080/"
        },
        "outputId": "0a06b077-7160-432d-e797-8fcc15a0b49e"
      },
      "outputs": [
        {
          "output_type": "execute_result",
          "data": {
            "text/plain": [
              "9"
            ]
          },
          "metadata": {},
          "execution_count": 78
        }
      ],
      "source": [
        "len(train_dataset_sub)    # length of train dataset"
      ]
    },
    {
      "cell_type": "code",
      "execution_count": 79,
      "metadata": {
        "id": "X9uH5EHIIFS-",
        "colab": {
          "base_uri": "https://localhost:8080/"
        },
        "outputId": "6c6f75ef-6d02-411c-e2fd-ec09df527a68"
      },
      "outputs": [
        {
          "output_type": "execute_result",
          "data": {
            "text/plain": [
              "__main__.DonutDatasetWrapper"
            ]
          },
          "metadata": {},
          "execution_count": 79
        }
      ],
      "source": [
        "type(train_dataset_sub)"
      ]
    },
    {
      "cell_type": "markdown",
      "source": [
        "##### Sample row 0:"
      ],
      "metadata": {
        "id": "BUSwIhm55Kie"
      }
    },
    {
      "cell_type": "code",
      "execution_count": 80,
      "metadata": {
        "id": "68eMMaRZIFN_",
        "colab": {
          "base_uri": "https://localhost:8080/"
        },
        "outputId": "3d2e5220-b9fc-4949-853d-1515404d14b4"
      },
      "outputs": [
        {
          "output_type": "execute_result",
          "data": {
            "text/plain": [
              "(tensor([[[-1., -1., -1.,  ..., -1., -1., -1.],\n",
              "          [-1., -1., -1.,  ..., -1., -1., -1.],\n",
              "          [-1., -1., -1.,  ..., -1., -1., -1.],\n",
              "          ...,\n",
              "          [-1., -1., -1.,  ..., -1., -1., -1.],\n",
              "          [-1., -1., -1.,  ..., -1., -1., -1.],\n",
              "          [-1., -1., -1.,  ..., -1., -1., -1.]],\n",
              " \n",
              "         [[-1., -1., -1.,  ..., -1., -1., -1.],\n",
              "          [-1., -1., -1.,  ..., -1., -1., -1.],\n",
              "          [-1., -1., -1.,  ..., -1., -1., -1.],\n",
              "          ...,\n",
              "          [-1., -1., -1.,  ..., -1., -1., -1.],\n",
              "          [-1., -1., -1.,  ..., -1., -1., -1.],\n",
              "          [-1., -1., -1.,  ..., -1., -1., -1.]],\n",
              " \n",
              "         [[-1., -1., -1.,  ..., -1., -1., -1.],\n",
              "          [-1., -1., -1.,  ..., -1., -1., -1.],\n",
              "          [-1., -1., -1.,  ..., -1., -1., -1.],\n",
              "          ...,\n",
              "          [-1., -1., -1.,  ..., -1., -1., -1.],\n",
              "          [-1., -1., -1.,  ..., -1., -1., -1.],\n",
              "          [-1., -1., -1.,  ..., -1., -1., -1.]]]),\n",
              " tensor([    0, 57527, 27973, 52743, 48941, 44960, 40053, 35647, 25515, 54964,\n",
              "         36322, 36209, 57528, 57529,  1314, 27810, 47106,  4050, 57530,     2,\n",
              "             1,     1,     1,     1,     1,     1,     1,     1,     1,     1,\n",
              "             1,     1,     1,     1,     1,     1,     1,     1,     1,     1,\n",
              "             1,     1,     1,     1,     1,     1,     1,     1,     1,     1,\n",
              "             1,     1,     1,     1,     1,     1,     1,     1,     1,     1,\n",
              "             1,     1,     1,     1,     1,     1,     1,     1,     1,     1,\n",
              "             1,     1,     1,     1,     1,     1,     1,     1,     1,     1,\n",
              "             1,     1,     1,     1,     1,     1,     1,     1,     1,     1,\n",
              "             1,     1,     1,     1,     1,     1,     1,     1,     1,     1,\n",
              "             1,     1,     1,     1,     1,     1,     1,     1,     1,     1,\n",
              "             1,     1,     1,     1,     1,     1,     1,     1,     1,     1,\n",
              "             1,     1,     1,     1,     1,     1,     1,     1]),\n",
              " tensor([ -100,  -100,  -100,  -100,  -100,  -100,  -100,  -100,  -100,  -100,\n",
              "          -100,  -100,  -100,  -100,  1314, 27810, 47106,  4050,  -100,  -100,\n",
              "          -100,  -100,  -100,  -100,  -100,  -100,  -100,  -100,  -100,  -100,\n",
              "          -100,  -100,  -100,  -100,  -100,  -100,  -100,  -100,  -100,  -100,\n",
              "          -100,  -100,  -100,  -100,  -100,  -100,  -100,  -100,  -100,  -100,\n",
              "          -100,  -100,  -100,  -100,  -100,  -100,  -100,  -100,  -100,  -100,\n",
              "          -100,  -100,  -100,  -100,  -100,  -100,  -100,  -100,  -100,  -100,\n",
              "          -100,  -100,  -100,  -100,  -100,  -100,  -100,  -100,  -100,  -100,\n",
              "          -100,  -100,  -100,  -100,  -100,  -100,  -100,  -100,  -100,  -100,\n",
              "          -100,  -100,  -100,  -100,  -100,  -100,  -100,  -100,  -100,  -100,\n",
              "          -100,  -100,  -100,  -100,  -100,  -100,  -100,  -100,  -100,  -100,\n",
              "          -100,  -100,  -100,  -100,  -100,  -100,  -100,  -100,  -100,  -100,\n",
              "          -100,  -100,  -100,  -100,  -100,  -100,  -100,  -100]))"
            ]
          },
          "metadata": {},
          "execution_count": 80
        }
      ],
      "source": [
        "train_dataset_sub[0]        ## details of row 0"
      ]
    },
    {
      "cell_type": "code",
      "execution_count": 81,
      "metadata": {
        "id": "dRH88x6TIFLm",
        "colab": {
          "base_uri": "https://localhost:8080/"
        },
        "outputId": "864d3ee4-9cc1-4541-cdde-bce146ad6fd5"
      },
      "outputs": [
        {
          "output_type": "stream",
          "name": "stdout",
          "text": [
            "<s> -100\n",
            "<s_question> -100\n",
            "what -100\n",
            "is -100\n",
            "the -100\n",
            "date -100\n",
            "mention -100\n",
            "ed -100\n",
            "in -100\n",
            "this -100\n",
            "letter -100\n",
            "? -100\n",
            "</s_question> -100\n",
            "<s_answer> -100\n",
            "1 1\n",
            "/8 /8\n",
            "/ /\n",
            "93 93\n",
            "</s_answer> -100\n",
            "</s> -100\n",
            "<pad> -100\n",
            "<pad> -100\n",
            "<pad> -100\n",
            "<pad> -100\n",
            "<pad> -100\n",
            "<pad> -100\n",
            "<pad> -100\n",
            "<pad> -100\n",
            "<pad> -100\n",
            "<pad> -100\n",
            "<pad> -100\n",
            "<pad> -100\n",
            "<pad> -100\n",
            "<pad> -100\n",
            "<pad> -100\n",
            "<pad> -100\n",
            "<pad> -100\n",
            "<pad> -100\n",
            "<pad> -100\n",
            "<pad> -100\n",
            "<pad> -100\n",
            "<pad> -100\n",
            "<pad> -100\n",
            "<pad> -100\n",
            "<pad> -100\n",
            "<pad> -100\n",
            "<pad> -100\n",
            "<pad> -100\n",
            "<pad> -100\n",
            "<pad> -100\n",
            "<pad> -100\n",
            "<pad> -100\n",
            "<pad> -100\n",
            "<pad> -100\n",
            "<pad> -100\n",
            "<pad> -100\n",
            "<pad> -100\n",
            "<pad> -100\n",
            "<pad> -100\n",
            "<pad> -100\n",
            "<pad> -100\n",
            "<pad> -100\n",
            "<pad> -100\n",
            "<pad> -100\n",
            "<pad> -100\n",
            "<pad> -100\n",
            "<pad> -100\n",
            "<pad> -100\n",
            "<pad> -100\n",
            "<pad> -100\n",
            "<pad> -100\n",
            "<pad> -100\n",
            "<pad> -100\n",
            "<pad> -100\n",
            "<pad> -100\n",
            "<pad> -100\n",
            "<pad> -100\n",
            "<pad> -100\n",
            "<pad> -100\n",
            "<pad> -100\n",
            "<pad> -100\n",
            "<pad> -100\n",
            "<pad> -100\n",
            "<pad> -100\n",
            "<pad> -100\n",
            "<pad> -100\n",
            "<pad> -100\n",
            "<pad> -100\n",
            "<pad> -100\n",
            "<pad> -100\n",
            "<pad> -100\n",
            "<pad> -100\n",
            "<pad> -100\n",
            "<pad> -100\n",
            "<pad> -100\n",
            "<pad> -100\n",
            "<pad> -100\n",
            "<pad> -100\n",
            "<pad> -100\n",
            "<pad> -100\n",
            "<pad> -100\n",
            "<pad> -100\n",
            "<pad> -100\n",
            "<pad> -100\n",
            "<pad> -100\n",
            "<pad> -100\n",
            "<pad> -100\n",
            "<pad> -100\n",
            "<pad> -100\n",
            "<pad> -100\n",
            "<pad> -100\n",
            "<pad> -100\n",
            "<pad> -100\n",
            "<pad> -100\n",
            "<pad> -100\n",
            "<pad> -100\n",
            "<pad> -100\n",
            "<pad> -100\n",
            "<pad> -100\n",
            "<pad> -100\n",
            "<pad> -100\n",
            "<pad> -100\n",
            "<pad> -100\n",
            "<pad> -100\n",
            "<pad> -100\n",
            "<pad> -100\n",
            "<pad> -100\n"
          ]
        }
      ],
      "source": [
        "## Sample check of row 0\n",
        "pixel_values_0, decoder_input_ids_0, labels_0  = train_dataset_sub[0]\n",
        "for decoder_input_id, label in zip(decoder_input_ids_0.tolist()[:-1], labels_0.tolist()[:]):\n",
        "  if label != -100:\n",
        "    print(processor.decode([decoder_input_id]), processor.decode([label]))\n",
        "  else:\n",
        "    print(processor.decode([decoder_input_id]), label)"
      ]
    },
    {
      "cell_type": "markdown",
      "source": [
        "##### Sample row 1:"
      ],
      "metadata": {
        "id": "j82BEKMI5b-l"
      }
    },
    {
      "cell_type": "code",
      "execution_count": 82,
      "metadata": {
        "id": "Z_1HXLv7IFJW",
        "colab": {
          "base_uri": "https://localhost:8080/"
        },
        "outputId": "613a6771-c42c-4443-ff6c-08ae49b4e612"
      },
      "outputs": [
        {
          "output_type": "execute_result",
          "data": {
            "text/plain": [
              "(tensor([[[-1., -1., -1.,  ..., -1., -1., -1.],\n",
              "          [-1., -1., -1.,  ..., -1., -1., -1.],\n",
              "          [-1., -1., -1.,  ..., -1., -1., -1.],\n",
              "          ...,\n",
              "          [-1., -1., -1.,  ..., -1., -1., -1.],\n",
              "          [-1., -1., -1.,  ..., -1., -1., -1.],\n",
              "          [-1., -1., -1.,  ..., -1., -1., -1.]],\n",
              " \n",
              "         [[-1., -1., -1.,  ..., -1., -1., -1.],\n",
              "          [-1., -1., -1.,  ..., -1., -1., -1.],\n",
              "          [-1., -1., -1.,  ..., -1., -1., -1.],\n",
              "          ...,\n",
              "          [-1., -1., -1.,  ..., -1., -1., -1.],\n",
              "          [-1., -1., -1.,  ..., -1., -1., -1.],\n",
              "          [-1., -1., -1.,  ..., -1., -1., -1.]],\n",
              " \n",
              "         [[-1., -1., -1.,  ..., -1., -1., -1.],\n",
              "          [-1., -1., -1.,  ..., -1., -1., -1.],\n",
              "          [-1., -1., -1.,  ..., -1., -1., -1.],\n",
              "          ...,\n",
              "          [-1., -1., -1.,  ..., -1., -1., -1.],\n",
              "          [-1., -1., -1.,  ..., -1., -1., -1.],\n",
              "          [-1., -1., -1.,  ..., -1., -1., -1.]]]),\n",
              " tensor([    0, 57527, 27973, 52743, 48941, 44474, 37517, 55856, 40053, 35647,\n",
              "         25515, 36322, 36209, 57528, 57529, 40769, 39539, 39473, 49798, 57530,\n",
              "         57522, 57527, 27973, 52743, 48941, 44474, 37517, 55856, 40053, 35647,\n",
              "         25515, 36322, 36209, 57528, 57529, 55285, 39539, 17662, 39905, 57530,\n",
              "             2,     1,     1,     1,     1,     1,     1,     1,     1,     1,\n",
              "             1,     1,     1,     1,     1,     1,     1,     1,     1,     1,\n",
              "             1,     1,     1,     1,     1,     1,     1,     1,     1,     1,\n",
              "             1,     1,     1,     1,     1,     1,     1,     1,     1,     1,\n",
              "             1,     1,     1,     1,     1,     1,     1,     1,     1,     1,\n",
              "             1,     1,     1,     1,     1,     1,     1,     1,     1,     1,\n",
              "             1,     1,     1,     1,     1,     1,     1,     1,     1,     1,\n",
              "             1,     1,     1,     1,     1,     1,     1,     1,     1,     1,\n",
              "             1,     1,     1,     1,     1,     1,     1,     1]),\n",
              " tensor([ -100,  -100,  -100,  -100,  -100,  -100,  -100,  -100,  -100,  -100,\n",
              "          -100,  -100,  -100,  -100,  -100, 40769, 39539, 39473, 49798,  -100,\n",
              "          -100,  -100,  -100,  -100,  -100,  -100,  -100,  -100,  -100,  -100,\n",
              "          -100,  -100,  -100,  -100,  -100, 55285, 39539, 17662, 39905,  -100,\n",
              "          -100,  -100,  -100,  -100,  -100,  -100,  -100,  -100,  -100,  -100,\n",
              "          -100,  -100,  -100,  -100,  -100,  -100,  -100,  -100,  -100,  -100,\n",
              "          -100,  -100,  -100,  -100,  -100,  -100,  -100,  -100,  -100,  -100,\n",
              "          -100,  -100,  -100,  -100,  -100,  -100,  -100,  -100,  -100,  -100,\n",
              "          -100,  -100,  -100,  -100,  -100,  -100,  -100,  -100,  -100,  -100,\n",
              "          -100,  -100,  -100,  -100,  -100,  -100,  -100,  -100,  -100,  -100,\n",
              "          -100,  -100,  -100,  -100,  -100,  -100,  -100,  -100,  -100,  -100,\n",
              "          -100,  -100,  -100,  -100,  -100,  -100,  -100,  -100,  -100,  -100,\n",
              "          -100,  -100,  -100,  -100,  -100,  -100,  -100,  -100]))"
            ]
          },
          "metadata": {},
          "execution_count": 82
        }
      ],
      "source": [
        "train_dataset_sub[1]        ## details of row 1"
      ]
    },
    {
      "cell_type": "code",
      "execution_count": 83,
      "metadata": {
        "id": "xHEyU4hhIFG-",
        "colab": {
          "base_uri": "https://localhost:8080/"
        },
        "outputId": "f2fb479c-3a9d-4158-9e9f-1e675197740c"
      },
      "outputs": [
        {
          "output_type": "stream",
          "name": "stdout",
          "text": [
            "<s> -100\n",
            "<s_question> -100\n",
            "what -100\n",
            "is -100\n",
            "the -100\n",
            "contact -100\n",
            "person -100\n",
            "name -100\n",
            "mention -100\n",
            "ed -100\n",
            "in -100\n",
            "letter -100\n",
            "? -100\n",
            "</s_question> -100\n",
            "<s_answer> -100\n",
            "P P\n",
            ". .\n",
            "Car Car\n",
            "ter ter\n",
            "</s_answer> -100\n",
            "<sep/> -100\n",
            "<s_question> -100\n",
            "what -100\n",
            "is -100\n",
            "the -100\n",
            "contact -100\n",
            "person -100\n",
            "name -100\n",
            "mention -100\n",
            "ed -100\n",
            "in -100\n",
            "letter -100\n",
            "? -100\n",
            "</s_question> -100\n",
            "<s_answer> -100\n",
            "p p\n",
            ". .\n",
            "carte carte\n",
            "r r\n",
            "</s_answer> -100\n",
            "</s> -100\n",
            "<pad> -100\n",
            "<pad> -100\n",
            "<pad> -100\n",
            "<pad> -100\n",
            "<pad> -100\n",
            "<pad> -100\n",
            "<pad> -100\n",
            "<pad> -100\n",
            "<pad> -100\n",
            "<pad> -100\n",
            "<pad> -100\n",
            "<pad> -100\n",
            "<pad> -100\n",
            "<pad> -100\n",
            "<pad> -100\n",
            "<pad> -100\n",
            "<pad> -100\n",
            "<pad> -100\n",
            "<pad> -100\n",
            "<pad> -100\n",
            "<pad> -100\n",
            "<pad> -100\n",
            "<pad> -100\n",
            "<pad> -100\n",
            "<pad> -100\n",
            "<pad> -100\n",
            "<pad> -100\n",
            "<pad> -100\n",
            "<pad> -100\n",
            "<pad> -100\n",
            "<pad> -100\n",
            "<pad> -100\n",
            "<pad> -100\n",
            "<pad> -100\n",
            "<pad> -100\n",
            "<pad> -100\n",
            "<pad> -100\n",
            "<pad> -100\n",
            "<pad> -100\n",
            "<pad> -100\n",
            "<pad> -100\n",
            "<pad> -100\n",
            "<pad> -100\n",
            "<pad> -100\n",
            "<pad> -100\n",
            "<pad> -100\n",
            "<pad> -100\n",
            "<pad> -100\n",
            "<pad> -100\n",
            "<pad> -100\n",
            "<pad> -100\n",
            "<pad> -100\n",
            "<pad> -100\n",
            "<pad> -100\n",
            "<pad> -100\n",
            "<pad> -100\n",
            "<pad> -100\n",
            "<pad> -100\n",
            "<pad> -100\n",
            "<pad> -100\n",
            "<pad> -100\n",
            "<pad> -100\n",
            "<pad> -100\n",
            "<pad> -100\n",
            "<pad> -100\n",
            "<pad> -100\n",
            "<pad> -100\n",
            "<pad> -100\n",
            "<pad> -100\n",
            "<pad> -100\n",
            "<pad> -100\n",
            "<pad> -100\n",
            "<pad> -100\n",
            "<pad> -100\n",
            "<pad> -100\n",
            "<pad> -100\n",
            "<pad> -100\n",
            "<pad> -100\n",
            "<pad> -100\n",
            "<pad> -100\n",
            "<pad> -100\n",
            "<pad> -100\n",
            "<pad> -100\n",
            "<pad> -100\n",
            "<pad> -100\n",
            "<pad> -100\n"
          ]
        }
      ],
      "source": [
        "## Sample check of row 1\n",
        "pixel_values_1, decoder_input_ids_1, labels_1  = train_dataset_sub[1]\n",
        "for decoder_input_id, label in zip(decoder_input_ids_1.tolist()[:-1], labels_1.tolist()[:]):\n",
        "  if label != -100:\n",
        "    print(processor.decode([decoder_input_id]), processor.decode([label]))\n",
        "  else:\n",
        "    print(processor.decode([decoder_input_id]), label)"
      ]
    },
    {
      "cell_type": "code",
      "execution_count": 83,
      "metadata": {
        "id": "IrIuWqLRIEoG"
      },
      "outputs": [],
      "source": []
    },
    {
      "cell_type": "code",
      "execution_count": 83,
      "metadata": {
        "id": "CVRkYBejIElu"
      },
      "outputs": [],
      "source": []
    }
  ],
  "metadata": {
    "colab": {
      "provenance": [],
      "machine_shape": "hm"
    },
    "kernelspec": {
      "display_name": "Python 3",
      "name": "python3"
    },
    "language_info": {
      "name": "python"
    },
    "widgets": {
      "application/vnd.jupyter.widget-state+json": {
        "be3c74dcb3114d3a90082acca7ad2223": {
          "model_module": "@jupyter-widgets/controls",
          "model_name": "HBoxModel",
          "model_module_version": "1.5.0",
          "state": {
            "_dom_classes": [],
            "_model_module": "@jupyter-widgets/controls",
            "_model_module_version": "1.5.0",
            "_model_name": "HBoxModel",
            "_view_count": null,
            "_view_module": "@jupyter-widgets/controls",
            "_view_module_version": "1.5.0",
            "_view_name": "HBoxView",
            "box_style": "",
            "children": [
              "IPY_MODEL_456dc30d7b134ef2b32255c863b06473",
              "IPY_MODEL_a32da3c8b6a24120a4a11773f61a0f7f",
              "IPY_MODEL_eeaa5916b4364281b138556a3b963243"
            ],
            "layout": "IPY_MODEL_90bfe6dd06ff4f27aa9d78588fc4f730"
          }
        },
        "456dc30d7b134ef2b32255c863b06473": {
          "model_module": "@jupyter-widgets/controls",
          "model_name": "HTMLModel",
          "model_module_version": "1.5.0",
          "state": {
            "_dom_classes": [],
            "_model_module": "@jupyter-widgets/controls",
            "_model_module_version": "1.5.0",
            "_model_name": "HTMLModel",
            "_view_count": null,
            "_view_module": "@jupyter-widgets/controls",
            "_view_module_version": "1.5.0",
            "_view_name": "HTMLView",
            "description": "",
            "description_tooltip": null,
            "layout": "IPY_MODEL_6c433a1e1b454f98a212f4a7214d3627",
            "placeholder": "​",
            "style": "IPY_MODEL_9e21d511755247cb9b6ae4b7d022f5e3",
            "value": "Downloading (…)lve/main/config.json: 100%"
          }
        },
        "a32da3c8b6a24120a4a11773f61a0f7f": {
          "model_module": "@jupyter-widgets/controls",
          "model_name": "FloatProgressModel",
          "model_module_version": "1.5.0",
          "state": {
            "_dom_classes": [],
            "_model_module": "@jupyter-widgets/controls",
            "_model_module_version": "1.5.0",
            "_model_name": "FloatProgressModel",
            "_view_count": null,
            "_view_module": "@jupyter-widgets/controls",
            "_view_module_version": "1.5.0",
            "_view_name": "ProgressView",
            "bar_style": "success",
            "description": "",
            "description_tooltip": null,
            "layout": "IPY_MODEL_eaa7ce6ed90c4ae2ab77aae904586503",
            "max": 4742,
            "min": 0,
            "orientation": "horizontal",
            "style": "IPY_MODEL_f6baf31ccdc34472b1e9378b4bd00636",
            "value": 4742
          }
        },
        "eeaa5916b4364281b138556a3b963243": {
          "model_module": "@jupyter-widgets/controls",
          "model_name": "HTMLModel",
          "model_module_version": "1.5.0",
          "state": {
            "_dom_classes": [],
            "_model_module": "@jupyter-widgets/controls",
            "_model_module_version": "1.5.0",
            "_model_name": "HTMLModel",
            "_view_count": null,
            "_view_module": "@jupyter-widgets/controls",
            "_view_module_version": "1.5.0",
            "_view_name": "HTMLView",
            "description": "",
            "description_tooltip": null,
            "layout": "IPY_MODEL_57ca197987864ae9b01748187ea957c4",
            "placeholder": "​",
            "style": "IPY_MODEL_ec0dc3cc15b041efbaecdaff7cbf48d9",
            "value": " 4.74k/4.74k [00:00&lt;00:00, 303kB/s]"
          }
        },
        "90bfe6dd06ff4f27aa9d78588fc4f730": {
          "model_module": "@jupyter-widgets/base",
          "model_name": "LayoutModel",
          "model_module_version": "1.2.0",
          "state": {
            "_model_module": "@jupyter-widgets/base",
            "_model_module_version": "1.2.0",
            "_model_name": "LayoutModel",
            "_view_count": null,
            "_view_module": "@jupyter-widgets/base",
            "_view_module_version": "1.2.0",
            "_view_name": "LayoutView",
            "align_content": null,
            "align_items": null,
            "align_self": null,
            "border": null,
            "bottom": null,
            "display": null,
            "flex": null,
            "flex_flow": null,
            "grid_area": null,
            "grid_auto_columns": null,
            "grid_auto_flow": null,
            "grid_auto_rows": null,
            "grid_column": null,
            "grid_gap": null,
            "grid_row": null,
            "grid_template_areas": null,
            "grid_template_columns": null,
            "grid_template_rows": null,
            "height": null,
            "justify_content": null,
            "justify_items": null,
            "left": null,
            "margin": null,
            "max_height": null,
            "max_width": null,
            "min_height": null,
            "min_width": null,
            "object_fit": null,
            "object_position": null,
            "order": null,
            "overflow": null,
            "overflow_x": null,
            "overflow_y": null,
            "padding": null,
            "right": null,
            "top": null,
            "visibility": null,
            "width": null
          }
        },
        "6c433a1e1b454f98a212f4a7214d3627": {
          "model_module": "@jupyter-widgets/base",
          "model_name": "LayoutModel",
          "model_module_version": "1.2.0",
          "state": {
            "_model_module": "@jupyter-widgets/base",
            "_model_module_version": "1.2.0",
            "_model_name": "LayoutModel",
            "_view_count": null,
            "_view_module": "@jupyter-widgets/base",
            "_view_module_version": "1.2.0",
            "_view_name": "LayoutView",
            "align_content": null,
            "align_items": null,
            "align_self": null,
            "border": null,
            "bottom": null,
            "display": null,
            "flex": null,
            "flex_flow": null,
            "grid_area": null,
            "grid_auto_columns": null,
            "grid_auto_flow": null,
            "grid_auto_rows": null,
            "grid_column": null,
            "grid_gap": null,
            "grid_row": null,
            "grid_template_areas": null,
            "grid_template_columns": null,
            "grid_template_rows": null,
            "height": null,
            "justify_content": null,
            "justify_items": null,
            "left": null,
            "margin": null,
            "max_height": null,
            "max_width": null,
            "min_height": null,
            "min_width": null,
            "object_fit": null,
            "object_position": null,
            "order": null,
            "overflow": null,
            "overflow_x": null,
            "overflow_y": null,
            "padding": null,
            "right": null,
            "top": null,
            "visibility": null,
            "width": null
          }
        },
        "9e21d511755247cb9b6ae4b7d022f5e3": {
          "model_module": "@jupyter-widgets/controls",
          "model_name": "DescriptionStyleModel",
          "model_module_version": "1.5.0",
          "state": {
            "_model_module": "@jupyter-widgets/controls",
            "_model_module_version": "1.5.0",
            "_model_name": "DescriptionStyleModel",
            "_view_count": null,
            "_view_module": "@jupyter-widgets/base",
            "_view_module_version": "1.2.0",
            "_view_name": "StyleView",
            "description_width": ""
          }
        },
        "eaa7ce6ed90c4ae2ab77aae904586503": {
          "model_module": "@jupyter-widgets/base",
          "model_name": "LayoutModel",
          "model_module_version": "1.2.0",
          "state": {
            "_model_module": "@jupyter-widgets/base",
            "_model_module_version": "1.2.0",
            "_model_name": "LayoutModel",
            "_view_count": null,
            "_view_module": "@jupyter-widgets/base",
            "_view_module_version": "1.2.0",
            "_view_name": "LayoutView",
            "align_content": null,
            "align_items": null,
            "align_self": null,
            "border": null,
            "bottom": null,
            "display": null,
            "flex": null,
            "flex_flow": null,
            "grid_area": null,
            "grid_auto_columns": null,
            "grid_auto_flow": null,
            "grid_auto_rows": null,
            "grid_column": null,
            "grid_gap": null,
            "grid_row": null,
            "grid_template_areas": null,
            "grid_template_columns": null,
            "grid_template_rows": null,
            "height": null,
            "justify_content": null,
            "justify_items": null,
            "left": null,
            "margin": null,
            "max_height": null,
            "max_width": null,
            "min_height": null,
            "min_width": null,
            "object_fit": null,
            "object_position": null,
            "order": null,
            "overflow": null,
            "overflow_x": null,
            "overflow_y": null,
            "padding": null,
            "right": null,
            "top": null,
            "visibility": null,
            "width": null
          }
        },
        "f6baf31ccdc34472b1e9378b4bd00636": {
          "model_module": "@jupyter-widgets/controls",
          "model_name": "ProgressStyleModel",
          "model_module_version": "1.5.0",
          "state": {
            "_model_module": "@jupyter-widgets/controls",
            "_model_module_version": "1.5.0",
            "_model_name": "ProgressStyleModel",
            "_view_count": null,
            "_view_module": "@jupyter-widgets/base",
            "_view_module_version": "1.2.0",
            "_view_name": "StyleView",
            "bar_color": null,
            "description_width": ""
          }
        },
        "57ca197987864ae9b01748187ea957c4": {
          "model_module": "@jupyter-widgets/base",
          "model_name": "LayoutModel",
          "model_module_version": "1.2.0",
          "state": {
            "_model_module": "@jupyter-widgets/base",
            "_model_module_version": "1.2.0",
            "_model_name": "LayoutModel",
            "_view_count": null,
            "_view_module": "@jupyter-widgets/base",
            "_view_module_version": "1.2.0",
            "_view_name": "LayoutView",
            "align_content": null,
            "align_items": null,
            "align_self": null,
            "border": null,
            "bottom": null,
            "display": null,
            "flex": null,
            "flex_flow": null,
            "grid_area": null,
            "grid_auto_columns": null,
            "grid_auto_flow": null,
            "grid_auto_rows": null,
            "grid_column": null,
            "grid_gap": null,
            "grid_row": null,
            "grid_template_areas": null,
            "grid_template_columns": null,
            "grid_template_rows": null,
            "height": null,
            "justify_content": null,
            "justify_items": null,
            "left": null,
            "margin": null,
            "max_height": null,
            "max_width": null,
            "min_height": null,
            "min_width": null,
            "object_fit": null,
            "object_position": null,
            "order": null,
            "overflow": null,
            "overflow_x": null,
            "overflow_y": null,
            "padding": null,
            "right": null,
            "top": null,
            "visibility": null,
            "width": null
          }
        },
        "ec0dc3cc15b041efbaecdaff7cbf48d9": {
          "model_module": "@jupyter-widgets/controls",
          "model_name": "DescriptionStyleModel",
          "model_module_version": "1.5.0",
          "state": {
            "_model_module": "@jupyter-widgets/controls",
            "_model_module_version": "1.5.0",
            "_model_name": "DescriptionStyleModel",
            "_view_count": null,
            "_view_module": "@jupyter-widgets/base",
            "_view_module_version": "1.2.0",
            "_view_name": "StyleView",
            "description_width": ""
          }
        },
        "8c7103bf2ec2407eb3929edf46439ae4": {
          "model_module": "@jupyter-widgets/controls",
          "model_name": "HBoxModel",
          "model_module_version": "1.5.0",
          "state": {
            "_dom_classes": [],
            "_model_module": "@jupyter-widgets/controls",
            "_model_module_version": "1.5.0",
            "_model_name": "HBoxModel",
            "_view_count": null,
            "_view_module": "@jupyter-widgets/controls",
            "_view_module_version": "1.5.0",
            "_view_name": "HBoxView",
            "box_style": "",
            "children": [
              "IPY_MODEL_a5886cec77d646f596d8aa7ec885331d",
              "IPY_MODEL_343153dd122a45fb9c824d82e35ef9ff",
              "IPY_MODEL_cc7ee13be49c4b64905ecd2b62f58fab"
            ],
            "layout": "IPY_MODEL_1b580cd8dbeb4c3fa793d39633543fdc"
          }
        },
        "a5886cec77d646f596d8aa7ec885331d": {
          "model_module": "@jupyter-widgets/controls",
          "model_name": "HTMLModel",
          "model_module_version": "1.5.0",
          "state": {
            "_dom_classes": [],
            "_model_module": "@jupyter-widgets/controls",
            "_model_module_version": "1.5.0",
            "_model_name": "HTMLModel",
            "_view_count": null,
            "_view_module": "@jupyter-widgets/controls",
            "_view_module_version": "1.5.0",
            "_view_name": "HTMLView",
            "description": "",
            "description_tooltip": null,
            "layout": "IPY_MODEL_d8636afb52814d11a90421a6a5f71746",
            "placeholder": "​",
            "style": "IPY_MODEL_1eb559f4492c42aaa1af0093a0713f59",
            "value": "Downloading (…)rocessor_config.json: 100%"
          }
        },
        "343153dd122a45fb9c824d82e35ef9ff": {
          "model_module": "@jupyter-widgets/controls",
          "model_name": "FloatProgressModel",
          "model_module_version": "1.5.0",
          "state": {
            "_dom_classes": [],
            "_model_module": "@jupyter-widgets/controls",
            "_model_module_version": "1.5.0",
            "_model_name": "FloatProgressModel",
            "_view_count": null,
            "_view_module": "@jupyter-widgets/controls",
            "_view_module_version": "1.5.0",
            "_view_name": "ProgressView",
            "bar_style": "success",
            "description": "",
            "description_tooltip": null,
            "layout": "IPY_MODEL_60ea87899c824a3381533c3643bef276",
            "max": 362,
            "min": 0,
            "orientation": "horizontal",
            "style": "IPY_MODEL_6932c9cf95b34b3093c4368f2addff31",
            "value": 362
          }
        },
        "cc7ee13be49c4b64905ecd2b62f58fab": {
          "model_module": "@jupyter-widgets/controls",
          "model_name": "HTMLModel",
          "model_module_version": "1.5.0",
          "state": {
            "_dom_classes": [],
            "_model_module": "@jupyter-widgets/controls",
            "_model_module_version": "1.5.0",
            "_model_name": "HTMLModel",
            "_view_count": null,
            "_view_module": "@jupyter-widgets/controls",
            "_view_module_version": "1.5.0",
            "_view_name": "HTMLView",
            "description": "",
            "description_tooltip": null,
            "layout": "IPY_MODEL_63d572fb49e9488bac610541594c4c6e",
            "placeholder": "​",
            "style": "IPY_MODEL_2562e69123e34365badb9ada2f6595f4",
            "value": " 362/362 [00:00&lt;00:00, 22.7kB/s]"
          }
        },
        "1b580cd8dbeb4c3fa793d39633543fdc": {
          "model_module": "@jupyter-widgets/base",
          "model_name": "LayoutModel",
          "model_module_version": "1.2.0",
          "state": {
            "_model_module": "@jupyter-widgets/base",
            "_model_module_version": "1.2.0",
            "_model_name": "LayoutModel",
            "_view_count": null,
            "_view_module": "@jupyter-widgets/base",
            "_view_module_version": "1.2.0",
            "_view_name": "LayoutView",
            "align_content": null,
            "align_items": null,
            "align_self": null,
            "border": null,
            "bottom": null,
            "display": null,
            "flex": null,
            "flex_flow": null,
            "grid_area": null,
            "grid_auto_columns": null,
            "grid_auto_flow": null,
            "grid_auto_rows": null,
            "grid_column": null,
            "grid_gap": null,
            "grid_row": null,
            "grid_template_areas": null,
            "grid_template_columns": null,
            "grid_template_rows": null,
            "height": null,
            "justify_content": null,
            "justify_items": null,
            "left": null,
            "margin": null,
            "max_height": null,
            "max_width": null,
            "min_height": null,
            "min_width": null,
            "object_fit": null,
            "object_position": null,
            "order": null,
            "overflow": null,
            "overflow_x": null,
            "overflow_y": null,
            "padding": null,
            "right": null,
            "top": null,
            "visibility": null,
            "width": null
          }
        },
        "d8636afb52814d11a90421a6a5f71746": {
          "model_module": "@jupyter-widgets/base",
          "model_name": "LayoutModel",
          "model_module_version": "1.2.0",
          "state": {
            "_model_module": "@jupyter-widgets/base",
            "_model_module_version": "1.2.0",
            "_model_name": "LayoutModel",
            "_view_count": null,
            "_view_module": "@jupyter-widgets/base",
            "_view_module_version": "1.2.0",
            "_view_name": "LayoutView",
            "align_content": null,
            "align_items": null,
            "align_self": null,
            "border": null,
            "bottom": null,
            "display": null,
            "flex": null,
            "flex_flow": null,
            "grid_area": null,
            "grid_auto_columns": null,
            "grid_auto_flow": null,
            "grid_auto_rows": null,
            "grid_column": null,
            "grid_gap": null,
            "grid_row": null,
            "grid_template_areas": null,
            "grid_template_columns": null,
            "grid_template_rows": null,
            "height": null,
            "justify_content": null,
            "justify_items": null,
            "left": null,
            "margin": null,
            "max_height": null,
            "max_width": null,
            "min_height": null,
            "min_width": null,
            "object_fit": null,
            "object_position": null,
            "order": null,
            "overflow": null,
            "overflow_x": null,
            "overflow_y": null,
            "padding": null,
            "right": null,
            "top": null,
            "visibility": null,
            "width": null
          }
        },
        "1eb559f4492c42aaa1af0093a0713f59": {
          "model_module": "@jupyter-widgets/controls",
          "model_name": "DescriptionStyleModel",
          "model_module_version": "1.5.0",
          "state": {
            "_model_module": "@jupyter-widgets/controls",
            "_model_module_version": "1.5.0",
            "_model_name": "DescriptionStyleModel",
            "_view_count": null,
            "_view_module": "@jupyter-widgets/base",
            "_view_module_version": "1.2.0",
            "_view_name": "StyleView",
            "description_width": ""
          }
        },
        "60ea87899c824a3381533c3643bef276": {
          "model_module": "@jupyter-widgets/base",
          "model_name": "LayoutModel",
          "model_module_version": "1.2.0",
          "state": {
            "_model_module": "@jupyter-widgets/base",
            "_model_module_version": "1.2.0",
            "_model_name": "LayoutModel",
            "_view_count": null,
            "_view_module": "@jupyter-widgets/base",
            "_view_module_version": "1.2.0",
            "_view_name": "LayoutView",
            "align_content": null,
            "align_items": null,
            "align_self": null,
            "border": null,
            "bottom": null,
            "display": null,
            "flex": null,
            "flex_flow": null,
            "grid_area": null,
            "grid_auto_columns": null,
            "grid_auto_flow": null,
            "grid_auto_rows": null,
            "grid_column": null,
            "grid_gap": null,
            "grid_row": null,
            "grid_template_areas": null,
            "grid_template_columns": null,
            "grid_template_rows": null,
            "height": null,
            "justify_content": null,
            "justify_items": null,
            "left": null,
            "margin": null,
            "max_height": null,
            "max_width": null,
            "min_height": null,
            "min_width": null,
            "object_fit": null,
            "object_position": null,
            "order": null,
            "overflow": null,
            "overflow_x": null,
            "overflow_y": null,
            "padding": null,
            "right": null,
            "top": null,
            "visibility": null,
            "width": null
          }
        },
        "6932c9cf95b34b3093c4368f2addff31": {
          "model_module": "@jupyter-widgets/controls",
          "model_name": "ProgressStyleModel",
          "model_module_version": "1.5.0",
          "state": {
            "_model_module": "@jupyter-widgets/controls",
            "_model_module_version": "1.5.0",
            "_model_name": "ProgressStyleModel",
            "_view_count": null,
            "_view_module": "@jupyter-widgets/base",
            "_view_module_version": "1.2.0",
            "_view_name": "StyleView",
            "bar_color": null,
            "description_width": ""
          }
        },
        "63d572fb49e9488bac610541594c4c6e": {
          "model_module": "@jupyter-widgets/base",
          "model_name": "LayoutModel",
          "model_module_version": "1.2.0",
          "state": {
            "_model_module": "@jupyter-widgets/base",
            "_model_module_version": "1.2.0",
            "_model_name": "LayoutModel",
            "_view_count": null,
            "_view_module": "@jupyter-widgets/base",
            "_view_module_version": "1.2.0",
            "_view_name": "LayoutView",
            "align_content": null,
            "align_items": null,
            "align_self": null,
            "border": null,
            "bottom": null,
            "display": null,
            "flex": null,
            "flex_flow": null,
            "grid_area": null,
            "grid_auto_columns": null,
            "grid_auto_flow": null,
            "grid_auto_rows": null,
            "grid_column": null,
            "grid_gap": null,
            "grid_row": null,
            "grid_template_areas": null,
            "grid_template_columns": null,
            "grid_template_rows": null,
            "height": null,
            "justify_content": null,
            "justify_items": null,
            "left": null,
            "margin": null,
            "max_height": null,
            "max_width": null,
            "min_height": null,
            "min_width": null,
            "object_fit": null,
            "object_position": null,
            "order": null,
            "overflow": null,
            "overflow_x": null,
            "overflow_y": null,
            "padding": null,
            "right": null,
            "top": null,
            "visibility": null,
            "width": null
          }
        },
        "2562e69123e34365badb9ada2f6595f4": {
          "model_module": "@jupyter-widgets/controls",
          "model_name": "DescriptionStyleModel",
          "model_module_version": "1.5.0",
          "state": {
            "_model_module": "@jupyter-widgets/controls",
            "_model_module_version": "1.5.0",
            "_model_name": "DescriptionStyleModel",
            "_view_count": null,
            "_view_module": "@jupyter-widgets/base",
            "_view_module_version": "1.2.0",
            "_view_name": "StyleView",
            "description_width": ""
          }
        },
        "ca0f89314d7a4671bc14fddc94c07d71": {
          "model_module": "@jupyter-widgets/controls",
          "model_name": "HBoxModel",
          "model_module_version": "1.5.0",
          "state": {
            "_dom_classes": [],
            "_model_module": "@jupyter-widgets/controls",
            "_model_module_version": "1.5.0",
            "_model_name": "HBoxModel",
            "_view_count": null,
            "_view_module": "@jupyter-widgets/controls",
            "_view_module_version": "1.5.0",
            "_view_name": "HBoxView",
            "box_style": "",
            "children": [
              "IPY_MODEL_f429ac6d39ee4cf9a03a9e49829f7701",
              "IPY_MODEL_9eb64ed8e7d843639fae5e09bab6808a",
              "IPY_MODEL_9c1e52f380014cf48914d5cb06b989b7"
            ],
            "layout": "IPY_MODEL_b96090033e9f406382847e800264bea6"
          }
        },
        "f429ac6d39ee4cf9a03a9e49829f7701": {
          "model_module": "@jupyter-widgets/controls",
          "model_name": "HTMLModel",
          "model_module_version": "1.5.0",
          "state": {
            "_dom_classes": [],
            "_model_module": "@jupyter-widgets/controls",
            "_model_module_version": "1.5.0",
            "_model_name": "HTMLModel",
            "_view_count": null,
            "_view_module": "@jupyter-widgets/controls",
            "_view_module_version": "1.5.0",
            "_view_name": "HTMLView",
            "description": "",
            "description_tooltip": null,
            "layout": "IPY_MODEL_3b0d0551e459485c9ecea1ffb4034b2f",
            "placeholder": "​",
            "style": "IPY_MODEL_21a7873e12aa421b80921366d651c732",
            "value": "Downloading (…)okenizer_config.json: 100%"
          }
        },
        "9eb64ed8e7d843639fae5e09bab6808a": {
          "model_module": "@jupyter-widgets/controls",
          "model_name": "FloatProgressModel",
          "model_module_version": "1.5.0",
          "state": {
            "_dom_classes": [],
            "_model_module": "@jupyter-widgets/controls",
            "_model_module_version": "1.5.0",
            "_model_name": "FloatProgressModel",
            "_view_count": null,
            "_view_module": "@jupyter-widgets/controls",
            "_view_module_version": "1.5.0",
            "_view_name": "ProgressView",
            "bar_style": "success",
            "description": "",
            "description_tooltip": null,
            "layout": "IPY_MODEL_ac3418e3808a42a5b3c75814f241f877",
            "max": 518,
            "min": 0,
            "orientation": "horizontal",
            "style": "IPY_MODEL_2b6dd5f20b9942828a3147c0be0f6e2a",
            "value": 518
          }
        },
        "9c1e52f380014cf48914d5cb06b989b7": {
          "model_module": "@jupyter-widgets/controls",
          "model_name": "HTMLModel",
          "model_module_version": "1.5.0",
          "state": {
            "_dom_classes": [],
            "_model_module": "@jupyter-widgets/controls",
            "_model_module_version": "1.5.0",
            "_model_name": "HTMLModel",
            "_view_count": null,
            "_view_module": "@jupyter-widgets/controls",
            "_view_module_version": "1.5.0",
            "_view_name": "HTMLView",
            "description": "",
            "description_tooltip": null,
            "layout": "IPY_MODEL_3140d0e9a72b4508a87c69195c99c6a0",
            "placeholder": "​",
            "style": "IPY_MODEL_5e5caa0831ff4420a3ff3c46ac512a00",
            "value": " 518/518 [00:00&lt;00:00, 38.2kB/s]"
          }
        },
        "b96090033e9f406382847e800264bea6": {
          "model_module": "@jupyter-widgets/base",
          "model_name": "LayoutModel",
          "model_module_version": "1.2.0",
          "state": {
            "_model_module": "@jupyter-widgets/base",
            "_model_module_version": "1.2.0",
            "_model_name": "LayoutModel",
            "_view_count": null,
            "_view_module": "@jupyter-widgets/base",
            "_view_module_version": "1.2.0",
            "_view_name": "LayoutView",
            "align_content": null,
            "align_items": null,
            "align_self": null,
            "border": null,
            "bottom": null,
            "display": null,
            "flex": null,
            "flex_flow": null,
            "grid_area": null,
            "grid_auto_columns": null,
            "grid_auto_flow": null,
            "grid_auto_rows": null,
            "grid_column": null,
            "grid_gap": null,
            "grid_row": null,
            "grid_template_areas": null,
            "grid_template_columns": null,
            "grid_template_rows": null,
            "height": null,
            "justify_content": null,
            "justify_items": null,
            "left": null,
            "margin": null,
            "max_height": null,
            "max_width": null,
            "min_height": null,
            "min_width": null,
            "object_fit": null,
            "object_position": null,
            "order": null,
            "overflow": null,
            "overflow_x": null,
            "overflow_y": null,
            "padding": null,
            "right": null,
            "top": null,
            "visibility": null,
            "width": null
          }
        },
        "3b0d0551e459485c9ecea1ffb4034b2f": {
          "model_module": "@jupyter-widgets/base",
          "model_name": "LayoutModel",
          "model_module_version": "1.2.0",
          "state": {
            "_model_module": "@jupyter-widgets/base",
            "_model_module_version": "1.2.0",
            "_model_name": "LayoutModel",
            "_view_count": null,
            "_view_module": "@jupyter-widgets/base",
            "_view_module_version": "1.2.0",
            "_view_name": "LayoutView",
            "align_content": null,
            "align_items": null,
            "align_self": null,
            "border": null,
            "bottom": null,
            "display": null,
            "flex": null,
            "flex_flow": null,
            "grid_area": null,
            "grid_auto_columns": null,
            "grid_auto_flow": null,
            "grid_auto_rows": null,
            "grid_column": null,
            "grid_gap": null,
            "grid_row": null,
            "grid_template_areas": null,
            "grid_template_columns": null,
            "grid_template_rows": null,
            "height": null,
            "justify_content": null,
            "justify_items": null,
            "left": null,
            "margin": null,
            "max_height": null,
            "max_width": null,
            "min_height": null,
            "min_width": null,
            "object_fit": null,
            "object_position": null,
            "order": null,
            "overflow": null,
            "overflow_x": null,
            "overflow_y": null,
            "padding": null,
            "right": null,
            "top": null,
            "visibility": null,
            "width": null
          }
        },
        "21a7873e12aa421b80921366d651c732": {
          "model_module": "@jupyter-widgets/controls",
          "model_name": "DescriptionStyleModel",
          "model_module_version": "1.5.0",
          "state": {
            "_model_module": "@jupyter-widgets/controls",
            "_model_module_version": "1.5.0",
            "_model_name": "DescriptionStyleModel",
            "_view_count": null,
            "_view_module": "@jupyter-widgets/base",
            "_view_module_version": "1.2.0",
            "_view_name": "StyleView",
            "description_width": ""
          }
        },
        "ac3418e3808a42a5b3c75814f241f877": {
          "model_module": "@jupyter-widgets/base",
          "model_name": "LayoutModel",
          "model_module_version": "1.2.0",
          "state": {
            "_model_module": "@jupyter-widgets/base",
            "_model_module_version": "1.2.0",
            "_model_name": "LayoutModel",
            "_view_count": null,
            "_view_module": "@jupyter-widgets/base",
            "_view_module_version": "1.2.0",
            "_view_name": "LayoutView",
            "align_content": null,
            "align_items": null,
            "align_self": null,
            "border": null,
            "bottom": null,
            "display": null,
            "flex": null,
            "flex_flow": null,
            "grid_area": null,
            "grid_auto_columns": null,
            "grid_auto_flow": null,
            "grid_auto_rows": null,
            "grid_column": null,
            "grid_gap": null,
            "grid_row": null,
            "grid_template_areas": null,
            "grid_template_columns": null,
            "grid_template_rows": null,
            "height": null,
            "justify_content": null,
            "justify_items": null,
            "left": null,
            "margin": null,
            "max_height": null,
            "max_width": null,
            "min_height": null,
            "min_width": null,
            "object_fit": null,
            "object_position": null,
            "order": null,
            "overflow": null,
            "overflow_x": null,
            "overflow_y": null,
            "padding": null,
            "right": null,
            "top": null,
            "visibility": null,
            "width": null
          }
        },
        "2b6dd5f20b9942828a3147c0be0f6e2a": {
          "model_module": "@jupyter-widgets/controls",
          "model_name": "ProgressStyleModel",
          "model_module_version": "1.5.0",
          "state": {
            "_model_module": "@jupyter-widgets/controls",
            "_model_module_version": "1.5.0",
            "_model_name": "ProgressStyleModel",
            "_view_count": null,
            "_view_module": "@jupyter-widgets/base",
            "_view_module_version": "1.2.0",
            "_view_name": "StyleView",
            "bar_color": null,
            "description_width": ""
          }
        },
        "3140d0e9a72b4508a87c69195c99c6a0": {
          "model_module": "@jupyter-widgets/base",
          "model_name": "LayoutModel",
          "model_module_version": "1.2.0",
          "state": {
            "_model_module": "@jupyter-widgets/base",
            "_model_module_version": "1.2.0",
            "_model_name": "LayoutModel",
            "_view_count": null,
            "_view_module": "@jupyter-widgets/base",
            "_view_module_version": "1.2.0",
            "_view_name": "LayoutView",
            "align_content": null,
            "align_items": null,
            "align_self": null,
            "border": null,
            "bottom": null,
            "display": null,
            "flex": null,
            "flex_flow": null,
            "grid_area": null,
            "grid_auto_columns": null,
            "grid_auto_flow": null,
            "grid_auto_rows": null,
            "grid_column": null,
            "grid_gap": null,
            "grid_row": null,
            "grid_template_areas": null,
            "grid_template_columns": null,
            "grid_template_rows": null,
            "height": null,
            "justify_content": null,
            "justify_items": null,
            "left": null,
            "margin": null,
            "max_height": null,
            "max_width": null,
            "min_height": null,
            "min_width": null,
            "object_fit": null,
            "object_position": null,
            "order": null,
            "overflow": null,
            "overflow_x": null,
            "overflow_y": null,
            "padding": null,
            "right": null,
            "top": null,
            "visibility": null,
            "width": null
          }
        },
        "5e5caa0831ff4420a3ff3c46ac512a00": {
          "model_module": "@jupyter-widgets/controls",
          "model_name": "DescriptionStyleModel",
          "model_module_version": "1.5.0",
          "state": {
            "_model_module": "@jupyter-widgets/controls",
            "_model_module_version": "1.5.0",
            "_model_name": "DescriptionStyleModel",
            "_view_count": null,
            "_view_module": "@jupyter-widgets/base",
            "_view_module_version": "1.2.0",
            "_view_name": "StyleView",
            "description_width": ""
          }
        },
        "e5966f0b96624e37bb7aae49a111d0bd": {
          "model_module": "@jupyter-widgets/controls",
          "model_name": "HBoxModel",
          "model_module_version": "1.5.0",
          "state": {
            "_dom_classes": [],
            "_model_module": "@jupyter-widgets/controls",
            "_model_module_version": "1.5.0",
            "_model_name": "HBoxModel",
            "_view_count": null,
            "_view_module": "@jupyter-widgets/controls",
            "_view_module_version": "1.5.0",
            "_view_name": "HBoxView",
            "box_style": "",
            "children": [
              "IPY_MODEL_55b0c7a8634442f9bb50c3cf6371cd47",
              "IPY_MODEL_a69b35bfc67349b786b65f5172d07101",
              "IPY_MODEL_e2d4114515e04757b3be7361b5b47871"
            ],
            "layout": "IPY_MODEL_d44205efab514ca5911fd4575fc74809"
          }
        },
        "55b0c7a8634442f9bb50c3cf6371cd47": {
          "model_module": "@jupyter-widgets/controls",
          "model_name": "HTMLModel",
          "model_module_version": "1.5.0",
          "state": {
            "_dom_classes": [],
            "_model_module": "@jupyter-widgets/controls",
            "_model_module_version": "1.5.0",
            "_model_name": "HTMLModel",
            "_view_count": null,
            "_view_module": "@jupyter-widgets/controls",
            "_view_module_version": "1.5.0",
            "_view_name": "HTMLView",
            "description": "",
            "description_tooltip": null,
            "layout": "IPY_MODEL_34281043afdd49f9a85eb03d7fab3067",
            "placeholder": "​",
            "style": "IPY_MODEL_7ef4270b3db24dec81b8500fe0d3acec",
            "value": "Downloading (…)tencepiece.bpe.model: 100%"
          }
        },
        "a69b35bfc67349b786b65f5172d07101": {
          "model_module": "@jupyter-widgets/controls",
          "model_name": "FloatProgressModel",
          "model_module_version": "1.5.0",
          "state": {
            "_dom_classes": [],
            "_model_module": "@jupyter-widgets/controls",
            "_model_module_version": "1.5.0",
            "_model_name": "FloatProgressModel",
            "_view_count": null,
            "_view_module": "@jupyter-widgets/controls",
            "_view_module_version": "1.5.0",
            "_view_name": "ProgressView",
            "bar_style": "success",
            "description": "",
            "description_tooltip": null,
            "layout": "IPY_MODEL_7c19a297af5f46e6b0e26b244f88a2a2",
            "max": 1296245,
            "min": 0,
            "orientation": "horizontal",
            "style": "IPY_MODEL_074592adeab0409aa0f2a87d2f3bff97",
            "value": 1296245
          }
        },
        "e2d4114515e04757b3be7361b5b47871": {
          "model_module": "@jupyter-widgets/controls",
          "model_name": "HTMLModel",
          "model_module_version": "1.5.0",
          "state": {
            "_dom_classes": [],
            "_model_module": "@jupyter-widgets/controls",
            "_model_module_version": "1.5.0",
            "_model_name": "HTMLModel",
            "_view_count": null,
            "_view_module": "@jupyter-widgets/controls",
            "_view_module_version": "1.5.0",
            "_view_name": "HTMLView",
            "description": "",
            "description_tooltip": null,
            "layout": "IPY_MODEL_8b9ffa0757584f02840742521d86fcbc",
            "placeholder": "​",
            "style": "IPY_MODEL_c90b892ea7574f498f9025d54a00b43b",
            "value": " 1.30M/1.30M [00:00&lt;00:00, 29.4MB/s]"
          }
        },
        "d44205efab514ca5911fd4575fc74809": {
          "model_module": "@jupyter-widgets/base",
          "model_name": "LayoutModel",
          "model_module_version": "1.2.0",
          "state": {
            "_model_module": "@jupyter-widgets/base",
            "_model_module_version": "1.2.0",
            "_model_name": "LayoutModel",
            "_view_count": null,
            "_view_module": "@jupyter-widgets/base",
            "_view_module_version": "1.2.0",
            "_view_name": "LayoutView",
            "align_content": null,
            "align_items": null,
            "align_self": null,
            "border": null,
            "bottom": null,
            "display": null,
            "flex": null,
            "flex_flow": null,
            "grid_area": null,
            "grid_auto_columns": null,
            "grid_auto_flow": null,
            "grid_auto_rows": null,
            "grid_column": null,
            "grid_gap": null,
            "grid_row": null,
            "grid_template_areas": null,
            "grid_template_columns": null,
            "grid_template_rows": null,
            "height": null,
            "justify_content": null,
            "justify_items": null,
            "left": null,
            "margin": null,
            "max_height": null,
            "max_width": null,
            "min_height": null,
            "min_width": null,
            "object_fit": null,
            "object_position": null,
            "order": null,
            "overflow": null,
            "overflow_x": null,
            "overflow_y": null,
            "padding": null,
            "right": null,
            "top": null,
            "visibility": null,
            "width": null
          }
        },
        "34281043afdd49f9a85eb03d7fab3067": {
          "model_module": "@jupyter-widgets/base",
          "model_name": "LayoutModel",
          "model_module_version": "1.2.0",
          "state": {
            "_model_module": "@jupyter-widgets/base",
            "_model_module_version": "1.2.0",
            "_model_name": "LayoutModel",
            "_view_count": null,
            "_view_module": "@jupyter-widgets/base",
            "_view_module_version": "1.2.0",
            "_view_name": "LayoutView",
            "align_content": null,
            "align_items": null,
            "align_self": null,
            "border": null,
            "bottom": null,
            "display": null,
            "flex": null,
            "flex_flow": null,
            "grid_area": null,
            "grid_auto_columns": null,
            "grid_auto_flow": null,
            "grid_auto_rows": null,
            "grid_column": null,
            "grid_gap": null,
            "grid_row": null,
            "grid_template_areas": null,
            "grid_template_columns": null,
            "grid_template_rows": null,
            "height": null,
            "justify_content": null,
            "justify_items": null,
            "left": null,
            "margin": null,
            "max_height": null,
            "max_width": null,
            "min_height": null,
            "min_width": null,
            "object_fit": null,
            "object_position": null,
            "order": null,
            "overflow": null,
            "overflow_x": null,
            "overflow_y": null,
            "padding": null,
            "right": null,
            "top": null,
            "visibility": null,
            "width": null
          }
        },
        "7ef4270b3db24dec81b8500fe0d3acec": {
          "model_module": "@jupyter-widgets/controls",
          "model_name": "DescriptionStyleModel",
          "model_module_version": "1.5.0",
          "state": {
            "_model_module": "@jupyter-widgets/controls",
            "_model_module_version": "1.5.0",
            "_model_name": "DescriptionStyleModel",
            "_view_count": null,
            "_view_module": "@jupyter-widgets/base",
            "_view_module_version": "1.2.0",
            "_view_name": "StyleView",
            "description_width": ""
          }
        },
        "7c19a297af5f46e6b0e26b244f88a2a2": {
          "model_module": "@jupyter-widgets/base",
          "model_name": "LayoutModel",
          "model_module_version": "1.2.0",
          "state": {
            "_model_module": "@jupyter-widgets/base",
            "_model_module_version": "1.2.0",
            "_model_name": "LayoutModel",
            "_view_count": null,
            "_view_module": "@jupyter-widgets/base",
            "_view_module_version": "1.2.0",
            "_view_name": "LayoutView",
            "align_content": null,
            "align_items": null,
            "align_self": null,
            "border": null,
            "bottom": null,
            "display": null,
            "flex": null,
            "flex_flow": null,
            "grid_area": null,
            "grid_auto_columns": null,
            "grid_auto_flow": null,
            "grid_auto_rows": null,
            "grid_column": null,
            "grid_gap": null,
            "grid_row": null,
            "grid_template_areas": null,
            "grid_template_columns": null,
            "grid_template_rows": null,
            "height": null,
            "justify_content": null,
            "justify_items": null,
            "left": null,
            "margin": null,
            "max_height": null,
            "max_width": null,
            "min_height": null,
            "min_width": null,
            "object_fit": null,
            "object_position": null,
            "order": null,
            "overflow": null,
            "overflow_x": null,
            "overflow_y": null,
            "padding": null,
            "right": null,
            "top": null,
            "visibility": null,
            "width": null
          }
        },
        "074592adeab0409aa0f2a87d2f3bff97": {
          "model_module": "@jupyter-widgets/controls",
          "model_name": "ProgressStyleModel",
          "model_module_version": "1.5.0",
          "state": {
            "_model_module": "@jupyter-widgets/controls",
            "_model_module_version": "1.5.0",
            "_model_name": "ProgressStyleModel",
            "_view_count": null,
            "_view_module": "@jupyter-widgets/base",
            "_view_module_version": "1.2.0",
            "_view_name": "StyleView",
            "bar_color": null,
            "description_width": ""
          }
        },
        "8b9ffa0757584f02840742521d86fcbc": {
          "model_module": "@jupyter-widgets/base",
          "model_name": "LayoutModel",
          "model_module_version": "1.2.0",
          "state": {
            "_model_module": "@jupyter-widgets/base",
            "_model_module_version": "1.2.0",
            "_model_name": "LayoutModel",
            "_view_count": null,
            "_view_module": "@jupyter-widgets/base",
            "_view_module_version": "1.2.0",
            "_view_name": "LayoutView",
            "align_content": null,
            "align_items": null,
            "align_self": null,
            "border": null,
            "bottom": null,
            "display": null,
            "flex": null,
            "flex_flow": null,
            "grid_area": null,
            "grid_auto_columns": null,
            "grid_auto_flow": null,
            "grid_auto_rows": null,
            "grid_column": null,
            "grid_gap": null,
            "grid_row": null,
            "grid_template_areas": null,
            "grid_template_columns": null,
            "grid_template_rows": null,
            "height": null,
            "justify_content": null,
            "justify_items": null,
            "left": null,
            "margin": null,
            "max_height": null,
            "max_width": null,
            "min_height": null,
            "min_width": null,
            "object_fit": null,
            "object_position": null,
            "order": null,
            "overflow": null,
            "overflow_x": null,
            "overflow_y": null,
            "padding": null,
            "right": null,
            "top": null,
            "visibility": null,
            "width": null
          }
        },
        "c90b892ea7574f498f9025d54a00b43b": {
          "model_module": "@jupyter-widgets/controls",
          "model_name": "DescriptionStyleModel",
          "model_module_version": "1.5.0",
          "state": {
            "_model_module": "@jupyter-widgets/controls",
            "_model_module_version": "1.5.0",
            "_model_name": "DescriptionStyleModel",
            "_view_count": null,
            "_view_module": "@jupyter-widgets/base",
            "_view_module_version": "1.2.0",
            "_view_name": "StyleView",
            "description_width": ""
          }
        },
        "a4e1d39ef906461e900f01d0456f03cf": {
          "model_module": "@jupyter-widgets/controls",
          "model_name": "HBoxModel",
          "model_module_version": "1.5.0",
          "state": {
            "_dom_classes": [],
            "_model_module": "@jupyter-widgets/controls",
            "_model_module_version": "1.5.0",
            "_model_name": "HBoxModel",
            "_view_count": null,
            "_view_module": "@jupyter-widgets/controls",
            "_view_module_version": "1.5.0",
            "_view_name": "HBoxView",
            "box_style": "",
            "children": [
              "IPY_MODEL_bd9bbff7908740378b644fffeabb8ccc",
              "IPY_MODEL_81f7ef6cff9842f9b5842aeeb72488ca",
              "IPY_MODEL_7c12fbb58d2c4620ae0de0e1a15445df"
            ],
            "layout": "IPY_MODEL_713173cb59bc4272a790e7bd90dbdfe0"
          }
        },
        "bd9bbff7908740378b644fffeabb8ccc": {
          "model_module": "@jupyter-widgets/controls",
          "model_name": "HTMLModel",
          "model_module_version": "1.5.0",
          "state": {
            "_dom_classes": [],
            "_model_module": "@jupyter-widgets/controls",
            "_model_module_version": "1.5.0",
            "_model_name": "HTMLModel",
            "_view_count": null,
            "_view_module": "@jupyter-widgets/controls",
            "_view_module_version": "1.5.0",
            "_view_name": "HTMLView",
            "description": "",
            "description_tooltip": null,
            "layout": "IPY_MODEL_e8249a8be8ce433991d3cc742ae8b8e0",
            "placeholder": "​",
            "style": "IPY_MODEL_d396a45dd0124065a117e79ad2c2ddeb",
            "value": "Downloading (…)/main/tokenizer.json: 100%"
          }
        },
        "81f7ef6cff9842f9b5842aeeb72488ca": {
          "model_module": "@jupyter-widgets/controls",
          "model_name": "FloatProgressModel",
          "model_module_version": "1.5.0",
          "state": {
            "_dom_classes": [],
            "_model_module": "@jupyter-widgets/controls",
            "_model_module_version": "1.5.0",
            "_model_name": "FloatProgressModel",
            "_view_count": null,
            "_view_module": "@jupyter-widgets/controls",
            "_view_module_version": "1.5.0",
            "_view_name": "ProgressView",
            "bar_style": "success",
            "description": "",
            "description_tooltip": null,
            "layout": "IPY_MODEL_3324527a39c44240b5f5bcae19470af6",
            "max": 4011031,
            "min": 0,
            "orientation": "horizontal",
            "style": "IPY_MODEL_0694642d4bfe46beb135065dced2c5c5",
            "value": 4011031
          }
        },
        "7c12fbb58d2c4620ae0de0e1a15445df": {
          "model_module": "@jupyter-widgets/controls",
          "model_name": "HTMLModel",
          "model_module_version": "1.5.0",
          "state": {
            "_dom_classes": [],
            "_model_module": "@jupyter-widgets/controls",
            "_model_module_version": "1.5.0",
            "_model_name": "HTMLModel",
            "_view_count": null,
            "_view_module": "@jupyter-widgets/controls",
            "_view_module_version": "1.5.0",
            "_view_name": "HTMLView",
            "description": "",
            "description_tooltip": null,
            "layout": "IPY_MODEL_aa64efb44c034e39a9f0c9fde68cd89d",
            "placeholder": "​",
            "style": "IPY_MODEL_e37a0e9590c046e9aed8d97700339d49",
            "value": " 4.01M/4.01M [00:01&lt;00:00, 3.83MB/s]"
          }
        },
        "713173cb59bc4272a790e7bd90dbdfe0": {
          "model_module": "@jupyter-widgets/base",
          "model_name": "LayoutModel",
          "model_module_version": "1.2.0",
          "state": {
            "_model_module": "@jupyter-widgets/base",
            "_model_module_version": "1.2.0",
            "_model_name": "LayoutModel",
            "_view_count": null,
            "_view_module": "@jupyter-widgets/base",
            "_view_module_version": "1.2.0",
            "_view_name": "LayoutView",
            "align_content": null,
            "align_items": null,
            "align_self": null,
            "border": null,
            "bottom": null,
            "display": null,
            "flex": null,
            "flex_flow": null,
            "grid_area": null,
            "grid_auto_columns": null,
            "grid_auto_flow": null,
            "grid_auto_rows": null,
            "grid_column": null,
            "grid_gap": null,
            "grid_row": null,
            "grid_template_areas": null,
            "grid_template_columns": null,
            "grid_template_rows": null,
            "height": null,
            "justify_content": null,
            "justify_items": null,
            "left": null,
            "margin": null,
            "max_height": null,
            "max_width": null,
            "min_height": null,
            "min_width": null,
            "object_fit": null,
            "object_position": null,
            "order": null,
            "overflow": null,
            "overflow_x": null,
            "overflow_y": null,
            "padding": null,
            "right": null,
            "top": null,
            "visibility": null,
            "width": null
          }
        },
        "e8249a8be8ce433991d3cc742ae8b8e0": {
          "model_module": "@jupyter-widgets/base",
          "model_name": "LayoutModel",
          "model_module_version": "1.2.0",
          "state": {
            "_model_module": "@jupyter-widgets/base",
            "_model_module_version": "1.2.0",
            "_model_name": "LayoutModel",
            "_view_count": null,
            "_view_module": "@jupyter-widgets/base",
            "_view_module_version": "1.2.0",
            "_view_name": "LayoutView",
            "align_content": null,
            "align_items": null,
            "align_self": null,
            "border": null,
            "bottom": null,
            "display": null,
            "flex": null,
            "flex_flow": null,
            "grid_area": null,
            "grid_auto_columns": null,
            "grid_auto_flow": null,
            "grid_auto_rows": null,
            "grid_column": null,
            "grid_gap": null,
            "grid_row": null,
            "grid_template_areas": null,
            "grid_template_columns": null,
            "grid_template_rows": null,
            "height": null,
            "justify_content": null,
            "justify_items": null,
            "left": null,
            "margin": null,
            "max_height": null,
            "max_width": null,
            "min_height": null,
            "min_width": null,
            "object_fit": null,
            "object_position": null,
            "order": null,
            "overflow": null,
            "overflow_x": null,
            "overflow_y": null,
            "padding": null,
            "right": null,
            "top": null,
            "visibility": null,
            "width": null
          }
        },
        "d396a45dd0124065a117e79ad2c2ddeb": {
          "model_module": "@jupyter-widgets/controls",
          "model_name": "DescriptionStyleModel",
          "model_module_version": "1.5.0",
          "state": {
            "_model_module": "@jupyter-widgets/controls",
            "_model_module_version": "1.5.0",
            "_model_name": "DescriptionStyleModel",
            "_view_count": null,
            "_view_module": "@jupyter-widgets/base",
            "_view_module_version": "1.2.0",
            "_view_name": "StyleView",
            "description_width": ""
          }
        },
        "3324527a39c44240b5f5bcae19470af6": {
          "model_module": "@jupyter-widgets/base",
          "model_name": "LayoutModel",
          "model_module_version": "1.2.0",
          "state": {
            "_model_module": "@jupyter-widgets/base",
            "_model_module_version": "1.2.0",
            "_model_name": "LayoutModel",
            "_view_count": null,
            "_view_module": "@jupyter-widgets/base",
            "_view_module_version": "1.2.0",
            "_view_name": "LayoutView",
            "align_content": null,
            "align_items": null,
            "align_self": null,
            "border": null,
            "bottom": null,
            "display": null,
            "flex": null,
            "flex_flow": null,
            "grid_area": null,
            "grid_auto_columns": null,
            "grid_auto_flow": null,
            "grid_auto_rows": null,
            "grid_column": null,
            "grid_gap": null,
            "grid_row": null,
            "grid_template_areas": null,
            "grid_template_columns": null,
            "grid_template_rows": null,
            "height": null,
            "justify_content": null,
            "justify_items": null,
            "left": null,
            "margin": null,
            "max_height": null,
            "max_width": null,
            "min_height": null,
            "min_width": null,
            "object_fit": null,
            "object_position": null,
            "order": null,
            "overflow": null,
            "overflow_x": null,
            "overflow_y": null,
            "padding": null,
            "right": null,
            "top": null,
            "visibility": null,
            "width": null
          }
        },
        "0694642d4bfe46beb135065dced2c5c5": {
          "model_module": "@jupyter-widgets/controls",
          "model_name": "ProgressStyleModel",
          "model_module_version": "1.5.0",
          "state": {
            "_model_module": "@jupyter-widgets/controls",
            "_model_module_version": "1.5.0",
            "_model_name": "ProgressStyleModel",
            "_view_count": null,
            "_view_module": "@jupyter-widgets/base",
            "_view_module_version": "1.2.0",
            "_view_name": "StyleView",
            "bar_color": null,
            "description_width": ""
          }
        },
        "aa64efb44c034e39a9f0c9fde68cd89d": {
          "model_module": "@jupyter-widgets/base",
          "model_name": "LayoutModel",
          "model_module_version": "1.2.0",
          "state": {
            "_model_module": "@jupyter-widgets/base",
            "_model_module_version": "1.2.0",
            "_model_name": "LayoutModel",
            "_view_count": null,
            "_view_module": "@jupyter-widgets/base",
            "_view_module_version": "1.2.0",
            "_view_name": "LayoutView",
            "align_content": null,
            "align_items": null,
            "align_self": null,
            "border": null,
            "bottom": null,
            "display": null,
            "flex": null,
            "flex_flow": null,
            "grid_area": null,
            "grid_auto_columns": null,
            "grid_auto_flow": null,
            "grid_auto_rows": null,
            "grid_column": null,
            "grid_gap": null,
            "grid_row": null,
            "grid_template_areas": null,
            "grid_template_columns": null,
            "grid_template_rows": null,
            "height": null,
            "justify_content": null,
            "justify_items": null,
            "left": null,
            "margin": null,
            "max_height": null,
            "max_width": null,
            "min_height": null,
            "min_width": null,
            "object_fit": null,
            "object_position": null,
            "order": null,
            "overflow": null,
            "overflow_x": null,
            "overflow_y": null,
            "padding": null,
            "right": null,
            "top": null,
            "visibility": null,
            "width": null
          }
        },
        "e37a0e9590c046e9aed8d97700339d49": {
          "model_module": "@jupyter-widgets/controls",
          "model_name": "DescriptionStyleModel",
          "model_module_version": "1.5.0",
          "state": {
            "_model_module": "@jupyter-widgets/controls",
            "_model_module_version": "1.5.0",
            "_model_name": "DescriptionStyleModel",
            "_view_count": null,
            "_view_module": "@jupyter-widgets/base",
            "_view_module_version": "1.2.0",
            "_view_name": "StyleView",
            "description_width": ""
          }
        },
        "70d634174741430a9cad522bc199c9dc": {
          "model_module": "@jupyter-widgets/controls",
          "model_name": "HBoxModel",
          "model_module_version": "1.5.0",
          "state": {
            "_dom_classes": [],
            "_model_module": "@jupyter-widgets/controls",
            "_model_module_version": "1.5.0",
            "_model_name": "HBoxModel",
            "_view_count": null,
            "_view_module": "@jupyter-widgets/controls",
            "_view_module_version": "1.5.0",
            "_view_name": "HBoxView",
            "box_style": "",
            "children": [
              "IPY_MODEL_a2052f456edd45898d10cca33a8d09f3",
              "IPY_MODEL_1e12d2d565084e1da1b0d1dcaa509737",
              "IPY_MODEL_7e0acc58f5af46cda1626d98d3136ee7"
            ],
            "layout": "IPY_MODEL_341e5f2f5c7146aabca6b81145ee402c"
          }
        },
        "a2052f456edd45898d10cca33a8d09f3": {
          "model_module": "@jupyter-widgets/controls",
          "model_name": "HTMLModel",
          "model_module_version": "1.5.0",
          "state": {
            "_dom_classes": [],
            "_model_module": "@jupyter-widgets/controls",
            "_model_module_version": "1.5.0",
            "_model_name": "HTMLModel",
            "_view_count": null,
            "_view_module": "@jupyter-widgets/controls",
            "_view_module_version": "1.5.0",
            "_view_name": "HTMLView",
            "description": "",
            "description_tooltip": null,
            "layout": "IPY_MODEL_f42cfbd043454dc9979698bb7e143219",
            "placeholder": "​",
            "style": "IPY_MODEL_4041887849424728a3ae496dfedd67ef",
            "value": "Downloading (…)in/added_tokens.json: 100%"
          }
        },
        "1e12d2d565084e1da1b0d1dcaa509737": {
          "model_module": "@jupyter-widgets/controls",
          "model_name": "FloatProgressModel",
          "model_module_version": "1.5.0",
          "state": {
            "_dom_classes": [],
            "_model_module": "@jupyter-widgets/controls",
            "_model_module_version": "1.5.0",
            "_model_name": "FloatProgressModel",
            "_view_count": null,
            "_view_module": "@jupyter-widgets/controls",
            "_view_module_version": "1.5.0",
            "_view_name": "ProgressView",
            "bar_style": "success",
            "description": "",
            "description_tooltip": null,
            "layout": "IPY_MODEL_5cf83444144a4c639a4351fa8f647eca",
            "max": 71,
            "min": 0,
            "orientation": "horizontal",
            "style": "IPY_MODEL_6953904816a24a68807349c0d8283780",
            "value": 71
          }
        },
        "7e0acc58f5af46cda1626d98d3136ee7": {
          "model_module": "@jupyter-widgets/controls",
          "model_name": "HTMLModel",
          "model_module_version": "1.5.0",
          "state": {
            "_dom_classes": [],
            "_model_module": "@jupyter-widgets/controls",
            "_model_module_version": "1.5.0",
            "_model_name": "HTMLModel",
            "_view_count": null,
            "_view_module": "@jupyter-widgets/controls",
            "_view_module_version": "1.5.0",
            "_view_name": "HTMLView",
            "description": "",
            "description_tooltip": null,
            "layout": "IPY_MODEL_f356de74c0a943e5bdfb937d01744422",
            "placeholder": "​",
            "style": "IPY_MODEL_2451e7dc0f80425895447ce48b849291",
            "value": " 71.0/71.0 [00:00&lt;00:00, 4.76kB/s]"
          }
        },
        "341e5f2f5c7146aabca6b81145ee402c": {
          "model_module": "@jupyter-widgets/base",
          "model_name": "LayoutModel",
          "model_module_version": "1.2.0",
          "state": {
            "_model_module": "@jupyter-widgets/base",
            "_model_module_version": "1.2.0",
            "_model_name": "LayoutModel",
            "_view_count": null,
            "_view_module": "@jupyter-widgets/base",
            "_view_module_version": "1.2.0",
            "_view_name": "LayoutView",
            "align_content": null,
            "align_items": null,
            "align_self": null,
            "border": null,
            "bottom": null,
            "display": null,
            "flex": null,
            "flex_flow": null,
            "grid_area": null,
            "grid_auto_columns": null,
            "grid_auto_flow": null,
            "grid_auto_rows": null,
            "grid_column": null,
            "grid_gap": null,
            "grid_row": null,
            "grid_template_areas": null,
            "grid_template_columns": null,
            "grid_template_rows": null,
            "height": null,
            "justify_content": null,
            "justify_items": null,
            "left": null,
            "margin": null,
            "max_height": null,
            "max_width": null,
            "min_height": null,
            "min_width": null,
            "object_fit": null,
            "object_position": null,
            "order": null,
            "overflow": null,
            "overflow_x": null,
            "overflow_y": null,
            "padding": null,
            "right": null,
            "top": null,
            "visibility": null,
            "width": null
          }
        },
        "f42cfbd043454dc9979698bb7e143219": {
          "model_module": "@jupyter-widgets/base",
          "model_name": "LayoutModel",
          "model_module_version": "1.2.0",
          "state": {
            "_model_module": "@jupyter-widgets/base",
            "_model_module_version": "1.2.0",
            "_model_name": "LayoutModel",
            "_view_count": null,
            "_view_module": "@jupyter-widgets/base",
            "_view_module_version": "1.2.0",
            "_view_name": "LayoutView",
            "align_content": null,
            "align_items": null,
            "align_self": null,
            "border": null,
            "bottom": null,
            "display": null,
            "flex": null,
            "flex_flow": null,
            "grid_area": null,
            "grid_auto_columns": null,
            "grid_auto_flow": null,
            "grid_auto_rows": null,
            "grid_column": null,
            "grid_gap": null,
            "grid_row": null,
            "grid_template_areas": null,
            "grid_template_columns": null,
            "grid_template_rows": null,
            "height": null,
            "justify_content": null,
            "justify_items": null,
            "left": null,
            "margin": null,
            "max_height": null,
            "max_width": null,
            "min_height": null,
            "min_width": null,
            "object_fit": null,
            "object_position": null,
            "order": null,
            "overflow": null,
            "overflow_x": null,
            "overflow_y": null,
            "padding": null,
            "right": null,
            "top": null,
            "visibility": null,
            "width": null
          }
        },
        "4041887849424728a3ae496dfedd67ef": {
          "model_module": "@jupyter-widgets/controls",
          "model_name": "DescriptionStyleModel",
          "model_module_version": "1.5.0",
          "state": {
            "_model_module": "@jupyter-widgets/controls",
            "_model_module_version": "1.5.0",
            "_model_name": "DescriptionStyleModel",
            "_view_count": null,
            "_view_module": "@jupyter-widgets/base",
            "_view_module_version": "1.2.0",
            "_view_name": "StyleView",
            "description_width": ""
          }
        },
        "5cf83444144a4c639a4351fa8f647eca": {
          "model_module": "@jupyter-widgets/base",
          "model_name": "LayoutModel",
          "model_module_version": "1.2.0",
          "state": {
            "_model_module": "@jupyter-widgets/base",
            "_model_module_version": "1.2.0",
            "_model_name": "LayoutModel",
            "_view_count": null,
            "_view_module": "@jupyter-widgets/base",
            "_view_module_version": "1.2.0",
            "_view_name": "LayoutView",
            "align_content": null,
            "align_items": null,
            "align_self": null,
            "border": null,
            "bottom": null,
            "display": null,
            "flex": null,
            "flex_flow": null,
            "grid_area": null,
            "grid_auto_columns": null,
            "grid_auto_flow": null,
            "grid_auto_rows": null,
            "grid_column": null,
            "grid_gap": null,
            "grid_row": null,
            "grid_template_areas": null,
            "grid_template_columns": null,
            "grid_template_rows": null,
            "height": null,
            "justify_content": null,
            "justify_items": null,
            "left": null,
            "margin": null,
            "max_height": null,
            "max_width": null,
            "min_height": null,
            "min_width": null,
            "object_fit": null,
            "object_position": null,
            "order": null,
            "overflow": null,
            "overflow_x": null,
            "overflow_y": null,
            "padding": null,
            "right": null,
            "top": null,
            "visibility": null,
            "width": null
          }
        },
        "6953904816a24a68807349c0d8283780": {
          "model_module": "@jupyter-widgets/controls",
          "model_name": "ProgressStyleModel",
          "model_module_version": "1.5.0",
          "state": {
            "_model_module": "@jupyter-widgets/controls",
            "_model_module_version": "1.5.0",
            "_model_name": "ProgressStyleModel",
            "_view_count": null,
            "_view_module": "@jupyter-widgets/base",
            "_view_module_version": "1.2.0",
            "_view_name": "StyleView",
            "bar_color": null,
            "description_width": ""
          }
        },
        "f356de74c0a943e5bdfb937d01744422": {
          "model_module": "@jupyter-widgets/base",
          "model_name": "LayoutModel",
          "model_module_version": "1.2.0",
          "state": {
            "_model_module": "@jupyter-widgets/base",
            "_model_module_version": "1.2.0",
            "_model_name": "LayoutModel",
            "_view_count": null,
            "_view_module": "@jupyter-widgets/base",
            "_view_module_version": "1.2.0",
            "_view_name": "LayoutView",
            "align_content": null,
            "align_items": null,
            "align_self": null,
            "border": null,
            "bottom": null,
            "display": null,
            "flex": null,
            "flex_flow": null,
            "grid_area": null,
            "grid_auto_columns": null,
            "grid_auto_flow": null,
            "grid_auto_rows": null,
            "grid_column": null,
            "grid_gap": null,
            "grid_row": null,
            "grid_template_areas": null,
            "grid_template_columns": null,
            "grid_template_rows": null,
            "height": null,
            "justify_content": null,
            "justify_items": null,
            "left": null,
            "margin": null,
            "max_height": null,
            "max_width": null,
            "min_height": null,
            "min_width": null,
            "object_fit": null,
            "object_position": null,
            "order": null,
            "overflow": null,
            "overflow_x": null,
            "overflow_y": null,
            "padding": null,
            "right": null,
            "top": null,
            "visibility": null,
            "width": null
          }
        },
        "2451e7dc0f80425895447ce48b849291": {
          "model_module": "@jupyter-widgets/controls",
          "model_name": "DescriptionStyleModel",
          "model_module_version": "1.5.0",
          "state": {
            "_model_module": "@jupyter-widgets/controls",
            "_model_module_version": "1.5.0",
            "_model_name": "DescriptionStyleModel",
            "_view_count": null,
            "_view_module": "@jupyter-widgets/base",
            "_view_module_version": "1.2.0",
            "_view_name": "StyleView",
            "description_width": ""
          }
        },
        "50590638745c4e948e5dfe3e12535e1f": {
          "model_module": "@jupyter-widgets/controls",
          "model_name": "HBoxModel",
          "model_module_version": "1.5.0",
          "state": {
            "_dom_classes": [],
            "_model_module": "@jupyter-widgets/controls",
            "_model_module_version": "1.5.0",
            "_model_name": "HBoxModel",
            "_view_count": null,
            "_view_module": "@jupyter-widgets/controls",
            "_view_module_version": "1.5.0",
            "_view_name": "HBoxView",
            "box_style": "",
            "children": [
              "IPY_MODEL_f756c50a9007451f8a9a35ca2ccc354c",
              "IPY_MODEL_5197731a9cff46ae9a26169bf04fa8ef",
              "IPY_MODEL_363840db78a7409e928428300030163d"
            ],
            "layout": "IPY_MODEL_74f50eed152b4545aa9a01dcc1d992b2"
          }
        },
        "f756c50a9007451f8a9a35ca2ccc354c": {
          "model_module": "@jupyter-widgets/controls",
          "model_name": "HTMLModel",
          "model_module_version": "1.5.0",
          "state": {
            "_dom_classes": [],
            "_model_module": "@jupyter-widgets/controls",
            "_model_module_version": "1.5.0",
            "_model_name": "HTMLModel",
            "_view_count": null,
            "_view_module": "@jupyter-widgets/controls",
            "_view_module_version": "1.5.0",
            "_view_name": "HTMLView",
            "description": "",
            "description_tooltip": null,
            "layout": "IPY_MODEL_d81ebbce6162448caf1d09b010ad847d",
            "placeholder": "​",
            "style": "IPY_MODEL_391d94ccbd594e928c7ee350ed1c0d67",
            "value": "Downloading (…)cial_tokens_map.json: 100%"
          }
        },
        "5197731a9cff46ae9a26169bf04fa8ef": {
          "model_module": "@jupyter-widgets/controls",
          "model_name": "FloatProgressModel",
          "model_module_version": "1.5.0",
          "state": {
            "_dom_classes": [],
            "_model_module": "@jupyter-widgets/controls",
            "_model_module_version": "1.5.0",
            "_model_name": "FloatProgressModel",
            "_view_count": null,
            "_view_module": "@jupyter-widgets/controls",
            "_view_module_version": "1.5.0",
            "_view_name": "ProgressView",
            "bar_style": "success",
            "description": "",
            "description_tooltip": null,
            "layout": "IPY_MODEL_c69ac976e99c41fcb6a29e4d69b8de8c",
            "max": 355,
            "min": 0,
            "orientation": "horizontal",
            "style": "IPY_MODEL_7e05d31e51de46f18c2500aab2629a99",
            "value": 355
          }
        },
        "363840db78a7409e928428300030163d": {
          "model_module": "@jupyter-widgets/controls",
          "model_name": "HTMLModel",
          "model_module_version": "1.5.0",
          "state": {
            "_dom_classes": [],
            "_model_module": "@jupyter-widgets/controls",
            "_model_module_version": "1.5.0",
            "_model_name": "HTMLModel",
            "_view_count": null,
            "_view_module": "@jupyter-widgets/controls",
            "_view_module_version": "1.5.0",
            "_view_name": "HTMLView",
            "description": "",
            "description_tooltip": null,
            "layout": "IPY_MODEL_3ecd151eedca481ead8507d482136415",
            "placeholder": "​",
            "style": "IPY_MODEL_4aa2766226de445e9375b6c90955545e",
            "value": " 355/355 [00:00&lt;00:00, 21.3kB/s]"
          }
        },
        "74f50eed152b4545aa9a01dcc1d992b2": {
          "model_module": "@jupyter-widgets/base",
          "model_name": "LayoutModel",
          "model_module_version": "1.2.0",
          "state": {
            "_model_module": "@jupyter-widgets/base",
            "_model_module_version": "1.2.0",
            "_model_name": "LayoutModel",
            "_view_count": null,
            "_view_module": "@jupyter-widgets/base",
            "_view_module_version": "1.2.0",
            "_view_name": "LayoutView",
            "align_content": null,
            "align_items": null,
            "align_self": null,
            "border": null,
            "bottom": null,
            "display": null,
            "flex": null,
            "flex_flow": null,
            "grid_area": null,
            "grid_auto_columns": null,
            "grid_auto_flow": null,
            "grid_auto_rows": null,
            "grid_column": null,
            "grid_gap": null,
            "grid_row": null,
            "grid_template_areas": null,
            "grid_template_columns": null,
            "grid_template_rows": null,
            "height": null,
            "justify_content": null,
            "justify_items": null,
            "left": null,
            "margin": null,
            "max_height": null,
            "max_width": null,
            "min_height": null,
            "min_width": null,
            "object_fit": null,
            "object_position": null,
            "order": null,
            "overflow": null,
            "overflow_x": null,
            "overflow_y": null,
            "padding": null,
            "right": null,
            "top": null,
            "visibility": null,
            "width": null
          }
        },
        "d81ebbce6162448caf1d09b010ad847d": {
          "model_module": "@jupyter-widgets/base",
          "model_name": "LayoutModel",
          "model_module_version": "1.2.0",
          "state": {
            "_model_module": "@jupyter-widgets/base",
            "_model_module_version": "1.2.0",
            "_model_name": "LayoutModel",
            "_view_count": null,
            "_view_module": "@jupyter-widgets/base",
            "_view_module_version": "1.2.0",
            "_view_name": "LayoutView",
            "align_content": null,
            "align_items": null,
            "align_self": null,
            "border": null,
            "bottom": null,
            "display": null,
            "flex": null,
            "flex_flow": null,
            "grid_area": null,
            "grid_auto_columns": null,
            "grid_auto_flow": null,
            "grid_auto_rows": null,
            "grid_column": null,
            "grid_gap": null,
            "grid_row": null,
            "grid_template_areas": null,
            "grid_template_columns": null,
            "grid_template_rows": null,
            "height": null,
            "justify_content": null,
            "justify_items": null,
            "left": null,
            "margin": null,
            "max_height": null,
            "max_width": null,
            "min_height": null,
            "min_width": null,
            "object_fit": null,
            "object_position": null,
            "order": null,
            "overflow": null,
            "overflow_x": null,
            "overflow_y": null,
            "padding": null,
            "right": null,
            "top": null,
            "visibility": null,
            "width": null
          }
        },
        "391d94ccbd594e928c7ee350ed1c0d67": {
          "model_module": "@jupyter-widgets/controls",
          "model_name": "DescriptionStyleModel",
          "model_module_version": "1.5.0",
          "state": {
            "_model_module": "@jupyter-widgets/controls",
            "_model_module_version": "1.5.0",
            "_model_name": "DescriptionStyleModel",
            "_view_count": null,
            "_view_module": "@jupyter-widgets/base",
            "_view_module_version": "1.2.0",
            "_view_name": "StyleView",
            "description_width": ""
          }
        },
        "c69ac976e99c41fcb6a29e4d69b8de8c": {
          "model_module": "@jupyter-widgets/base",
          "model_name": "LayoutModel",
          "model_module_version": "1.2.0",
          "state": {
            "_model_module": "@jupyter-widgets/base",
            "_model_module_version": "1.2.0",
            "_model_name": "LayoutModel",
            "_view_count": null,
            "_view_module": "@jupyter-widgets/base",
            "_view_module_version": "1.2.0",
            "_view_name": "LayoutView",
            "align_content": null,
            "align_items": null,
            "align_self": null,
            "border": null,
            "bottom": null,
            "display": null,
            "flex": null,
            "flex_flow": null,
            "grid_area": null,
            "grid_auto_columns": null,
            "grid_auto_flow": null,
            "grid_auto_rows": null,
            "grid_column": null,
            "grid_gap": null,
            "grid_row": null,
            "grid_template_areas": null,
            "grid_template_columns": null,
            "grid_template_rows": null,
            "height": null,
            "justify_content": null,
            "justify_items": null,
            "left": null,
            "margin": null,
            "max_height": null,
            "max_width": null,
            "min_height": null,
            "min_width": null,
            "object_fit": null,
            "object_position": null,
            "order": null,
            "overflow": null,
            "overflow_x": null,
            "overflow_y": null,
            "padding": null,
            "right": null,
            "top": null,
            "visibility": null,
            "width": null
          }
        },
        "7e05d31e51de46f18c2500aab2629a99": {
          "model_module": "@jupyter-widgets/controls",
          "model_name": "ProgressStyleModel",
          "model_module_version": "1.5.0",
          "state": {
            "_model_module": "@jupyter-widgets/controls",
            "_model_module_version": "1.5.0",
            "_model_name": "ProgressStyleModel",
            "_view_count": null,
            "_view_module": "@jupyter-widgets/base",
            "_view_module_version": "1.2.0",
            "_view_name": "StyleView",
            "bar_color": null,
            "description_width": ""
          }
        },
        "3ecd151eedca481ead8507d482136415": {
          "model_module": "@jupyter-widgets/base",
          "model_name": "LayoutModel",
          "model_module_version": "1.2.0",
          "state": {
            "_model_module": "@jupyter-widgets/base",
            "_model_module_version": "1.2.0",
            "_model_name": "LayoutModel",
            "_view_count": null,
            "_view_module": "@jupyter-widgets/base",
            "_view_module_version": "1.2.0",
            "_view_name": "LayoutView",
            "align_content": null,
            "align_items": null,
            "align_self": null,
            "border": null,
            "bottom": null,
            "display": null,
            "flex": null,
            "flex_flow": null,
            "grid_area": null,
            "grid_auto_columns": null,
            "grid_auto_flow": null,
            "grid_auto_rows": null,
            "grid_column": null,
            "grid_gap": null,
            "grid_row": null,
            "grid_template_areas": null,
            "grid_template_columns": null,
            "grid_template_rows": null,
            "height": null,
            "justify_content": null,
            "justify_items": null,
            "left": null,
            "margin": null,
            "max_height": null,
            "max_width": null,
            "min_height": null,
            "min_width": null,
            "object_fit": null,
            "object_position": null,
            "order": null,
            "overflow": null,
            "overflow_x": null,
            "overflow_y": null,
            "padding": null,
            "right": null,
            "top": null,
            "visibility": null,
            "width": null
          }
        },
        "4aa2766226de445e9375b6c90955545e": {
          "model_module": "@jupyter-widgets/controls",
          "model_name": "DescriptionStyleModel",
          "model_module_version": "1.5.0",
          "state": {
            "_model_module": "@jupyter-widgets/controls",
            "_model_module_version": "1.5.0",
            "_model_name": "DescriptionStyleModel",
            "_view_count": null,
            "_view_module": "@jupyter-widgets/base",
            "_view_module_version": "1.2.0",
            "_view_name": "StyleView",
            "description_width": ""
          }
        },
        "b50bfe69ae0e4e029d3b3d947906cc6c": {
          "model_module": "@jupyter-widgets/controls",
          "model_name": "HBoxModel",
          "model_module_version": "1.5.0",
          "state": {
            "_dom_classes": [],
            "_model_module": "@jupyter-widgets/controls",
            "_model_module_version": "1.5.0",
            "_model_name": "HBoxModel",
            "_view_count": null,
            "_view_module": "@jupyter-widgets/controls",
            "_view_module_version": "1.5.0",
            "_view_name": "HBoxView",
            "box_style": "",
            "children": [
              "IPY_MODEL_98361f341c85464cbbca842697d2e1da",
              "IPY_MODEL_6226145706c640fbb87ddef30da697ee",
              "IPY_MODEL_7a9b7201ec974bf98d0b0f4cff48bdb4"
            ],
            "layout": "IPY_MODEL_69f00ccaba44451399520009cb7a0f93"
          }
        },
        "98361f341c85464cbbca842697d2e1da": {
          "model_module": "@jupyter-widgets/controls",
          "model_name": "HTMLModel",
          "model_module_version": "1.5.0",
          "state": {
            "_dom_classes": [],
            "_model_module": "@jupyter-widgets/controls",
            "_model_module_version": "1.5.0",
            "_model_name": "HTMLModel",
            "_view_count": null,
            "_view_module": "@jupyter-widgets/controls",
            "_view_module_version": "1.5.0",
            "_view_name": "HTMLView",
            "description": "",
            "description_tooltip": null,
            "layout": "IPY_MODEL_2c90fce1a8564c3d82afdb8d4a0f325f",
            "placeholder": "​",
            "style": "IPY_MODEL_3f609351c088418c8c4038b6329becdb",
            "value": "Downloading pytorch_model.bin: 100%"
          }
        },
        "6226145706c640fbb87ddef30da697ee": {
          "model_module": "@jupyter-widgets/controls",
          "model_name": "FloatProgressModel",
          "model_module_version": "1.5.0",
          "state": {
            "_dom_classes": [],
            "_model_module": "@jupyter-widgets/controls",
            "_model_module_version": "1.5.0",
            "_model_name": "FloatProgressModel",
            "_view_count": null,
            "_view_module": "@jupyter-widgets/controls",
            "_view_module_version": "1.5.0",
            "_view_name": "ProgressView",
            "bar_style": "success",
            "description": "",
            "description_tooltip": null,
            "layout": "IPY_MODEL_4e6a4d3bf67c461eafc4e2c3cca4845f",
            "max": 809168699,
            "min": 0,
            "orientation": "horizontal",
            "style": "IPY_MODEL_b1efe213f8aa4c76970bcb65d8010068",
            "value": 809168699
          }
        },
        "7a9b7201ec974bf98d0b0f4cff48bdb4": {
          "model_module": "@jupyter-widgets/controls",
          "model_name": "HTMLModel",
          "model_module_version": "1.5.0",
          "state": {
            "_dom_classes": [],
            "_model_module": "@jupyter-widgets/controls",
            "_model_module_version": "1.5.0",
            "_model_name": "HTMLModel",
            "_view_count": null,
            "_view_module": "@jupyter-widgets/controls",
            "_view_module_version": "1.5.0",
            "_view_name": "HTMLView",
            "description": "",
            "description_tooltip": null,
            "layout": "IPY_MODEL_9bae6f5c3d53474f9c4f805f3be3e726",
            "placeholder": "​",
            "style": "IPY_MODEL_8611442cfc78480b894f322685e7676f",
            "value": " 809M/809M [01:26&lt;00:00, 87.0MB/s]"
          }
        },
        "69f00ccaba44451399520009cb7a0f93": {
          "model_module": "@jupyter-widgets/base",
          "model_name": "LayoutModel",
          "model_module_version": "1.2.0",
          "state": {
            "_model_module": "@jupyter-widgets/base",
            "_model_module_version": "1.2.0",
            "_model_name": "LayoutModel",
            "_view_count": null,
            "_view_module": "@jupyter-widgets/base",
            "_view_module_version": "1.2.0",
            "_view_name": "LayoutView",
            "align_content": null,
            "align_items": null,
            "align_self": null,
            "border": null,
            "bottom": null,
            "display": null,
            "flex": null,
            "flex_flow": null,
            "grid_area": null,
            "grid_auto_columns": null,
            "grid_auto_flow": null,
            "grid_auto_rows": null,
            "grid_column": null,
            "grid_gap": null,
            "grid_row": null,
            "grid_template_areas": null,
            "grid_template_columns": null,
            "grid_template_rows": null,
            "height": null,
            "justify_content": null,
            "justify_items": null,
            "left": null,
            "margin": null,
            "max_height": null,
            "max_width": null,
            "min_height": null,
            "min_width": null,
            "object_fit": null,
            "object_position": null,
            "order": null,
            "overflow": null,
            "overflow_x": null,
            "overflow_y": null,
            "padding": null,
            "right": null,
            "top": null,
            "visibility": null,
            "width": null
          }
        },
        "2c90fce1a8564c3d82afdb8d4a0f325f": {
          "model_module": "@jupyter-widgets/base",
          "model_name": "LayoutModel",
          "model_module_version": "1.2.0",
          "state": {
            "_model_module": "@jupyter-widgets/base",
            "_model_module_version": "1.2.0",
            "_model_name": "LayoutModel",
            "_view_count": null,
            "_view_module": "@jupyter-widgets/base",
            "_view_module_version": "1.2.0",
            "_view_name": "LayoutView",
            "align_content": null,
            "align_items": null,
            "align_self": null,
            "border": null,
            "bottom": null,
            "display": null,
            "flex": null,
            "flex_flow": null,
            "grid_area": null,
            "grid_auto_columns": null,
            "grid_auto_flow": null,
            "grid_auto_rows": null,
            "grid_column": null,
            "grid_gap": null,
            "grid_row": null,
            "grid_template_areas": null,
            "grid_template_columns": null,
            "grid_template_rows": null,
            "height": null,
            "justify_content": null,
            "justify_items": null,
            "left": null,
            "margin": null,
            "max_height": null,
            "max_width": null,
            "min_height": null,
            "min_width": null,
            "object_fit": null,
            "object_position": null,
            "order": null,
            "overflow": null,
            "overflow_x": null,
            "overflow_y": null,
            "padding": null,
            "right": null,
            "top": null,
            "visibility": null,
            "width": null
          }
        },
        "3f609351c088418c8c4038b6329becdb": {
          "model_module": "@jupyter-widgets/controls",
          "model_name": "DescriptionStyleModel",
          "model_module_version": "1.5.0",
          "state": {
            "_model_module": "@jupyter-widgets/controls",
            "_model_module_version": "1.5.0",
            "_model_name": "DescriptionStyleModel",
            "_view_count": null,
            "_view_module": "@jupyter-widgets/base",
            "_view_module_version": "1.2.0",
            "_view_name": "StyleView",
            "description_width": ""
          }
        },
        "4e6a4d3bf67c461eafc4e2c3cca4845f": {
          "model_module": "@jupyter-widgets/base",
          "model_name": "LayoutModel",
          "model_module_version": "1.2.0",
          "state": {
            "_model_module": "@jupyter-widgets/base",
            "_model_module_version": "1.2.0",
            "_model_name": "LayoutModel",
            "_view_count": null,
            "_view_module": "@jupyter-widgets/base",
            "_view_module_version": "1.2.0",
            "_view_name": "LayoutView",
            "align_content": null,
            "align_items": null,
            "align_self": null,
            "border": null,
            "bottom": null,
            "display": null,
            "flex": null,
            "flex_flow": null,
            "grid_area": null,
            "grid_auto_columns": null,
            "grid_auto_flow": null,
            "grid_auto_rows": null,
            "grid_column": null,
            "grid_gap": null,
            "grid_row": null,
            "grid_template_areas": null,
            "grid_template_columns": null,
            "grid_template_rows": null,
            "height": null,
            "justify_content": null,
            "justify_items": null,
            "left": null,
            "margin": null,
            "max_height": null,
            "max_width": null,
            "min_height": null,
            "min_width": null,
            "object_fit": null,
            "object_position": null,
            "order": null,
            "overflow": null,
            "overflow_x": null,
            "overflow_y": null,
            "padding": null,
            "right": null,
            "top": null,
            "visibility": null,
            "width": null
          }
        },
        "b1efe213f8aa4c76970bcb65d8010068": {
          "model_module": "@jupyter-widgets/controls",
          "model_name": "ProgressStyleModel",
          "model_module_version": "1.5.0",
          "state": {
            "_model_module": "@jupyter-widgets/controls",
            "_model_module_version": "1.5.0",
            "_model_name": "ProgressStyleModel",
            "_view_count": null,
            "_view_module": "@jupyter-widgets/base",
            "_view_module_version": "1.2.0",
            "_view_name": "StyleView",
            "bar_color": null,
            "description_width": ""
          }
        },
        "9bae6f5c3d53474f9c4f805f3be3e726": {
          "model_module": "@jupyter-widgets/base",
          "model_name": "LayoutModel",
          "model_module_version": "1.2.0",
          "state": {
            "_model_module": "@jupyter-widgets/base",
            "_model_module_version": "1.2.0",
            "_model_name": "LayoutModel",
            "_view_count": null,
            "_view_module": "@jupyter-widgets/base",
            "_view_module_version": "1.2.0",
            "_view_name": "LayoutView",
            "align_content": null,
            "align_items": null,
            "align_self": null,
            "border": null,
            "bottom": null,
            "display": null,
            "flex": null,
            "flex_flow": null,
            "grid_area": null,
            "grid_auto_columns": null,
            "grid_auto_flow": null,
            "grid_auto_rows": null,
            "grid_column": null,
            "grid_gap": null,
            "grid_row": null,
            "grid_template_areas": null,
            "grid_template_columns": null,
            "grid_template_rows": null,
            "height": null,
            "justify_content": null,
            "justify_items": null,
            "left": null,
            "margin": null,
            "max_height": null,
            "max_width": null,
            "min_height": null,
            "min_width": null,
            "object_fit": null,
            "object_position": null,
            "order": null,
            "overflow": null,
            "overflow_x": null,
            "overflow_y": null,
            "padding": null,
            "right": null,
            "top": null,
            "visibility": null,
            "width": null
          }
        },
        "8611442cfc78480b894f322685e7676f": {
          "model_module": "@jupyter-widgets/controls",
          "model_name": "DescriptionStyleModel",
          "model_module_version": "1.5.0",
          "state": {
            "_model_module": "@jupyter-widgets/controls",
            "_model_module_version": "1.5.0",
            "_model_name": "DescriptionStyleModel",
            "_view_count": null,
            "_view_module": "@jupyter-widgets/base",
            "_view_module_version": "1.2.0",
            "_view_name": "StyleView",
            "description_width": ""
          }
        },
        "bcd1fc20cb5246f8ab9070b8db9c568f": {
          "model_module": "@jupyter-widgets/controls",
          "model_name": "HBoxModel",
          "model_module_version": "1.5.0",
          "state": {
            "_dom_classes": [],
            "_model_module": "@jupyter-widgets/controls",
            "_model_module_version": "1.5.0",
            "_model_name": "HBoxModel",
            "_view_count": null,
            "_view_module": "@jupyter-widgets/controls",
            "_view_module_version": "1.5.0",
            "_view_name": "HBoxView",
            "box_style": "",
            "children": [
              "IPY_MODEL_f1e2b9448b67447cba6d285442db5a1c",
              "IPY_MODEL_7850f8a36ef9409a84d51b76de1335e1",
              "IPY_MODEL_e195ffaac05442febc0ae69655e23f86"
            ],
            "layout": "IPY_MODEL_0ec8529b64ec4b139cbc4cd9d68a6140"
          }
        },
        "f1e2b9448b67447cba6d285442db5a1c": {
          "model_module": "@jupyter-widgets/controls",
          "model_name": "HTMLModel",
          "model_module_version": "1.5.0",
          "state": {
            "_dom_classes": [],
            "_model_module": "@jupyter-widgets/controls",
            "_model_module_version": "1.5.0",
            "_model_name": "HTMLModel",
            "_view_count": null,
            "_view_module": "@jupyter-widgets/controls",
            "_view_module_version": "1.5.0",
            "_view_name": "HTMLView",
            "description": "",
            "description_tooltip": null,
            "layout": "IPY_MODEL_56525033530d4a5a86ac319394db70ed",
            "placeholder": "​",
            "style": "IPY_MODEL_a59d4bde2cb6464a86b1a01cb4550275",
            "value": "Map: 100%"
          }
        },
        "7850f8a36ef9409a84d51b76de1335e1": {
          "model_module": "@jupyter-widgets/controls",
          "model_name": "FloatProgressModel",
          "model_module_version": "1.5.0",
          "state": {
            "_dom_classes": [],
            "_model_module": "@jupyter-widgets/controls",
            "_model_module_version": "1.5.0",
            "_model_name": "FloatProgressModel",
            "_view_count": null,
            "_view_module": "@jupyter-widgets/controls",
            "_view_module_version": "1.5.0",
            "_view_name": "ProgressView",
            "bar_style": "success",
            "description": "",
            "description_tooltip": null,
            "layout": "IPY_MODEL_62ba6afdef0f4a2e99281fa668d24362",
            "max": 10,
            "min": 0,
            "orientation": "horizontal",
            "style": "IPY_MODEL_3f81b7f8df8d4f35abc53255ef7a54c7",
            "value": 10
          }
        },
        "e195ffaac05442febc0ae69655e23f86": {
          "model_module": "@jupyter-widgets/controls",
          "model_name": "HTMLModel",
          "model_module_version": "1.5.0",
          "state": {
            "_dom_classes": [],
            "_model_module": "@jupyter-widgets/controls",
            "_model_module_version": "1.5.0",
            "_model_name": "HTMLModel",
            "_view_count": null,
            "_view_module": "@jupyter-widgets/controls",
            "_view_module_version": "1.5.0",
            "_view_name": "HTMLView",
            "description": "",
            "description_tooltip": null,
            "layout": "IPY_MODEL_8ffd92531cd94e5aa5f7070820a348c9",
            "placeholder": "​",
            "style": "IPY_MODEL_e0593cecbe9e40a2afeeff1101eee609",
            "value": " 10/10 [00:00&lt;00:00, 396.17 examples/s]"
          }
        },
        "0ec8529b64ec4b139cbc4cd9d68a6140": {
          "model_module": "@jupyter-widgets/base",
          "model_name": "LayoutModel",
          "model_module_version": "1.2.0",
          "state": {
            "_model_module": "@jupyter-widgets/base",
            "_model_module_version": "1.2.0",
            "_model_name": "LayoutModel",
            "_view_count": null,
            "_view_module": "@jupyter-widgets/base",
            "_view_module_version": "1.2.0",
            "_view_name": "LayoutView",
            "align_content": null,
            "align_items": null,
            "align_self": null,
            "border": null,
            "bottom": null,
            "display": null,
            "flex": null,
            "flex_flow": null,
            "grid_area": null,
            "grid_auto_columns": null,
            "grid_auto_flow": null,
            "grid_auto_rows": null,
            "grid_column": null,
            "grid_gap": null,
            "grid_row": null,
            "grid_template_areas": null,
            "grid_template_columns": null,
            "grid_template_rows": null,
            "height": null,
            "justify_content": null,
            "justify_items": null,
            "left": null,
            "margin": null,
            "max_height": null,
            "max_width": null,
            "min_height": null,
            "min_width": null,
            "object_fit": null,
            "object_position": null,
            "order": null,
            "overflow": null,
            "overflow_x": null,
            "overflow_y": null,
            "padding": null,
            "right": null,
            "top": null,
            "visibility": null,
            "width": null
          }
        },
        "56525033530d4a5a86ac319394db70ed": {
          "model_module": "@jupyter-widgets/base",
          "model_name": "LayoutModel",
          "model_module_version": "1.2.0",
          "state": {
            "_model_module": "@jupyter-widgets/base",
            "_model_module_version": "1.2.0",
            "_model_name": "LayoutModel",
            "_view_count": null,
            "_view_module": "@jupyter-widgets/base",
            "_view_module_version": "1.2.0",
            "_view_name": "LayoutView",
            "align_content": null,
            "align_items": null,
            "align_self": null,
            "border": null,
            "bottom": null,
            "display": null,
            "flex": null,
            "flex_flow": null,
            "grid_area": null,
            "grid_auto_columns": null,
            "grid_auto_flow": null,
            "grid_auto_rows": null,
            "grid_column": null,
            "grid_gap": null,
            "grid_row": null,
            "grid_template_areas": null,
            "grid_template_columns": null,
            "grid_template_rows": null,
            "height": null,
            "justify_content": null,
            "justify_items": null,
            "left": null,
            "margin": null,
            "max_height": null,
            "max_width": null,
            "min_height": null,
            "min_width": null,
            "object_fit": null,
            "object_position": null,
            "order": null,
            "overflow": null,
            "overflow_x": null,
            "overflow_y": null,
            "padding": null,
            "right": null,
            "top": null,
            "visibility": null,
            "width": null
          }
        },
        "a59d4bde2cb6464a86b1a01cb4550275": {
          "model_module": "@jupyter-widgets/controls",
          "model_name": "DescriptionStyleModel",
          "model_module_version": "1.5.0",
          "state": {
            "_model_module": "@jupyter-widgets/controls",
            "_model_module_version": "1.5.0",
            "_model_name": "DescriptionStyleModel",
            "_view_count": null,
            "_view_module": "@jupyter-widgets/base",
            "_view_module_version": "1.2.0",
            "_view_name": "StyleView",
            "description_width": ""
          }
        },
        "62ba6afdef0f4a2e99281fa668d24362": {
          "model_module": "@jupyter-widgets/base",
          "model_name": "LayoutModel",
          "model_module_version": "1.2.0",
          "state": {
            "_model_module": "@jupyter-widgets/base",
            "_model_module_version": "1.2.0",
            "_model_name": "LayoutModel",
            "_view_count": null,
            "_view_module": "@jupyter-widgets/base",
            "_view_module_version": "1.2.0",
            "_view_name": "LayoutView",
            "align_content": null,
            "align_items": null,
            "align_self": null,
            "border": null,
            "bottom": null,
            "display": null,
            "flex": null,
            "flex_flow": null,
            "grid_area": null,
            "grid_auto_columns": null,
            "grid_auto_flow": null,
            "grid_auto_rows": null,
            "grid_column": null,
            "grid_gap": null,
            "grid_row": null,
            "grid_template_areas": null,
            "grid_template_columns": null,
            "grid_template_rows": null,
            "height": null,
            "justify_content": null,
            "justify_items": null,
            "left": null,
            "margin": null,
            "max_height": null,
            "max_width": null,
            "min_height": null,
            "min_width": null,
            "object_fit": null,
            "object_position": null,
            "order": null,
            "overflow": null,
            "overflow_x": null,
            "overflow_y": null,
            "padding": null,
            "right": null,
            "top": null,
            "visibility": null,
            "width": null
          }
        },
        "3f81b7f8df8d4f35abc53255ef7a54c7": {
          "model_module": "@jupyter-widgets/controls",
          "model_name": "ProgressStyleModel",
          "model_module_version": "1.5.0",
          "state": {
            "_model_module": "@jupyter-widgets/controls",
            "_model_module_version": "1.5.0",
            "_model_name": "ProgressStyleModel",
            "_view_count": null,
            "_view_module": "@jupyter-widgets/base",
            "_view_module_version": "1.2.0",
            "_view_name": "StyleView",
            "bar_color": null,
            "description_width": ""
          }
        },
        "8ffd92531cd94e5aa5f7070820a348c9": {
          "model_module": "@jupyter-widgets/base",
          "model_name": "LayoutModel",
          "model_module_version": "1.2.0",
          "state": {
            "_model_module": "@jupyter-widgets/base",
            "_model_module_version": "1.2.0",
            "_model_name": "LayoutModel",
            "_view_count": null,
            "_view_module": "@jupyter-widgets/base",
            "_view_module_version": "1.2.0",
            "_view_name": "LayoutView",
            "align_content": null,
            "align_items": null,
            "align_self": null,
            "border": null,
            "bottom": null,
            "display": null,
            "flex": null,
            "flex_flow": null,
            "grid_area": null,
            "grid_auto_columns": null,
            "grid_auto_flow": null,
            "grid_auto_rows": null,
            "grid_column": null,
            "grid_gap": null,
            "grid_row": null,
            "grid_template_areas": null,
            "grid_template_columns": null,
            "grid_template_rows": null,
            "height": null,
            "justify_content": null,
            "justify_items": null,
            "left": null,
            "margin": null,
            "max_height": null,
            "max_width": null,
            "min_height": null,
            "min_width": null,
            "object_fit": null,
            "object_position": null,
            "order": null,
            "overflow": null,
            "overflow_x": null,
            "overflow_y": null,
            "padding": null,
            "right": null,
            "top": null,
            "visibility": null,
            "width": null
          }
        },
        "e0593cecbe9e40a2afeeff1101eee609": {
          "model_module": "@jupyter-widgets/controls",
          "model_name": "DescriptionStyleModel",
          "model_module_version": "1.5.0",
          "state": {
            "_model_module": "@jupyter-widgets/controls",
            "_model_module_version": "1.5.0",
            "_model_name": "DescriptionStyleModel",
            "_view_count": null,
            "_view_module": "@jupyter-widgets/base",
            "_view_module_version": "1.2.0",
            "_view_name": "StyleView",
            "description_width": ""
          }
        },
        "61d987af96b6457ca0538ed22f915cfe": {
          "model_module": "@jupyter-widgets/controls",
          "model_name": "HBoxModel",
          "model_module_version": "1.5.0",
          "state": {
            "_dom_classes": [],
            "_model_module": "@jupyter-widgets/controls",
            "_model_module_version": "1.5.0",
            "_model_name": "HBoxModel",
            "_view_count": null,
            "_view_module": "@jupyter-widgets/controls",
            "_view_module_version": "1.5.0",
            "_view_name": "HBoxView",
            "box_style": "",
            "children": [
              "IPY_MODEL_debb9962006243e6a5a52327103c85d8",
              "IPY_MODEL_4fa79c7d2201489688f8601025e03d63",
              "IPY_MODEL_8a0a404e4d0d4f049af5b7d9ddd7d5f2"
            ],
            "layout": "IPY_MODEL_4520081314b646da9a0d90328c7e35ae"
          }
        },
        "debb9962006243e6a5a52327103c85d8": {
          "model_module": "@jupyter-widgets/controls",
          "model_name": "HTMLModel",
          "model_module_version": "1.5.0",
          "state": {
            "_dom_classes": [],
            "_model_module": "@jupyter-widgets/controls",
            "_model_module_version": "1.5.0",
            "_model_name": "HTMLModel",
            "_view_count": null,
            "_view_module": "@jupyter-widgets/controls",
            "_view_module_version": "1.5.0",
            "_view_name": "HTMLView",
            "description": "",
            "description_tooltip": null,
            "layout": "IPY_MODEL_9e0d364c107b4a7f8d3e7e711736b7d6",
            "placeholder": "​",
            "style": "IPY_MODEL_98fcea6ae9dc4f1b9a035a69060dcb87",
            "value": "Map: 100%"
          }
        },
        "4fa79c7d2201489688f8601025e03d63": {
          "model_module": "@jupyter-widgets/controls",
          "model_name": "FloatProgressModel",
          "model_module_version": "1.5.0",
          "state": {
            "_dom_classes": [],
            "_model_module": "@jupyter-widgets/controls",
            "_model_module_version": "1.5.0",
            "_model_name": "FloatProgressModel",
            "_view_count": null,
            "_view_module": "@jupyter-widgets/controls",
            "_view_module_version": "1.5.0",
            "_view_name": "ProgressView",
            "bar_style": "success",
            "description": "",
            "description_tooltip": null,
            "layout": "IPY_MODEL_7ad5e2b087694c0f8cc124dc90e93afd",
            "max": 10,
            "min": 0,
            "orientation": "horizontal",
            "style": "IPY_MODEL_3fb22056367b4fdb894f115be3a9c0ef",
            "value": 10
          }
        },
        "8a0a404e4d0d4f049af5b7d9ddd7d5f2": {
          "model_module": "@jupyter-widgets/controls",
          "model_name": "HTMLModel",
          "model_module_version": "1.5.0",
          "state": {
            "_dom_classes": [],
            "_model_module": "@jupyter-widgets/controls",
            "_model_module_version": "1.5.0",
            "_model_name": "HTMLModel",
            "_view_count": null,
            "_view_module": "@jupyter-widgets/controls",
            "_view_module_version": "1.5.0",
            "_view_name": "HTMLView",
            "description": "",
            "description_tooltip": null,
            "layout": "IPY_MODEL_5aacfaa5aae04e9791eddb1597afe067",
            "placeholder": "​",
            "style": "IPY_MODEL_42a0210fa799456fa863b8433afbe7df",
            "value": " 10/10 [00:01&lt;00:00,  1.88s/ examples]"
          }
        },
        "4520081314b646da9a0d90328c7e35ae": {
          "model_module": "@jupyter-widgets/base",
          "model_name": "LayoutModel",
          "model_module_version": "1.2.0",
          "state": {
            "_model_module": "@jupyter-widgets/base",
            "_model_module_version": "1.2.0",
            "_model_name": "LayoutModel",
            "_view_count": null,
            "_view_module": "@jupyter-widgets/base",
            "_view_module_version": "1.2.0",
            "_view_name": "LayoutView",
            "align_content": null,
            "align_items": null,
            "align_self": null,
            "border": null,
            "bottom": null,
            "display": null,
            "flex": null,
            "flex_flow": null,
            "grid_area": null,
            "grid_auto_columns": null,
            "grid_auto_flow": null,
            "grid_auto_rows": null,
            "grid_column": null,
            "grid_gap": null,
            "grid_row": null,
            "grid_template_areas": null,
            "grid_template_columns": null,
            "grid_template_rows": null,
            "height": null,
            "justify_content": null,
            "justify_items": null,
            "left": null,
            "margin": null,
            "max_height": null,
            "max_width": null,
            "min_height": null,
            "min_width": null,
            "object_fit": null,
            "object_position": null,
            "order": null,
            "overflow": null,
            "overflow_x": null,
            "overflow_y": null,
            "padding": null,
            "right": null,
            "top": null,
            "visibility": null,
            "width": null
          }
        },
        "9e0d364c107b4a7f8d3e7e711736b7d6": {
          "model_module": "@jupyter-widgets/base",
          "model_name": "LayoutModel",
          "model_module_version": "1.2.0",
          "state": {
            "_model_module": "@jupyter-widgets/base",
            "_model_module_version": "1.2.0",
            "_model_name": "LayoutModel",
            "_view_count": null,
            "_view_module": "@jupyter-widgets/base",
            "_view_module_version": "1.2.0",
            "_view_name": "LayoutView",
            "align_content": null,
            "align_items": null,
            "align_self": null,
            "border": null,
            "bottom": null,
            "display": null,
            "flex": null,
            "flex_flow": null,
            "grid_area": null,
            "grid_auto_columns": null,
            "grid_auto_flow": null,
            "grid_auto_rows": null,
            "grid_column": null,
            "grid_gap": null,
            "grid_row": null,
            "grid_template_areas": null,
            "grid_template_columns": null,
            "grid_template_rows": null,
            "height": null,
            "justify_content": null,
            "justify_items": null,
            "left": null,
            "margin": null,
            "max_height": null,
            "max_width": null,
            "min_height": null,
            "min_width": null,
            "object_fit": null,
            "object_position": null,
            "order": null,
            "overflow": null,
            "overflow_x": null,
            "overflow_y": null,
            "padding": null,
            "right": null,
            "top": null,
            "visibility": null,
            "width": null
          }
        },
        "98fcea6ae9dc4f1b9a035a69060dcb87": {
          "model_module": "@jupyter-widgets/controls",
          "model_name": "DescriptionStyleModel",
          "model_module_version": "1.5.0",
          "state": {
            "_model_module": "@jupyter-widgets/controls",
            "_model_module_version": "1.5.0",
            "_model_name": "DescriptionStyleModel",
            "_view_count": null,
            "_view_module": "@jupyter-widgets/base",
            "_view_module_version": "1.2.0",
            "_view_name": "StyleView",
            "description_width": ""
          }
        },
        "7ad5e2b087694c0f8cc124dc90e93afd": {
          "model_module": "@jupyter-widgets/base",
          "model_name": "LayoutModel",
          "model_module_version": "1.2.0",
          "state": {
            "_model_module": "@jupyter-widgets/base",
            "_model_module_version": "1.2.0",
            "_model_name": "LayoutModel",
            "_view_count": null,
            "_view_module": "@jupyter-widgets/base",
            "_view_module_version": "1.2.0",
            "_view_name": "LayoutView",
            "align_content": null,
            "align_items": null,
            "align_self": null,
            "border": null,
            "bottom": null,
            "display": null,
            "flex": null,
            "flex_flow": null,
            "grid_area": null,
            "grid_auto_columns": null,
            "grid_auto_flow": null,
            "grid_auto_rows": null,
            "grid_column": null,
            "grid_gap": null,
            "grid_row": null,
            "grid_template_areas": null,
            "grid_template_columns": null,
            "grid_template_rows": null,
            "height": null,
            "justify_content": null,
            "justify_items": null,
            "left": null,
            "margin": null,
            "max_height": null,
            "max_width": null,
            "min_height": null,
            "min_width": null,
            "object_fit": null,
            "object_position": null,
            "order": null,
            "overflow": null,
            "overflow_x": null,
            "overflow_y": null,
            "padding": null,
            "right": null,
            "top": null,
            "visibility": null,
            "width": null
          }
        },
        "3fb22056367b4fdb894f115be3a9c0ef": {
          "model_module": "@jupyter-widgets/controls",
          "model_name": "ProgressStyleModel",
          "model_module_version": "1.5.0",
          "state": {
            "_model_module": "@jupyter-widgets/controls",
            "_model_module_version": "1.5.0",
            "_model_name": "ProgressStyleModel",
            "_view_count": null,
            "_view_module": "@jupyter-widgets/base",
            "_view_module_version": "1.2.0",
            "_view_name": "StyleView",
            "bar_color": null,
            "description_width": ""
          }
        },
        "5aacfaa5aae04e9791eddb1597afe067": {
          "model_module": "@jupyter-widgets/base",
          "model_name": "LayoutModel",
          "model_module_version": "1.2.0",
          "state": {
            "_model_module": "@jupyter-widgets/base",
            "_model_module_version": "1.2.0",
            "_model_name": "LayoutModel",
            "_view_count": null,
            "_view_module": "@jupyter-widgets/base",
            "_view_module_version": "1.2.0",
            "_view_name": "LayoutView",
            "align_content": null,
            "align_items": null,
            "align_self": null,
            "border": null,
            "bottom": null,
            "display": null,
            "flex": null,
            "flex_flow": null,
            "grid_area": null,
            "grid_auto_columns": null,
            "grid_auto_flow": null,
            "grid_auto_rows": null,
            "grid_column": null,
            "grid_gap": null,
            "grid_row": null,
            "grid_template_areas": null,
            "grid_template_columns": null,
            "grid_template_rows": null,
            "height": null,
            "justify_content": null,
            "justify_items": null,
            "left": null,
            "margin": null,
            "max_height": null,
            "max_width": null,
            "min_height": null,
            "min_width": null,
            "object_fit": null,
            "object_position": null,
            "order": null,
            "overflow": null,
            "overflow_x": null,
            "overflow_y": null,
            "padding": null,
            "right": null,
            "top": null,
            "visibility": null,
            "width": null
          }
        },
        "42a0210fa799456fa863b8433afbe7df": {
          "model_module": "@jupyter-widgets/controls",
          "model_name": "DescriptionStyleModel",
          "model_module_version": "1.5.0",
          "state": {
            "_model_module": "@jupyter-widgets/controls",
            "_model_module_version": "1.5.0",
            "_model_name": "DescriptionStyleModel",
            "_view_count": null,
            "_view_module": "@jupyter-widgets/base",
            "_view_module_version": "1.2.0",
            "_view_name": "StyleView",
            "description_width": ""
          }
        },
        "b1a09acd59be443db6647e5d803d531b": {
          "model_module": "@jupyter-widgets/controls",
          "model_name": "HBoxModel",
          "model_module_version": "1.5.0",
          "state": {
            "_dom_classes": [],
            "_model_module": "@jupyter-widgets/controls",
            "_model_module_version": "1.5.0",
            "_model_name": "HBoxModel",
            "_view_count": null,
            "_view_module": "@jupyter-widgets/controls",
            "_view_module_version": "1.5.0",
            "_view_name": "HBoxView",
            "box_style": "",
            "children": [
              "IPY_MODEL_209c8ebc09ae49f3b3d67f69d6413bdf",
              "IPY_MODEL_91417a9ef992478a8d2afec05ab788ee",
              "IPY_MODEL_3f0150ac5b9447478a16f974ab3c8b1c"
            ],
            "layout": "IPY_MODEL_97b7ffc132694817bdf6fbc2a7655674"
          }
        },
        "209c8ebc09ae49f3b3d67f69d6413bdf": {
          "model_module": "@jupyter-widgets/controls",
          "model_name": "HTMLModel",
          "model_module_version": "1.5.0",
          "state": {
            "_dom_classes": [],
            "_model_module": "@jupyter-widgets/controls",
            "_model_module_version": "1.5.0",
            "_model_name": "HTMLModel",
            "_view_count": null,
            "_view_module": "@jupyter-widgets/controls",
            "_view_module_version": "1.5.0",
            "_view_name": "HTMLView",
            "description": "",
            "description_tooltip": null,
            "layout": "IPY_MODEL_f055e8ce8cc14b7ba822a6cdfabe7787",
            "placeholder": "​",
            "style": "IPY_MODEL_7e51808118b94eb08cbeee957f95f2c2",
            "value": "Map: 100%"
          }
        },
        "91417a9ef992478a8d2afec05ab788ee": {
          "model_module": "@jupyter-widgets/controls",
          "model_name": "FloatProgressModel",
          "model_module_version": "1.5.0",
          "state": {
            "_dom_classes": [],
            "_model_module": "@jupyter-widgets/controls",
            "_model_module_version": "1.5.0",
            "_model_name": "FloatProgressModel",
            "_view_count": null,
            "_view_module": "@jupyter-widgets/controls",
            "_view_module_version": "1.5.0",
            "_view_name": "ProgressView",
            "bar_style": "success",
            "description": "",
            "description_tooltip": null,
            "layout": "IPY_MODEL_2a8b691031a94b3abbe442a476cb1184",
            "max": 10,
            "min": 0,
            "orientation": "horizontal",
            "style": "IPY_MODEL_48fdb17f2c814643a53c9bb7bc3d27cd",
            "value": 10
          }
        },
        "3f0150ac5b9447478a16f974ab3c8b1c": {
          "model_module": "@jupyter-widgets/controls",
          "model_name": "HTMLModel",
          "model_module_version": "1.5.0",
          "state": {
            "_dom_classes": [],
            "_model_module": "@jupyter-widgets/controls",
            "_model_module_version": "1.5.0",
            "_model_name": "HTMLModel",
            "_view_count": null,
            "_view_module": "@jupyter-widgets/controls",
            "_view_module_version": "1.5.0",
            "_view_name": "HTMLView",
            "description": "",
            "description_tooltip": null,
            "layout": "IPY_MODEL_f4ac49b8b3854d84923a55e6fcd9e8bb",
            "placeholder": "​",
            "style": "IPY_MODEL_1f22d9e9263c40a1ae701f452fb38aa7",
            "value": " 10/10 [00:03&lt;00:00,  3.94 examples/s]"
          }
        },
        "97b7ffc132694817bdf6fbc2a7655674": {
          "model_module": "@jupyter-widgets/base",
          "model_name": "LayoutModel",
          "model_module_version": "1.2.0",
          "state": {
            "_model_module": "@jupyter-widgets/base",
            "_model_module_version": "1.2.0",
            "_model_name": "LayoutModel",
            "_view_count": null,
            "_view_module": "@jupyter-widgets/base",
            "_view_module_version": "1.2.0",
            "_view_name": "LayoutView",
            "align_content": null,
            "align_items": null,
            "align_self": null,
            "border": null,
            "bottom": null,
            "display": null,
            "flex": null,
            "flex_flow": null,
            "grid_area": null,
            "grid_auto_columns": null,
            "grid_auto_flow": null,
            "grid_auto_rows": null,
            "grid_column": null,
            "grid_gap": null,
            "grid_row": null,
            "grid_template_areas": null,
            "grid_template_columns": null,
            "grid_template_rows": null,
            "height": null,
            "justify_content": null,
            "justify_items": null,
            "left": null,
            "margin": null,
            "max_height": null,
            "max_width": null,
            "min_height": null,
            "min_width": null,
            "object_fit": null,
            "object_position": null,
            "order": null,
            "overflow": null,
            "overflow_x": null,
            "overflow_y": null,
            "padding": null,
            "right": null,
            "top": null,
            "visibility": null,
            "width": null
          }
        },
        "f055e8ce8cc14b7ba822a6cdfabe7787": {
          "model_module": "@jupyter-widgets/base",
          "model_name": "LayoutModel",
          "model_module_version": "1.2.0",
          "state": {
            "_model_module": "@jupyter-widgets/base",
            "_model_module_version": "1.2.0",
            "_model_name": "LayoutModel",
            "_view_count": null,
            "_view_module": "@jupyter-widgets/base",
            "_view_module_version": "1.2.0",
            "_view_name": "LayoutView",
            "align_content": null,
            "align_items": null,
            "align_self": null,
            "border": null,
            "bottom": null,
            "display": null,
            "flex": null,
            "flex_flow": null,
            "grid_area": null,
            "grid_auto_columns": null,
            "grid_auto_flow": null,
            "grid_auto_rows": null,
            "grid_column": null,
            "grid_gap": null,
            "grid_row": null,
            "grid_template_areas": null,
            "grid_template_columns": null,
            "grid_template_rows": null,
            "height": null,
            "justify_content": null,
            "justify_items": null,
            "left": null,
            "margin": null,
            "max_height": null,
            "max_width": null,
            "min_height": null,
            "min_width": null,
            "object_fit": null,
            "object_position": null,
            "order": null,
            "overflow": null,
            "overflow_x": null,
            "overflow_y": null,
            "padding": null,
            "right": null,
            "top": null,
            "visibility": null,
            "width": null
          }
        },
        "7e51808118b94eb08cbeee957f95f2c2": {
          "model_module": "@jupyter-widgets/controls",
          "model_name": "DescriptionStyleModel",
          "model_module_version": "1.5.0",
          "state": {
            "_model_module": "@jupyter-widgets/controls",
            "_model_module_version": "1.5.0",
            "_model_name": "DescriptionStyleModel",
            "_view_count": null,
            "_view_module": "@jupyter-widgets/base",
            "_view_module_version": "1.2.0",
            "_view_name": "StyleView",
            "description_width": ""
          }
        },
        "2a8b691031a94b3abbe442a476cb1184": {
          "model_module": "@jupyter-widgets/base",
          "model_name": "LayoutModel",
          "model_module_version": "1.2.0",
          "state": {
            "_model_module": "@jupyter-widgets/base",
            "_model_module_version": "1.2.0",
            "_model_name": "LayoutModel",
            "_view_count": null,
            "_view_module": "@jupyter-widgets/base",
            "_view_module_version": "1.2.0",
            "_view_name": "LayoutView",
            "align_content": null,
            "align_items": null,
            "align_self": null,
            "border": null,
            "bottom": null,
            "display": null,
            "flex": null,
            "flex_flow": null,
            "grid_area": null,
            "grid_auto_columns": null,
            "grid_auto_flow": null,
            "grid_auto_rows": null,
            "grid_column": null,
            "grid_gap": null,
            "grid_row": null,
            "grid_template_areas": null,
            "grid_template_columns": null,
            "grid_template_rows": null,
            "height": null,
            "justify_content": null,
            "justify_items": null,
            "left": null,
            "margin": null,
            "max_height": null,
            "max_width": null,
            "min_height": null,
            "min_width": null,
            "object_fit": null,
            "object_position": null,
            "order": null,
            "overflow": null,
            "overflow_x": null,
            "overflow_y": null,
            "padding": null,
            "right": null,
            "top": null,
            "visibility": null,
            "width": null
          }
        },
        "48fdb17f2c814643a53c9bb7bc3d27cd": {
          "model_module": "@jupyter-widgets/controls",
          "model_name": "ProgressStyleModel",
          "model_module_version": "1.5.0",
          "state": {
            "_model_module": "@jupyter-widgets/controls",
            "_model_module_version": "1.5.0",
            "_model_name": "ProgressStyleModel",
            "_view_count": null,
            "_view_module": "@jupyter-widgets/base",
            "_view_module_version": "1.2.0",
            "_view_name": "StyleView",
            "bar_color": null,
            "description_width": ""
          }
        },
        "f4ac49b8b3854d84923a55e6fcd9e8bb": {
          "model_module": "@jupyter-widgets/base",
          "model_name": "LayoutModel",
          "model_module_version": "1.2.0",
          "state": {
            "_model_module": "@jupyter-widgets/base",
            "_model_module_version": "1.2.0",
            "_model_name": "LayoutModel",
            "_view_count": null,
            "_view_module": "@jupyter-widgets/base",
            "_view_module_version": "1.2.0",
            "_view_name": "LayoutView",
            "align_content": null,
            "align_items": null,
            "align_self": null,
            "border": null,
            "bottom": null,
            "display": null,
            "flex": null,
            "flex_flow": null,
            "grid_area": null,
            "grid_auto_columns": null,
            "grid_auto_flow": null,
            "grid_auto_rows": null,
            "grid_column": null,
            "grid_gap": null,
            "grid_row": null,
            "grid_template_areas": null,
            "grid_template_columns": null,
            "grid_template_rows": null,
            "height": null,
            "justify_content": null,
            "justify_items": null,
            "left": null,
            "margin": null,
            "max_height": null,
            "max_width": null,
            "min_height": null,
            "min_width": null,
            "object_fit": null,
            "object_position": null,
            "order": null,
            "overflow": null,
            "overflow_x": null,
            "overflow_y": null,
            "padding": null,
            "right": null,
            "top": null,
            "visibility": null,
            "width": null
          }
        },
        "1f22d9e9263c40a1ae701f452fb38aa7": {
          "model_module": "@jupyter-widgets/controls",
          "model_name": "DescriptionStyleModel",
          "model_module_version": "1.5.0",
          "state": {
            "_model_module": "@jupyter-widgets/controls",
            "_model_module_version": "1.5.0",
            "_model_name": "DescriptionStyleModel",
            "_view_count": null,
            "_view_module": "@jupyter-widgets/base",
            "_view_module_version": "1.2.0",
            "_view_name": "StyleView",
            "description_width": ""
          }
        }
      }
    }
  },
  "nbformat": 4,
  "nbformat_minor": 0
}